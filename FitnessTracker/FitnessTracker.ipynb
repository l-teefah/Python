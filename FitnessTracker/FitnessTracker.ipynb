{
 "cells": [
  {
   "cell_type": "markdown",
   "id": "9d5e93e1-4fbc-489b-b1ee-07a0ca139578",
   "metadata": {},
   "source": [
    "# Build Your Own Fitness Tracker\n",
    "\n",
    "In this code-along, we'll learn how to combine data analysis and Python to explore and visualize fitness data.\n",
    "\n",
    "The data is available in this workbook as [fitness_data.csv](fitness_data.csv). It is synthetic data consisting of the following columns:\n",
    "\n",
    "### Data Dictionary\n",
    "\n",
    "| Column Name | Description | Additional Context |\n",
    "|------------|-------------|-------------------|\n",
    "| `date` | The specific day of data recording | Allows tracking changes and patterns over the 185-day period |\n",
    "| `steps` | Total daily step count | The common goal of 10,000 steps serves as a reference point for daily activity level assessment |\n",
    "| `weight` | Body weight measurement (in kg) | Tracked daily to monitor body mass changes over time |\n",
    "| `resting_heart_rate` | Heart beats per minute while at complete rest | Lower values typically indicate better cardiovascular fitness |\n",
    "| `sleep_hours` | Total daily sleep duration | Includes all sleep phases; adults typically need 7-9 hours per night for optimal health |\n",
    "| `active_minutes` | Total time spent in physical activity | Encompasses all activity intensities throughout the day |\n",
    "| `total_calories_burned` | Total daily energy expenditure | Combines both resting metabolic rate and activity-based calorie burn |\n",
    "| `fat_burn_minutes` | Time in 50-69% of max heart rate zone | Lower intensity zone optimal for building base endurance and metabolizing fat |\n",
    "| `cardio_minutes` | Time in 70-84% of max heart rate zone | Moderate to high intensity zone that improves cardiovascular capacity |\n",
    "| `peak_minutes` | Time in 85%+ of max heart rate zone | Highest intensity zone, typically reached during interval training or sprints |\n",
    "| `workout_type` | Category of exercise performed | Helps analyze the distribution and effectiveness of different activities |\n",
    "| `workout_duration` | Length of exercise session in minutes | Used to analyze exercise patterns and time commitment |\n",
    "| `workout_calories` | Energy expended during workout | Specifically tracks calories burned during structured exercise sessions |\n",
    "| `workout_avg_hr` | Mean heart rate during exercise | Indicates the overall intensity of the workout session |\n",
    "| `workout_max_hr` | Highest heart rate during exercise | Shows the point of maximum exertion during the workout |\n",
    "\n",
    "Most fitness tracking apps and devices contain variations of the above columns, and allow you to export the data for your own analysis.\n",
    "\n",
    "Let's dive in!"
   ]
  },
  {
   "cell_type": "markdown",
   "id": "62c9d371-dd07-49a1-b78a-d3f5f68fef4a",
   "metadata": {},
   "source": [
    "## Task 0: Setup\n",
    "\n",
    "We're going to use `pandas` for data analysis and `matplotlib` & `plotly.express` for interactive data visualization."
   ]
  },
  {
   "cell_type": "code",
   "execution_count": 64,
   "id": "eb9a821b-c64c-4c85-a204-defff95ec821",
   "metadata": {
    "executionCancelledAt": null,
    "executionTime": 48,
    "lastExecutedAt": 1736870704691,
    "lastExecutedByKernel": "0b41652a-fd66-48df-b288-01dc41aeffa1",
    "lastScheduledRunId": null,
    "lastSuccessfullyExecutedCode": "# Import necessary packages\nimport pandas as pd\nimport plotly.express as pe\n\n"
   },
   "outputs": [],
   "source": [
    "# Import necessary packages\n",
    "import pandas as pd\n",
    "import plotly.express as pe\n",
    "import matplotlib.pyplot as plt\n"
   ]
  },
  {
   "cell_type": "markdown",
   "id": "5f7916f2-b5de-4d93-85df-a30614322c44",
   "metadata": {},
   "source": [
    "## Task 1: Reading in the data 📖\n",
    "\n",
    "Let's read in and display the `fitness_data.csv` file using `pandas`."
   ]
  },
  {
   "cell_type": "code",
   "execution_count": 65,
   "id": "21d6b249-c40f-4b67-93c3-66fe1d15f6bd",
   "metadata": {
    "executionCancelledAt": null,
    "executionTime": 54,
    "lastExecutedAt": 1736870824640,
    "lastExecutedByKernel": "0b41652a-fd66-48df-b288-01dc41aeffa1",
    "lastScheduledRunId": null,
    "lastSuccessfullyExecutedCode": "# Read in the dataset \"fitness_data.csv\"\ndf = pd.read_csv('fitness_data.csv')\n\n# Display the data\ndf.head",
    "outputsMetadata": {
     "0": {
      "height": 550,
      "tableState": {
       "customFilter": {
        "const": {
         "type": "boolean",
         "valid": true,
         "value": true
        },
        "id": "43472dca-db1e-490d-a769-f22a01f25c16",
        "nodeType": "const"
       },
       "quickFilterText": ""
      },
      "type": "dataFrame"
     }
    }
   },
   "outputs": [
    {
     "data": {
      "text/plain": [
       "<bound method NDFrame.head of          date     weight    steps  resting_heart_rate  sleep_hours  \\\n",
       "0      7/1/24  75.248357   6829.0               63.68         7.03   \n",
       "1      7/2/24  74.914564   7741.0               58.63         7.85   \n",
       "2      7/3/24  75.140000   8227.0               58.47         7.53   \n",
       "3      7/4/24  75.200000  13262.0               72.51         4.63   \n",
       "4      7/5/24  75.270000   9377.0               73.32         5.38   \n",
       "..        ...        ...      ...                 ...          ...   \n",
       "180  12/28/24  77.690000   5883.0               62.33         9.78   \n",
       "181  12/29/24  77.610000   8639.0               66.12         6.55   \n",
       "182  12/30/24  77.490000   8587.0               61.23         8.02   \n",
       "183  12/31/24  77.550000  10408.0               59.33         4.57   \n",
       "184    1/1/25  78.170000   3257.0               63.24         3.17   \n",
       "\n",
       "     active_minutes  total_calories_burned       workout_type  \\\n",
       "0              66.0                  664.0  Strength Training   \n",
       "1              66.0                  660.0               Rest   \n",
       "2              87.0                  873.0  Strength Training   \n",
       "3             111.0                 1113.0            Running   \n",
       "4              79.0                  790.0  Strength Training   \n",
       "..              ...                    ...                ...   \n",
       "180            71.0                  712.0  Strength Training   \n",
       "181            87.0                  874.0            Running   \n",
       "182            87.0                  874.0               Rest   \n",
       "183            90.0                  900.0               HIIT   \n",
       "184            78.0                  784.0               Rest   \n",
       "\n",
       "     workout_duration  workout_calories  workout_avg_hr  workout_max_hr  \\\n",
       "0               68.28        641.120000          143.67          171.17   \n",
       "1                0.00          0.000000            0.00            0.00   \n",
       "2               34.34        366.564833          138.63          163.86   \n",
       "3               62.74        662.040000          152.04          168.87   \n",
       "4               77.88        677.010000          144.06          167.28   \n",
       "..                ...               ...             ...             ...   \n",
       "180             94.29       1072.200000          131.24          154.21   \n",
       "181             41.47        419.240000          139.88          157.09   \n",
       "182              0.00          0.000000            0.00            0.00   \n",
       "183             26.73        267.900000          133.59          146.81   \n",
       "184              0.00          0.000000            0.00            0.00   \n",
       "\n",
       "     fat_burn_minutes  cardio_minutes  peak_minutes  \n",
       "0                33.0            19.0          13.0  \n",
       "1                33.0            19.0          13.0  \n",
       "2                43.0            26.0          17.0  \n",
       "3                55.0            33.0          22.0  \n",
       "4                39.0            23.0          15.0  \n",
       "..                ...             ...           ...  \n",
       "180              35.0            21.0          14.0  \n",
       "181              43.0            26.0          17.0  \n",
       "182              43.0            26.0          17.0  \n",
       "183              45.0            27.0          18.0  \n",
       "184              39.0            23.0          15.0  \n",
       "\n",
       "[185 rows x 15 columns]>"
      ]
     },
     "execution_count": 65,
     "metadata": {},
     "output_type": "execute_result"
    }
   ],
   "source": [
    "# Read in the dataset \"fitness_data.csv\"\n",
    "df = pd.read_csv('/Users/gjest/Downloads/fitness_data.csv')\n",
    "\n",
    "# Display the data\n",
    "df.head"
   ]
  },
  {
   "cell_type": "markdown",
   "id": "51c5dd6c-2c36-48bc-ac98-38cc75ab2191",
   "metadata": {},
   "source": [
    "## Task 2: Checking for missing values 🔎\n",
    "\n",
    "Now that we've read in the data, let's check whether it has any missing values."
   ]
  },
  {
   "cell_type": "code",
   "execution_count": 66,
   "id": "5d8bdf18-8f32-4a09-b1a5-72ed1f6d596b",
   "metadata": {
    "chartConfig": {
     "bar": {
      "hasRoundedCorners": true,
      "stacked": false
     },
     "type": "bar",
     "version": "v1"
    },
    "executionCancelledAt": null,
    "executionTime": null,
    "lastExecutedAt": null,
    "lastExecutedByKernel": null,
    "lastScheduledRunId": null,
    "lastSuccessfullyExecutedCode": null,
    "outputsMetadata": {
     "0": {
      "height": 50,
      "tableState": {
       "customFilter": {
        "const": {
         "type": "boolean",
         "valid": true,
         "value": true
        },
        "id": "0bbc41e4-70a1-4bf8-90b0-31b9dcd6e852",
        "nodeType": "const"
       },
       "quickFilterText": ""
      },
      "type": "dataFrame"
     }
    },
    "visualizeDataframe": false
   },
   "outputs": [
    {
     "data": {
      "text/plain": [
       "date                     0\n",
       "weight                   6\n",
       "steps                    6\n",
       "resting_heart_rate       6\n",
       "sleep_hours              6\n",
       "active_minutes           6\n",
       "total_calories_burned    6\n",
       "workout_type             6\n",
       "workout_duration         6\n",
       "workout_calories         6\n",
       "workout_avg_hr           6\n",
       "workout_max_hr           6\n",
       "fat_burn_minutes         6\n",
       "cardio_minutes           6\n",
       "peak_minutes             6\n",
       "dtype: int64"
      ]
     },
     "execution_count": 66,
     "metadata": {},
     "output_type": "execute_result"
    }
   ],
   "source": [
    "# Does the data have any missing values?\n",
    "missing_values = df.isnull().sum()\n",
    "missing_values"
   ]
  },
  {
   "cell_type": "code",
   "execution_count": 67,
   "id": "0643724c-8bc7-42ba-bce1-2fa768d5141b",
   "metadata": {
    "executionCancelledAt": null,
    "executionTime": 67,
    "lastExecutedAt": 1736871032391,
    "lastExecutedByKernel": "0b41652a-fd66-48df-b288-01dc41aeffa1",
    "lastScheduledRunId": null,
    "lastSuccessfullyExecutedCode": "# Which rows have missing values?\nrows_with_missing_values = df[df.isnull().any(axis=1)]\nrows_with_missing_values",
    "outputsMetadata": {
     "0": {
      "height": 50,
      "tableState": {
       "customFilter": {
        "const": {
         "type": "boolean",
         "valid": true,
         "value": true
        },
        "id": "0bbc41e4-70a1-4bf8-90b0-31b9dcd6e852",
        "nodeType": "const"
       },
       "quickFilterText": ""
      },
      "type": "dataFrame"
     }
    }
   },
   "outputs": [
    {
     "data": {
      "text/html": [
       "<div>\n",
       "<style scoped>\n",
       "    .dataframe tbody tr th:only-of-type {\n",
       "        vertical-align: middle;\n",
       "    }\n",
       "\n",
       "    .dataframe tbody tr th {\n",
       "        vertical-align: top;\n",
       "    }\n",
       "\n",
       "    .dataframe thead th {\n",
       "        text-align: right;\n",
       "    }\n",
       "</style>\n",
       "<table border=\"1\" class=\"dataframe\">\n",
       "  <thead>\n",
       "    <tr style=\"text-align: right;\">\n",
       "      <th></th>\n",
       "      <th>date</th>\n",
       "      <th>weight</th>\n",
       "      <th>steps</th>\n",
       "      <th>resting_heart_rate</th>\n",
       "      <th>sleep_hours</th>\n",
       "      <th>active_minutes</th>\n",
       "      <th>total_calories_burned</th>\n",
       "      <th>workout_type</th>\n",
       "      <th>workout_duration</th>\n",
       "      <th>workout_calories</th>\n",
       "      <th>workout_avg_hr</th>\n",
       "      <th>workout_max_hr</th>\n",
       "      <th>fat_burn_minutes</th>\n",
       "      <th>cardio_minutes</th>\n",
       "      <th>peak_minutes</th>\n",
       "    </tr>\n",
       "  </thead>\n",
       "  <tbody>\n",
       "    <tr>\n",
       "      <th>150</th>\n",
       "      <td>11/28/24</td>\n",
       "      <td>NaN</td>\n",
       "      <td>NaN</td>\n",
       "      <td>NaN</td>\n",
       "      <td>NaN</td>\n",
       "      <td>NaN</td>\n",
       "      <td>NaN</td>\n",
       "      <td>NaN</td>\n",
       "      <td>NaN</td>\n",
       "      <td>NaN</td>\n",
       "      <td>NaN</td>\n",
       "      <td>NaN</td>\n",
       "      <td>NaN</td>\n",
       "      <td>NaN</td>\n",
       "      <td>NaN</td>\n",
       "    </tr>\n",
       "    <tr>\n",
       "      <th>151</th>\n",
       "      <td>11/29/24</td>\n",
       "      <td>NaN</td>\n",
       "      <td>NaN</td>\n",
       "      <td>NaN</td>\n",
       "      <td>NaN</td>\n",
       "      <td>NaN</td>\n",
       "      <td>NaN</td>\n",
       "      <td>NaN</td>\n",
       "      <td>NaN</td>\n",
       "      <td>NaN</td>\n",
       "      <td>NaN</td>\n",
       "      <td>NaN</td>\n",
       "      <td>NaN</td>\n",
       "      <td>NaN</td>\n",
       "      <td>NaN</td>\n",
       "    </tr>\n",
       "    <tr>\n",
       "      <th>152</th>\n",
       "      <td>11/30/24</td>\n",
       "      <td>NaN</td>\n",
       "      <td>NaN</td>\n",
       "      <td>NaN</td>\n",
       "      <td>NaN</td>\n",
       "      <td>NaN</td>\n",
       "      <td>NaN</td>\n",
       "      <td>NaN</td>\n",
       "      <td>NaN</td>\n",
       "      <td>NaN</td>\n",
       "      <td>NaN</td>\n",
       "      <td>NaN</td>\n",
       "      <td>NaN</td>\n",
       "      <td>NaN</td>\n",
       "      <td>NaN</td>\n",
       "    </tr>\n",
       "    <tr>\n",
       "      <th>176</th>\n",
       "      <td>12/24/24</td>\n",
       "      <td>NaN</td>\n",
       "      <td>NaN</td>\n",
       "      <td>NaN</td>\n",
       "      <td>NaN</td>\n",
       "      <td>NaN</td>\n",
       "      <td>NaN</td>\n",
       "      <td>NaN</td>\n",
       "      <td>NaN</td>\n",
       "      <td>NaN</td>\n",
       "      <td>NaN</td>\n",
       "      <td>NaN</td>\n",
       "      <td>NaN</td>\n",
       "      <td>NaN</td>\n",
       "      <td>NaN</td>\n",
       "    </tr>\n",
       "    <tr>\n",
       "      <th>177</th>\n",
       "      <td>12/25/24</td>\n",
       "      <td>NaN</td>\n",
       "      <td>NaN</td>\n",
       "      <td>NaN</td>\n",
       "      <td>NaN</td>\n",
       "      <td>NaN</td>\n",
       "      <td>NaN</td>\n",
       "      <td>NaN</td>\n",
       "      <td>NaN</td>\n",
       "      <td>NaN</td>\n",
       "      <td>NaN</td>\n",
       "      <td>NaN</td>\n",
       "      <td>NaN</td>\n",
       "      <td>NaN</td>\n",
       "      <td>NaN</td>\n",
       "    </tr>\n",
       "    <tr>\n",
       "      <th>178</th>\n",
       "      <td>12/26/24</td>\n",
       "      <td>NaN</td>\n",
       "      <td>NaN</td>\n",
       "      <td>NaN</td>\n",
       "      <td>NaN</td>\n",
       "      <td>NaN</td>\n",
       "      <td>NaN</td>\n",
       "      <td>NaN</td>\n",
       "      <td>NaN</td>\n",
       "      <td>NaN</td>\n",
       "      <td>NaN</td>\n",
       "      <td>NaN</td>\n",
       "      <td>NaN</td>\n",
       "      <td>NaN</td>\n",
       "      <td>NaN</td>\n",
       "    </tr>\n",
       "  </tbody>\n",
       "</table>\n",
       "</div>"
      ],
      "text/plain": [
       "         date  weight  steps  resting_heart_rate  sleep_hours  active_minutes  \\\n",
       "150  11/28/24     NaN    NaN                 NaN          NaN             NaN   \n",
       "151  11/29/24     NaN    NaN                 NaN          NaN             NaN   \n",
       "152  11/30/24     NaN    NaN                 NaN          NaN             NaN   \n",
       "176  12/24/24     NaN    NaN                 NaN          NaN             NaN   \n",
       "177  12/25/24     NaN    NaN                 NaN          NaN             NaN   \n",
       "178  12/26/24     NaN    NaN                 NaN          NaN             NaN   \n",
       "\n",
       "     total_calories_burned workout_type  workout_duration  workout_calories  \\\n",
       "150                    NaN          NaN               NaN               NaN   \n",
       "151                    NaN          NaN               NaN               NaN   \n",
       "152                    NaN          NaN               NaN               NaN   \n",
       "176                    NaN          NaN               NaN               NaN   \n",
       "177                    NaN          NaN               NaN               NaN   \n",
       "178                    NaN          NaN               NaN               NaN   \n",
       "\n",
       "     workout_avg_hr  workout_max_hr  fat_burn_minutes  cardio_minutes  \\\n",
       "150             NaN             NaN               NaN             NaN   \n",
       "151             NaN             NaN               NaN             NaN   \n",
       "152             NaN             NaN               NaN             NaN   \n",
       "176             NaN             NaN               NaN             NaN   \n",
       "177             NaN             NaN               NaN             NaN   \n",
       "178             NaN             NaN               NaN             NaN   \n",
       "\n",
       "     peak_minutes  \n",
       "150           NaN  \n",
       "151           NaN  \n",
       "152           NaN  \n",
       "176           NaN  \n",
       "177           NaN  \n",
       "178           NaN  "
      ]
     },
     "execution_count": 67,
     "metadata": {},
     "output_type": "execute_result"
    }
   ],
   "source": [
    "# Which rows have missing values?\n",
    "rows_with_missing_values = df[df.isnull().any(axis=1)]\n",
    "rows_with_missing_values"
   ]
  },
  {
   "cell_type": "markdown",
   "id": "6cf97872-487e-4e0a-82df-3208042a0ba5",
   "metadata": {},
   "source": [
    "## Task 3: Exploring the data 🔎\n",
    "\n",
    "Let's start exploring our data by calculating summary statistics and confirming that our columns are of the correct data type."
   ]
  },
  {
   "cell_type": "code",
   "execution_count": 68,
   "id": "677110b3-48f1-4319-a887-dfffeeccaa79",
   "metadata": {
    "chartConfig": {
     "bar": {
      "hasRoundedCorners": true,
      "stacked": false
     },
     "type": "bar",
     "version": "v1"
    },
    "executionCancelledAt": null,
    "executionTime": 49,
    "lastExecutedAt": 1736871259267,
    "lastExecutedByKernel": "0b41652a-fd66-48df-b288-01dc41aeffa1",
    "lastScheduledRunId": null,
    "lastSuccessfullyExecutedCode": "# What are the summary statistics?\nsummary_statistics = df.describe()\nsummary_statistics",
    "outputsMetadata": {
     "0": {
      "height": 50,
      "tableState": {
       "customFilter": {
        "const": {
         "type": "boolean",
         "valid": true,
         "value": true
        },
        "id": "0bbc41e4-70a1-4bf8-90b0-31b9dcd6e852",
        "nodeType": "const"
       },
       "quickFilterText": ""
      },
      "type": "dataFrame"
     }
    },
    "visualizeDataframe": false
   },
   "outputs": [
    {
     "data": {
      "text/html": [
       "<div>\n",
       "<style scoped>\n",
       "    .dataframe tbody tr th:only-of-type {\n",
       "        vertical-align: middle;\n",
       "    }\n",
       "\n",
       "    .dataframe tbody tr th {\n",
       "        vertical-align: top;\n",
       "    }\n",
       "\n",
       "    .dataframe thead th {\n",
       "        text-align: right;\n",
       "    }\n",
       "</style>\n",
       "<table border=\"1\" class=\"dataframe\">\n",
       "  <thead>\n",
       "    <tr style=\"text-align: right;\">\n",
       "      <th></th>\n",
       "      <th>weight</th>\n",
       "      <th>steps</th>\n",
       "      <th>resting_heart_rate</th>\n",
       "      <th>sleep_hours</th>\n",
       "      <th>active_minutes</th>\n",
       "      <th>total_calories_burned</th>\n",
       "      <th>workout_duration</th>\n",
       "      <th>workout_calories</th>\n",
       "      <th>workout_avg_hr</th>\n",
       "      <th>workout_max_hr</th>\n",
       "      <th>fat_burn_minutes</th>\n",
       "      <th>cardio_minutes</th>\n",
       "      <th>peak_minutes</th>\n",
       "    </tr>\n",
       "  </thead>\n",
       "  <tbody>\n",
       "    <tr>\n",
       "      <th>count</th>\n",
       "      <td>179.000000</td>\n",
       "      <td>179.000000</td>\n",
       "      <td>179.000000</td>\n",
       "      <td>179.000000</td>\n",
       "      <td>179.000000</td>\n",
       "      <td>179.000000</td>\n",
       "      <td>179.000000</td>\n",
       "      <td>179.000000</td>\n",
       "      <td>179.000000</td>\n",
       "      <td>179.000000</td>\n",
       "      <td>179.000000</td>\n",
       "      <td>179.000000</td>\n",
       "      <td>179.000000</td>\n",
       "    </tr>\n",
       "    <tr>\n",
       "      <th>mean</th>\n",
       "      <td>74.838842</td>\n",
       "      <td>8476.927374</td>\n",
       "      <td>64.926538</td>\n",
       "      <td>7.511456</td>\n",
       "      <td>85.128492</td>\n",
       "      <td>853.396648</td>\n",
       "      <td>38.227039</td>\n",
       "      <td>384.143224</td>\n",
       "      <td>129.950615</td>\n",
       "      <td>148.408547</td>\n",
       "      <td>42.284916</td>\n",
       "      <td>25.100559</td>\n",
       "      <td>16.636872</td>\n",
       "    </tr>\n",
       "    <tr>\n",
       "      <th>std</th>\n",
       "      <td>1.817232</td>\n",
       "      <td>2350.241475</td>\n",
       "      <td>4.765610</td>\n",
       "      <td>1.061339</td>\n",
       "      <td>22.242287</td>\n",
       "      <td>222.456798</td>\n",
       "      <td>19.778319</td>\n",
       "      <td>202.061761</td>\n",
       "      <td>37.688990</td>\n",
       "      <td>42.916258</td>\n",
       "      <td>11.133124</td>\n",
       "      <td>6.703257</td>\n",
       "      <td>4.442768</td>\n",
       "    </tr>\n",
       "    <tr>\n",
       "      <th>min</th>\n",
       "      <td>71.110000</td>\n",
       "      <td>3207.000000</td>\n",
       "      <td>50.380000</td>\n",
       "      <td>3.170000</td>\n",
       "      <td>30.000000</td>\n",
       "      <td>303.000000</td>\n",
       "      <td>0.000000</td>\n",
       "      <td>0.000000</td>\n",
       "      <td>0.000000</td>\n",
       "      <td>0.000000</td>\n",
       "      <td>15.000000</td>\n",
       "      <td>9.000000</td>\n",
       "      <td>6.000000</td>\n",
       "    </tr>\n",
       "    <tr>\n",
       "      <th>25%</th>\n",
       "      <td>73.130000</td>\n",
       "      <td>6823.000000</td>\n",
       "      <td>61.755000</td>\n",
       "      <td>6.995000</td>\n",
       "      <td>71.000000</td>\n",
       "      <td>711.500000</td>\n",
       "      <td>26.810000</td>\n",
       "      <td>262.480000</td>\n",
       "      <td>130.790000</td>\n",
       "      <td>148.850000</td>\n",
       "      <td>35.000000</td>\n",
       "      <td>21.000000</td>\n",
       "      <td>14.000000</td>\n",
       "    </tr>\n",
       "    <tr>\n",
       "      <th>50%</th>\n",
       "      <td>75.269587</td>\n",
       "      <td>8524.000000</td>\n",
       "      <td>64.710000</td>\n",
       "      <td>7.590000</td>\n",
       "      <td>84.000000</td>\n",
       "      <td>841.000000</td>\n",
       "      <td>34.340000</td>\n",
       "      <td>350.910000</td>\n",
       "      <td>140.420000</td>\n",
       "      <td>159.560000</td>\n",
       "      <td>42.000000</td>\n",
       "      <td>25.000000</td>\n",
       "      <td>16.000000</td>\n",
       "    </tr>\n",
       "    <tr>\n",
       "      <th>75%</th>\n",
       "      <td>76.530000</td>\n",
       "      <td>9704.500000</td>\n",
       "      <td>67.610000</td>\n",
       "      <td>8.055000</td>\n",
       "      <td>98.500000</td>\n",
       "      <td>988.000000</td>\n",
       "      <td>46.850000</td>\n",
       "      <td>493.370000</td>\n",
       "      <td>146.915000</td>\n",
       "      <td>168.080000</td>\n",
       "      <td>49.000000</td>\n",
       "      <td>29.000000</td>\n",
       "      <td>19.000000</td>\n",
       "    </tr>\n",
       "    <tr>\n",
       "      <th>max</th>\n",
       "      <td>78.170000</td>\n",
       "      <td>15724.000000</td>\n",
       "      <td>80.990000</td>\n",
       "      <td>9.780000</td>\n",
       "      <td>157.000000</td>\n",
       "      <td>1573.000000</td>\n",
       "      <td>94.290000</td>\n",
       "      <td>1072.200000</td>\n",
       "      <td>160.240000</td>\n",
       "      <td>187.550000</td>\n",
       "      <td>78.000000</td>\n",
       "      <td>47.000000</td>\n",
       "      <td>31.000000</td>\n",
       "    </tr>\n",
       "  </tbody>\n",
       "</table>\n",
       "</div>"
      ],
      "text/plain": [
       "           weight         steps  resting_heart_rate  sleep_hours  \\\n",
       "count  179.000000    179.000000          179.000000   179.000000   \n",
       "mean    74.838842   8476.927374           64.926538     7.511456   \n",
       "std      1.817232   2350.241475            4.765610     1.061339   \n",
       "min     71.110000   3207.000000           50.380000     3.170000   \n",
       "25%     73.130000   6823.000000           61.755000     6.995000   \n",
       "50%     75.269587   8524.000000           64.710000     7.590000   \n",
       "75%     76.530000   9704.500000           67.610000     8.055000   \n",
       "max     78.170000  15724.000000           80.990000     9.780000   \n",
       "\n",
       "       active_minutes  total_calories_burned  workout_duration  \\\n",
       "count      179.000000             179.000000        179.000000   \n",
       "mean        85.128492             853.396648         38.227039   \n",
       "std         22.242287             222.456798         19.778319   \n",
       "min         30.000000             303.000000          0.000000   \n",
       "25%         71.000000             711.500000         26.810000   \n",
       "50%         84.000000             841.000000         34.340000   \n",
       "75%         98.500000             988.000000         46.850000   \n",
       "max        157.000000            1573.000000         94.290000   \n",
       "\n",
       "       workout_calories  workout_avg_hr  workout_max_hr  fat_burn_minutes  \\\n",
       "count        179.000000      179.000000      179.000000        179.000000   \n",
       "mean         384.143224      129.950615      148.408547         42.284916   \n",
       "std          202.061761       37.688990       42.916258         11.133124   \n",
       "min            0.000000        0.000000        0.000000         15.000000   \n",
       "25%          262.480000      130.790000      148.850000         35.000000   \n",
       "50%          350.910000      140.420000      159.560000         42.000000   \n",
       "75%          493.370000      146.915000      168.080000         49.000000   \n",
       "max         1072.200000      160.240000      187.550000         78.000000   \n",
       "\n",
       "       cardio_minutes  peak_minutes  \n",
       "count      179.000000    179.000000  \n",
       "mean        25.100559     16.636872  \n",
       "std          6.703257      4.442768  \n",
       "min          9.000000      6.000000  \n",
       "25%         21.000000     14.000000  \n",
       "50%         25.000000     16.000000  \n",
       "75%         29.000000     19.000000  \n",
       "max         47.000000     31.000000  "
      ]
     },
     "execution_count": 68,
     "metadata": {},
     "output_type": "execute_result"
    }
   ],
   "source": [
    "# What are the summary statistics?\n",
    "summary_statistics = df.describe()\n",
    "summary_statistics"
   ]
  },
  {
   "cell_type": "code",
   "execution_count": 69,
   "id": "8caa32e1-b813-4a00-bd6b-6e4822d46f55",
   "metadata": {
    "executionCancelledAt": null,
    "executionTime": 37,
    "lastExecutedAt": 1736871267282,
    "lastExecutedByKernel": "0b41652a-fd66-48df-b288-01dc41aeffa1",
    "lastScheduledRunId": null,
    "lastSuccessfullyExecutedCode": "# Check the data types of each column\ndf.dtypes",
    "outputsMetadata": {
     "0": {
      "height": 500,
      "type": "stream"
     }
    }
   },
   "outputs": [
    {
     "data": {
      "text/plain": [
       "date                      object\n",
       "weight                   float64\n",
       "steps                    float64\n",
       "resting_heart_rate       float64\n",
       "sleep_hours              float64\n",
       "active_minutes           float64\n",
       "total_calories_burned    float64\n",
       "workout_type              object\n",
       "workout_duration         float64\n",
       "workout_calories         float64\n",
       "workout_avg_hr           float64\n",
       "workout_max_hr           float64\n",
       "fat_burn_minutes         float64\n",
       "cardio_minutes           float64\n",
       "peak_minutes             float64\n",
       "dtype: object"
      ]
     },
     "execution_count": 69,
     "metadata": {},
     "output_type": "execute_result"
    }
   ],
   "source": [
    "# Check the data types of each column\n",
    "df.dtypes"
   ]
  },
  {
   "cell_type": "code",
   "execution_count": 70,
   "id": "b1c865e3-f791-438e-bf45-c4f2bcd2ad88",
   "metadata": {
    "executionCancelledAt": null,
    "executionTime": 62,
    "lastExecutedAt": 1736871467091,
    "lastExecutedByKernel": "0b41652a-fd66-48df-b288-01dc41aeffa1",
    "lastScheduledRunId": null,
    "lastSuccessfullyExecutedCode": "# Convert the date column to a datetime format\ndf['date'] = pd.to_datetime(df['date'])",
    "outputsMetadata": {
     "0": {
      "height": 500,
      "type": "stream"
     }
    }
   },
   "outputs": [
    {
     "data": {
      "text/plain": [
       "date                     datetime64[ns]\n",
       "weight                          float64\n",
       "steps                           float64\n",
       "resting_heart_rate              float64\n",
       "sleep_hours                     float64\n",
       "active_minutes                  float64\n",
       "total_calories_burned           float64\n",
       "workout_type                     object\n",
       "workout_duration                float64\n",
       "workout_calories                float64\n",
       "workout_avg_hr                  float64\n",
       "workout_max_hr                  float64\n",
       "fat_burn_minutes                float64\n",
       "cardio_minutes                  float64\n",
       "peak_minutes                    float64\n",
       "dtype: object"
      ]
     },
     "execution_count": 70,
     "metadata": {},
     "output_type": "execute_result"
    }
   ],
   "source": [
    "# Convert the date column to a datetime format\n",
    "df['date'] = pd.to_datetime(df['date'], format='mixed')\n",
    "\n",
    "df.dtypes"
   ]
  },
  {
   "cell_type": "markdown",
   "id": "c79a544a-682c-4eec-b107-9601d7310ed9",
   "metadata": {},
   "source": [
    "## Task 4: Creating useful new columns\n",
    "\n",
    "Sometimes we might want to rename columns with more descriptive names to be easier to interpret, or create new columns to measure things we are interested in."
   ]
  },
  {
   "cell_type": "code",
   "execution_count": 71,
   "id": "84a35af5-2da0-447f-a98d-8a91356f41d4",
   "metadata": {
    "executionCancelledAt": null,
    "executionTime": 53,
    "lastExecutedAt": 1736871694915,
    "lastExecutedByKernel": "0b41652a-fd66-48df-b288-01dc41aeffa1",
    "lastScheduledRunId": null,
    "lastSuccessfullyExecutedCode": "# Rename 'weight' and 'workout_duration' to have more descriptive names\ndf.rename(columns={'weight': 'body_weight_kg', 'workout_duration': 'workout_duration_minutes'}, inplace=True)"
   },
   "outputs": [],
   "source": [
    "# Rename 'weight' and 'workout_duration' to have more descriptive names\n",
    "df.rename(columns={'weight': 'body_weight_kg', 'workout_duration': 'workout_duration_minutes'}, inplace=True)"
   ]
  },
  {
   "cell_type": "code",
   "execution_count": 72,
   "id": "3d14bff9-8675-4f09-96f0-69d837328dde",
   "metadata": {
    "executionCancelledAt": null,
    "executionTime": 47,
    "lastExecutedAt": 1736871812079,
    "lastExecutedByKernel": "0b41652a-fd66-48df-b288-01dc41aeffa1",
    "lastScheduledRunId": null,
    "lastSuccessfullyExecutedCode": "# Add a new column 'weight_lbs' converting weight from kilograms to pounds (1 kg = 2.20462 lbs)\ndf['weight_lbs'] = df['body_weight_kg'] * 2.20462"
   },
   "outputs": [],
   "source": [
    "# Add a new column 'weight_lbs' converting weight from kilograms to pounds (1 kg = 2.20462 lbs)\n",
    "df['weight_lbs'] = df['body_weight_kg'] * 2.20462"
   ]
  },
  {
   "cell_type": "code",
   "execution_count": 73,
   "id": "2ebd862e-aab1-4d46-b377-1998252d7315",
   "metadata": {
    "executionCancelledAt": null,
    "executionTime": 374,
    "lastExecutedAt": 1736872892186,
    "lastExecutedByKernel": "0b41652a-fd66-48df-b288-01dc41aeffa1",
    "lastScheduledRunId": null,
    "lastSuccessfullyExecutedCode": "# Add a column to indicate the day of the week\ndf['weekday'] = df['date'].dt.day_name()\n\n# Add a column to indicate weekends\ndf['is_weekend'] = df['date'].dt.dayofweek >= 5  # Saturday and Sunday\n\n# Display the updated DataFrame\nprint(df)\n\n# Display the data\nimport matplotlib.pyplot as plt\n\nweekend_counts = df['is_weekend'].value_counts()\nweekend_counts\n\n# Visualize only the count of 'Yes' and 'No' using a bar plot\nplt.figure(figsize=(10, 6))\nplt.bar(weekend_counts.index, weekend_counts.values, color='skyblue')\nplt.xlabel('Is Weekend')\nplt.ylabel('Count')\nplt.title('Weekend Indicator Count')\nplt.tight_layout()\nplt.show()\n",
    "outputsMetadata": {
     "0": {
      "height": 311,
      "type": "stream"
     }
    }
   },
   "outputs": [
    {
     "name": "stdout",
     "output_type": "stream",
     "text": [
      "          date  body_weight_kg    steps  resting_heart_rate  sleep_hours  \\\n",
      "0   2024-07-01       75.248357   6829.0               63.68         7.03   \n",
      "1   2024-07-02       74.914564   7741.0               58.63         7.85   \n",
      "2   2024-07-03       75.140000   8227.0               58.47         7.53   \n",
      "3   2024-07-04       75.200000  13262.0               72.51         4.63   \n",
      "4   2024-07-05       75.270000   9377.0               73.32         5.38   \n",
      "..         ...             ...      ...                 ...          ...   \n",
      "180 2024-12-28       77.690000   5883.0               62.33         9.78   \n",
      "181 2024-12-29       77.610000   8639.0               66.12         6.55   \n",
      "182 2024-12-30       77.490000   8587.0               61.23         8.02   \n",
      "183 2024-12-31       77.550000  10408.0               59.33         4.57   \n",
      "184 2025-01-01       78.170000   3257.0               63.24         3.17   \n",
      "\n",
      "     active_minutes  total_calories_burned       workout_type  \\\n",
      "0              66.0                  664.0  Strength Training   \n",
      "1              66.0                  660.0               Rest   \n",
      "2              87.0                  873.0  Strength Training   \n",
      "3             111.0                 1113.0            Running   \n",
      "4              79.0                  790.0  Strength Training   \n",
      "..              ...                    ...                ...   \n",
      "180            71.0                  712.0  Strength Training   \n",
      "181            87.0                  874.0            Running   \n",
      "182            87.0                  874.0               Rest   \n",
      "183            90.0                  900.0               HIIT   \n",
      "184            78.0                  784.0               Rest   \n",
      "\n",
      "     workout_duration_minutes  workout_calories  workout_avg_hr  \\\n",
      "0                       68.28        641.120000          143.67   \n",
      "1                        0.00          0.000000            0.00   \n",
      "2                       34.34        366.564833          138.63   \n",
      "3                       62.74        662.040000          152.04   \n",
      "4                       77.88        677.010000          144.06   \n",
      "..                        ...               ...             ...   \n",
      "180                     94.29       1072.200000          131.24   \n",
      "181                     41.47        419.240000          139.88   \n",
      "182                      0.00          0.000000            0.00   \n",
      "183                     26.73        267.900000          133.59   \n",
      "184                      0.00          0.000000            0.00   \n",
      "\n",
      "     workout_max_hr  fat_burn_minutes  cardio_minutes  peak_minutes  \\\n",
      "0            171.17              33.0            19.0          13.0   \n",
      "1              0.00              33.0            19.0          13.0   \n",
      "2            163.86              43.0            26.0          17.0   \n",
      "3            168.87              55.0            33.0          22.0   \n",
      "4            167.28              39.0            23.0          15.0   \n",
      "..              ...               ...             ...           ...   \n",
      "180          154.21              35.0            21.0          14.0   \n",
      "181          157.09              43.0            26.0          17.0   \n",
      "182            0.00              43.0            26.0          17.0   \n",
      "183          146.81              45.0            27.0          18.0   \n",
      "184            0.00              39.0            23.0          15.0   \n",
      "\n",
      "     weight_lbs    weekday  is_weekend  \n",
      "0    165.894033     Monday       False  \n",
      "1    165.158145    Tuesday       False  \n",
      "2    165.655147  Wednesday       False  \n",
      "3    165.787424   Thursday       False  \n",
      "4    165.941747     Friday       False  \n",
      "..          ...        ...         ...  \n",
      "180  171.276928   Saturday        True  \n",
      "181  171.100558     Sunday        True  \n",
      "182  170.836004     Monday       False  \n",
      "183  170.968281    Tuesday       False  \n",
      "184  172.335145  Wednesday       False  \n",
      "\n",
      "[185 rows x 18 columns]\n"
     ]
    },
    {
     "data": {
      "image/png": "[encoded data removed]",
      "text/plain": [
       "<Figure size 1000x600 with 1 Axes>"
      ]
     },
     "metadata": {},
     "output_type": "display_data"
    }
   ],
   "source": [
    "# Add a column to indicate the day of the week\n",
    "df['weekday'] = df['date'].dt.day_name()\n",
    "\n",
    "# Add a column to indicate weekends\n",
    "df['is_weekend'] = df['date'].dt.dayofweek >= 5  # Saturday and Sunday\n",
    "\n",
    "# Display the updated DataFrame\n",
    "print(df)\n",
    "\n",
    "weekend_counts = df['is_weekend'].value_counts()\n",
    "weekend_counts\n",
    "\n",
    "# Visualize only the count of 'Yes' and 'No' \n",
    "plt.figure(figsize=(10, 6))\n",
    "plt.bar(weekend_counts.index, weekend_counts.values, color='skyblue')\n",
    "plt.xlabel('Is Weekend')\n",
    "plt.ylabel('Count')\n",
    "plt.title('Weekend Indicator Count')\n",
    "plt.tight_layout()\n",
    "plt.show()\n"
   ]
  },
  {
   "cell_type": "code",
   "execution_count": 74,
   "id": "a5b002a8-d89c-433a-9caa-4495c8893260",
   "metadata": {
    "executionCancelledAt": null,
    "executionTime": 52,
    "lastExecutedAt": 1736872950860,
    "lastExecutedByKernel": "0b41652a-fd66-48df-b288-01dc41aeffa1",
    "lastScheduledRunId": null,
    "lastSuccessfullyExecutedCode": "# Add a new column 'sleep_debt' that calculates the difference between sleep_hours and a target of 7.5 hours\ndf['sleep_debt'] = df['sleep_hours'] - 7.5\n\ndf",
    "outputsMetadata": {
     "0": {
      "height": 550,
      "tableState": {
       "customFilter": {
        "const": {
         "type": "boolean",
         "valid": true,
         "value": true
        },
        "id": "0bbc41e4-70a1-4bf8-90b0-31b9dcd6e852",
        "nodeType": "const"
       },
       "quickFilterText": ""
      },
      "type": "dataFrame"
     }
    }
   },
   "outputs": [],
   "source": [
    "# Add a new column 'sleep_debt' that calculates the difference between sleep_hours and a target of 7.5 hours\n",
    "df['sleep_debt'] = df['sleep_hours'] - 7.5\n"
   ]
  },
  {
   "cell_type": "code",
   "execution_count": 75,
   "id": "dcf2d41b-8306-4b9e-a853-69dee42bfa56",
   "metadata": {
    "executionCancelledAt": null,
    "executionTime": 11,
    "lastExecutedAt": 1736872676154,
    "lastExecutedByKernel": "0b41652a-fd66-48df-b288-01dc41aeffa1",
    "lastScheduledRunId": null,
    "lastSuccessfullyExecutedCode": "# Create a new column that calculates the cumulative sleep debt\ndf['cumulative_sleep_debt'] = df['sleep_debt'].cumsum()",
    "outputsMetadata": {
     "0": {
      "height": 550,
      "tableState": {
       "customFilter": {
        "const": {
         "type": "boolean",
         "valid": true,
         "value": true
        },
        "id": "0bbc41e4-70a1-4bf8-90b0-31b9dcd6e852",
        "nodeType": "const"
       },
       "quickFilterText": ""
      },
      "type": "dataFrame"
     }
    }
   },
   "outputs": [
    {
     "data": {
      "text/html": [
       "<div>\n",
       "<style scoped>\n",
       "    .dataframe tbody tr th:only-of-type {\n",
       "        vertical-align: middle;\n",
       "    }\n",
       "\n",
       "    .dataframe tbody tr th {\n",
       "        vertical-align: top;\n",
       "    }\n",
       "\n",
       "    .dataframe thead th {\n",
       "        text-align: right;\n",
       "    }\n",
       "</style>\n",
       "<table border=\"1\" class=\"dataframe\">\n",
       "  <thead>\n",
       "    <tr style=\"text-align: right;\">\n",
       "      <th></th>\n",
       "      <th>date</th>\n",
       "      <th>body_weight_kg</th>\n",
       "      <th>steps</th>\n",
       "      <th>resting_heart_rate</th>\n",
       "      <th>sleep_hours</th>\n",
       "      <th>active_minutes</th>\n",
       "      <th>total_calories_burned</th>\n",
       "      <th>workout_type</th>\n",
       "      <th>workout_duration_minutes</th>\n",
       "      <th>workout_calories</th>\n",
       "      <th>workout_avg_hr</th>\n",
       "      <th>workout_max_hr</th>\n",
       "      <th>fat_burn_minutes</th>\n",
       "      <th>cardio_minutes</th>\n",
       "      <th>peak_minutes</th>\n",
       "      <th>weight_lbs</th>\n",
       "      <th>weekday</th>\n",
       "      <th>is_weekend</th>\n",
       "      <th>sleep_debt</th>\n",
       "      <th>cumulative_sleep_debt</th>\n",
       "    </tr>\n",
       "  </thead>\n",
       "  <tbody>\n",
       "    <tr>\n",
       "      <th>0</th>\n",
       "      <td>2024-07-01</td>\n",
       "      <td>75.248357</td>\n",
       "      <td>6829.0</td>\n",
       "      <td>63.68</td>\n",
       "      <td>7.03</td>\n",
       "      <td>66.0</td>\n",
       "      <td>664.0</td>\n",
       "      <td>Strength Training</td>\n",
       "      <td>68.28</td>\n",
       "      <td>641.120000</td>\n",
       "      <td>143.67</td>\n",
       "      <td>171.17</td>\n",
       "      <td>33.0</td>\n",
       "      <td>19.0</td>\n",
       "      <td>13.0</td>\n",
       "      <td>165.894033</td>\n",
       "      <td>Monday</td>\n",
       "      <td>False</td>\n",
       "      <td>-0.47</td>\n",
       "      <td>-0.470000</td>\n",
       "    </tr>\n",
       "    <tr>\n",
       "      <th>1</th>\n",
       "      <td>2024-07-02</td>\n",
       "      <td>74.914564</td>\n",
       "      <td>7741.0</td>\n",
       "      <td>58.63</td>\n",
       "      <td>7.85</td>\n",
       "      <td>66.0</td>\n",
       "      <td>660.0</td>\n",
       "      <td>Rest</td>\n",
       "      <td>0.00</td>\n",
       "      <td>0.000000</td>\n",
       "      <td>0.00</td>\n",
       "      <td>0.00</td>\n",
       "      <td>33.0</td>\n",
       "      <td>19.0</td>\n",
       "      <td>13.0</td>\n",
       "      <td>165.158145</td>\n",
       "      <td>Tuesday</td>\n",
       "      <td>False</td>\n",
       "      <td>0.35</td>\n",
       "      <td>-0.120000</td>\n",
       "    </tr>\n",
       "    <tr>\n",
       "      <th>2</th>\n",
       "      <td>2024-07-03</td>\n",
       "      <td>75.140000</td>\n",
       "      <td>8227.0</td>\n",
       "      <td>58.47</td>\n",
       "      <td>7.53</td>\n",
       "      <td>87.0</td>\n",
       "      <td>873.0</td>\n",
       "      <td>Strength Training</td>\n",
       "      <td>34.34</td>\n",
       "      <td>366.564833</td>\n",
       "      <td>138.63</td>\n",
       "      <td>163.86</td>\n",
       "      <td>43.0</td>\n",
       "      <td>26.0</td>\n",
       "      <td>17.0</td>\n",
       "      <td>165.655147</td>\n",
       "      <td>Wednesday</td>\n",
       "      <td>False</td>\n",
       "      <td>0.03</td>\n",
       "      <td>-0.090000</td>\n",
       "    </tr>\n",
       "    <tr>\n",
       "      <th>3</th>\n",
       "      <td>2024-07-04</td>\n",
       "      <td>75.200000</td>\n",
       "      <td>13262.0</td>\n",
       "      <td>72.51</td>\n",
       "      <td>4.63</td>\n",
       "      <td>111.0</td>\n",
       "      <td>1113.0</td>\n",
       "      <td>Running</td>\n",
       "      <td>62.74</td>\n",
       "      <td>662.040000</td>\n",
       "      <td>152.04</td>\n",
       "      <td>168.87</td>\n",
       "      <td>55.0</td>\n",
       "      <td>33.0</td>\n",
       "      <td>22.0</td>\n",
       "      <td>165.787424</td>\n",
       "      <td>Thursday</td>\n",
       "      <td>False</td>\n",
       "      <td>-2.87</td>\n",
       "      <td>-2.960000</td>\n",
       "    </tr>\n",
       "    <tr>\n",
       "      <th>4</th>\n",
       "      <td>2024-07-05</td>\n",
       "      <td>75.270000</td>\n",
       "      <td>9377.0</td>\n",
       "      <td>73.32</td>\n",
       "      <td>5.38</td>\n",
       "      <td>79.0</td>\n",
       "      <td>790.0</td>\n",
       "      <td>Strength Training</td>\n",
       "      <td>77.88</td>\n",
       "      <td>677.010000</td>\n",
       "      <td>144.06</td>\n",
       "      <td>167.28</td>\n",
       "      <td>39.0</td>\n",
       "      <td>23.0</td>\n",
       "      <td>15.0</td>\n",
       "      <td>165.941747</td>\n",
       "      <td>Friday</td>\n",
       "      <td>False</td>\n",
       "      <td>-2.12</td>\n",
       "      <td>-5.080000</td>\n",
       "    </tr>\n",
       "    <tr>\n",
       "      <th>...</th>\n",
       "      <td>...</td>\n",
       "      <td>...</td>\n",
       "      <td>...</td>\n",
       "      <td>...</td>\n",
       "      <td>...</td>\n",
       "      <td>...</td>\n",
       "      <td>...</td>\n",
       "      <td>...</td>\n",
       "      <td>...</td>\n",
       "      <td>...</td>\n",
       "      <td>...</td>\n",
       "      <td>...</td>\n",
       "      <td>...</td>\n",
       "      <td>...</td>\n",
       "      <td>...</td>\n",
       "      <td>...</td>\n",
       "      <td>...</td>\n",
       "      <td>...</td>\n",
       "      <td>...</td>\n",
       "      <td>...</td>\n",
       "    </tr>\n",
       "    <tr>\n",
       "      <th>180</th>\n",
       "      <td>2024-12-28</td>\n",
       "      <td>77.690000</td>\n",
       "      <td>5883.0</td>\n",
       "      <td>62.33</td>\n",
       "      <td>9.78</td>\n",
       "      <td>71.0</td>\n",
       "      <td>712.0</td>\n",
       "      <td>Strength Training</td>\n",
       "      <td>94.29</td>\n",
       "      <td>1072.200000</td>\n",
       "      <td>131.24</td>\n",
       "      <td>154.21</td>\n",
       "      <td>35.0</td>\n",
       "      <td>21.0</td>\n",
       "      <td>14.0</td>\n",
       "      <td>171.276928</td>\n",
       "      <td>Saturday</td>\n",
       "      <td>True</td>\n",
       "      <td>2.28</td>\n",
       "      <td>9.740577</td>\n",
       "    </tr>\n",
       "    <tr>\n",
       "      <th>181</th>\n",
       "      <td>2024-12-29</td>\n",
       "      <td>77.610000</td>\n",
       "      <td>8639.0</td>\n",
       "      <td>66.12</td>\n",
       "      <td>6.55</td>\n",
       "      <td>87.0</td>\n",
       "      <td>874.0</td>\n",
       "      <td>Running</td>\n",
       "      <td>41.47</td>\n",
       "      <td>419.240000</td>\n",
       "      <td>139.88</td>\n",
       "      <td>157.09</td>\n",
       "      <td>43.0</td>\n",
       "      <td>26.0</td>\n",
       "      <td>17.0</td>\n",
       "      <td>171.100558</td>\n",
       "      <td>Sunday</td>\n",
       "      <td>True</td>\n",
       "      <td>-0.95</td>\n",
       "      <td>8.790577</td>\n",
       "    </tr>\n",
       "    <tr>\n",
       "      <th>182</th>\n",
       "      <td>2024-12-30</td>\n",
       "      <td>77.490000</td>\n",
       "      <td>8587.0</td>\n",
       "      <td>61.23</td>\n",
       "      <td>8.02</td>\n",
       "      <td>87.0</td>\n",
       "      <td>874.0</td>\n",
       "      <td>Rest</td>\n",
       "      <td>0.00</td>\n",
       "      <td>0.000000</td>\n",
       "      <td>0.00</td>\n",
       "      <td>0.00</td>\n",
       "      <td>43.0</td>\n",
       "      <td>26.0</td>\n",
       "      <td>17.0</td>\n",
       "      <td>170.836004</td>\n",
       "      <td>Monday</td>\n",
       "      <td>False</td>\n",
       "      <td>0.52</td>\n",
       "      <td>9.310577</td>\n",
       "    </tr>\n",
       "    <tr>\n",
       "      <th>183</th>\n",
       "      <td>2024-12-31</td>\n",
       "      <td>77.550000</td>\n",
       "      <td>10408.0</td>\n",
       "      <td>59.33</td>\n",
       "      <td>4.57</td>\n",
       "      <td>90.0</td>\n",
       "      <td>900.0</td>\n",
       "      <td>HIIT</td>\n",
       "      <td>26.73</td>\n",
       "      <td>267.900000</td>\n",
       "      <td>133.59</td>\n",
       "      <td>146.81</td>\n",
       "      <td>45.0</td>\n",
       "      <td>27.0</td>\n",
       "      <td>18.0</td>\n",
       "      <td>170.968281</td>\n",
       "      <td>Tuesday</td>\n",
       "      <td>False</td>\n",
       "      <td>-2.93</td>\n",
       "      <td>6.380577</td>\n",
       "    </tr>\n",
       "    <tr>\n",
       "      <th>184</th>\n",
       "      <td>2025-01-01</td>\n",
       "      <td>78.170000</td>\n",
       "      <td>3257.0</td>\n",
       "      <td>63.24</td>\n",
       "      <td>3.17</td>\n",
       "      <td>78.0</td>\n",
       "      <td>784.0</td>\n",
       "      <td>Rest</td>\n",
       "      <td>0.00</td>\n",
       "      <td>0.000000</td>\n",
       "      <td>0.00</td>\n",
       "      <td>0.00</td>\n",
       "      <td>39.0</td>\n",
       "      <td>23.0</td>\n",
       "      <td>15.0</td>\n",
       "      <td>172.335145</td>\n",
       "      <td>Wednesday</td>\n",
       "      <td>False</td>\n",
       "      <td>-4.33</td>\n",
       "      <td>2.050577</td>\n",
       "    </tr>\n",
       "  </tbody>\n",
       "</table>\n",
       "<p>185 rows × 20 columns</p>\n",
       "</div>"
      ],
      "text/plain": [
       "          date  body_weight_kg    steps  resting_heart_rate  sleep_hours  \\\n",
       "0   2024-07-01       75.248357   6829.0               63.68         7.03   \n",
       "1   2024-07-02       74.914564   7741.0               58.63         7.85   \n",
       "2   2024-07-03       75.140000   8227.0               58.47         7.53   \n",
       "3   2024-07-04       75.200000  13262.0               72.51         4.63   \n",
       "4   2024-07-05       75.270000   9377.0               73.32         5.38   \n",
       "..         ...             ...      ...                 ...          ...   \n",
       "180 2024-12-28       77.690000   5883.0               62.33         9.78   \n",
       "181 2024-12-29       77.610000   8639.0               66.12         6.55   \n",
       "182 2024-12-30       77.490000   8587.0               61.23         8.02   \n",
       "183 2024-12-31       77.550000  10408.0               59.33         4.57   \n",
       "184 2025-01-01       78.170000   3257.0               63.24         3.17   \n",
       "\n",
       "     active_minutes  total_calories_burned       workout_type  \\\n",
       "0              66.0                  664.0  Strength Training   \n",
       "1              66.0                  660.0               Rest   \n",
       "2              87.0                  873.0  Strength Training   \n",
       "3             111.0                 1113.0            Running   \n",
       "4              79.0                  790.0  Strength Training   \n",
       "..              ...                    ...                ...   \n",
       "180            71.0                  712.0  Strength Training   \n",
       "181            87.0                  874.0            Running   \n",
       "182            87.0                  874.0               Rest   \n",
       "183            90.0                  900.0               HIIT   \n",
       "184            78.0                  784.0               Rest   \n",
       "\n",
       "     workout_duration_minutes  workout_calories  workout_avg_hr  \\\n",
       "0                       68.28        641.120000          143.67   \n",
       "1                        0.00          0.000000            0.00   \n",
       "2                       34.34        366.564833          138.63   \n",
       "3                       62.74        662.040000          152.04   \n",
       "4                       77.88        677.010000          144.06   \n",
       "..                        ...               ...             ...   \n",
       "180                     94.29       1072.200000          131.24   \n",
       "181                     41.47        419.240000          139.88   \n",
       "182                      0.00          0.000000            0.00   \n",
       "183                     26.73        267.900000          133.59   \n",
       "184                      0.00          0.000000            0.00   \n",
       "\n",
       "     workout_max_hr  fat_burn_minutes  cardio_minutes  peak_minutes  \\\n",
       "0            171.17              33.0            19.0          13.0   \n",
       "1              0.00              33.0            19.0          13.0   \n",
       "2            163.86              43.0            26.0          17.0   \n",
       "3            168.87              55.0            33.0          22.0   \n",
       "4            167.28              39.0            23.0          15.0   \n",
       "..              ...               ...             ...           ...   \n",
       "180          154.21              35.0            21.0          14.0   \n",
       "181          157.09              43.0            26.0          17.0   \n",
       "182            0.00              43.0            26.0          17.0   \n",
       "183          146.81              45.0            27.0          18.0   \n",
       "184            0.00              39.0            23.0          15.0   \n",
       "\n",
       "     weight_lbs    weekday  is_weekend  sleep_debt  cumulative_sleep_debt  \n",
       "0    165.894033     Monday       False       -0.47              -0.470000  \n",
       "1    165.158145    Tuesday       False        0.35              -0.120000  \n",
       "2    165.655147  Wednesday       False        0.03              -0.090000  \n",
       "3    165.787424   Thursday       False       -2.87              -2.960000  \n",
       "4    165.941747     Friday       False       -2.12              -5.080000  \n",
       "..          ...        ...         ...         ...                    ...  \n",
       "180  171.276928   Saturday        True        2.28               9.740577  \n",
       "181  171.100558     Sunday        True       -0.95               8.790577  \n",
       "182  170.836004     Monday       False        0.52               9.310577  \n",
       "183  170.968281    Tuesday       False       -2.93               6.380577  \n",
       "184  172.335145  Wednesday       False       -4.33               2.050577  \n",
       "\n",
       "[185 rows x 20 columns]"
      ]
     },
     "execution_count": 75,
     "metadata": {},
     "output_type": "execute_result"
    }
   ],
   "source": [
    "# Create a new column that calculates the cumulative sleep debt\n",
    "df['cumulative_sleep_debt'] = df['sleep_debt'].cumsum()\n",
    "\n",
    "df"
   ]
  },
  {
   "cell_type": "markdown",
   "id": "9e5d2cd7-9452-4936-af03-3bf272717fe3",
   "metadata": {},
   "source": [
    "## Task 5: Visualizing trends across single variables 📈\n",
    "\n",
    "Let's visualize the distributions and trends of different columns in our data."
   ]
  },
  {
   "cell_type": "code",
   "execution_count": 76,
   "id": "9cd0239b-abfe-4f78-ba87-7724ee3d8440",
   "metadata": {
    "executionCancelledAt": null,
    "executionTime": 388,
    "lastExecutedAt": 1736872973408,
    "lastExecutedByKernel": "0b41652a-fd66-48df-b288-01dc41aeffa1",
    "lastScheduledRunId": null,
    "lastSuccessfullyExecutedCode": "# Create a histogram of the number of steps\nplt.figure(figsize=(10, 6))\nplt.hist(df['steps'], bins=30, color='skyblue', edgecolor='black')\nplt.xlabel('Number of Steps')\nplt.ylabel('Frequency')\nplt.title('Histogram of Number of Steps')\nplt.tight_layout()\nplt.show()",
    "outputsMetadata": {
     "0": {
      "height": 17,
      "type": "plotly"
     }
    }
   },
   "outputs": [
    {
     "data": {
      "image/png": "[encoded data removed]",
      "text/plain": [
       "<Figure size 1000x600 with 1 Axes>"
      ]
     },
     "metadata": {},
     "output_type": "display_data"
    }
   ],
   "source": [
    "# Create a histogram of the number of steps\n",
    "plt.figure(figsize=(10, 6))\n",
    "plt.hist(df['steps'], bins=30, color='skyblue', edgecolor='black')\n",
    "plt.xlabel('Number of Steps')\n",
    "plt.ylabel('Frequency')\n",
    "plt.title('Histogram of Number of Steps')\n",
    "plt.tight_layout()\n",
    "plt.show()"
   ]
  },
  {
   "cell_type": "code",
   "execution_count": 77,
   "id": "dc25e65e-342c-4e11-b022-c48fd097244b",
   "metadata": {
    "executionCancelledAt": null,
    "executionTime": 453,
    "lastExecutedAt": 1736873005947,
    "lastExecutedByKernel": "0b41652a-fd66-48df-b288-01dc41aeffa1",
    "lastScheduledRunId": null,
    "lastSuccessfullyExecutedCode": "# Create a line chart for the number of steps over time\nplt.figure(figsize=(12, 6))\nplt.plot(df['date'], df['steps'], marker='o', linestyle='-', color='b')\nplt.xlabel('Date')\nplt.ylabel('Number of Steps')\nplt.title('Number of Steps Over Time')\nplt.xticks(rotation=45)\nplt.tight_layout()\n\n# Display the line chart\nplt.show()",
    "outputsMetadata": {
     "0": {
      "height": 17,
      "type": "plotly"
     }
    }
   },
   "outputs": [
    {
     "data": {
      "image/png": "[encoded data removed]",
      "text/plain": [
       "<Figure size 1200x600 with 1 Axes>"
      ]
     },
     "metadata": {},
     "output_type": "display_data"
    }
   ],
   "source": [
    "# Create a line chart for the number of steps over time\n",
    "plt.figure(figsize=(12, 6))\n",
    "plt.plot(df['date'], df['steps'], marker='o', linestyle='-', color='b')\n",
    "plt.xlabel('Date')\n",
    "plt.ylabel('Number of Steps')\n",
    "plt.title('Number of Steps Over Time')\n",
    "plt.xticks(rotation=45)\n",
    "plt.tight_layout()\n",
    "\n",
    "# Display the line chart\n",
    "plt.show()"
   ]
  },
  {
   "cell_type": "code",
   "execution_count": 78,
   "id": "69b5062c-8159-47ae-bd99-8e533d926200",
   "metadata": {
    "executionCancelledAt": null,
    "executionTime": 391,
    "lastExecutedAt": 1736873276746,
    "lastExecutedByKernel": "0b41652a-fd66-48df-b288-01dc41aeffa1",
    "lastScheduledRunId": null,
    "lastSuccessfullyExecutedCode": "# Visualize the distribution of calories burned\nplt.figure(figsize=(10, 6))\nplt.hist(df['total_calories_burned'], bins=30, color='blue', edgecolor='black')\nplt.xlabel('Calories Burned')\nplt.ylabel('Frequency')\nplt.title('Histogram of Calories Burned')\nplt.tight_layout()\nplt.show()",
    "outputsMetadata": {
     "0": {
      "height": 17,
      "type": "plotly"
     }
    }
   },
   "outputs": [
    {
     "data": {
      "image/png": "[encoded data removed]",
      "text/plain": [
       "<Figure size 1000x600 with 1 Axes>"
      ]
     },
     "metadata": {},
     "output_type": "display_data"
    }
   ],
   "source": [
    "# Visualize the distribution of calories burned\n",
    "plt.figure(figsize=(10, 6))\n",
    "plt.hist(df['total_calories_burned'], bins=30, color='blue', edgecolor='black')\n",
    "plt.xlabel('Calories Burned')\n",
    "plt.ylabel('Frequency')\n",
    "plt.title('Histogram of Calories Burned')\n",
    "plt.tight_layout()\n",
    "plt.show()"
   ]
  },
  {
   "cell_type": "code",
   "execution_count": 79,
   "id": "b383c070-42c5-4003-ab66-810cbca9fa00",
   "metadata": {
    "executionCancelledAt": null,
    "executionTime": 463,
    "lastExecutedAt": 1736873329594,
    "lastExecutedByKernel": "0b41652a-fd66-48df-b288-01dc41aeffa1",
    "lastScheduledRunId": null,
    "lastSuccessfullyExecutedCode": "# Create a line chart for the number of calories burned over time\nplt.figure(figsize=(12, 6))\nplt.plot(df['date'], df['total_calories_burned'], marker='o', linestyle='-', color='b')\nplt.xlabel('Date')\nplt.ylabel('Total Calories Burned')\nplt.title('Calories Over Time')\nplt.xticks(rotation=45)\nplt.tight_layout()\n\n# Display the line chart\nplt.show()",
    "outputsMetadata": {
     "0": {
      "height": 17,
      "type": "plotly"
     }
    }
   },
   "outputs": [
    {
     "data": {
      "image/png": "[encoded data removed]",
      "text/plain": [
       "<Figure size 1200x600 with 1 Axes>"
      ]
     },
     "metadata": {},
     "output_type": "display_data"
    }
   ],
   "source": [
    "# Create a line chart for the number of calories burned over time\n",
    "plt.figure(figsize=(12, 6))\n",
    "plt.plot(df['date'], df['total_calories_burned'], marker='o', linestyle='-', color='b')\n",
    "plt.xlabel('Date')\n",
    "plt.ylabel('Total Calories Burned')\n",
    "plt.title('Calories Over Time')\n",
    "plt.xticks(rotation=45)\n",
    "plt.tight_layout()\n",
    "\n",
    "# Display the line chart\n",
    "plt.show()"
   ]
  },
  {
   "cell_type": "code",
   "execution_count": 80,
   "id": "286d900d-4517-49ab-b8c6-2481da0f8f87",
   "metadata": {
    "executionCancelledAt": null,
    "executionTime": 450,
    "lastExecutedAt": 1736873699853,
    "lastExecutedByKernel": "0b41652a-fd66-48df-b288-01dc41aeffa1",
    "lastScheduledRunId": null,
    "lastSuccessfullyExecutedCode": "# Visualize weight trend over time\nplt.figure(figsize=(12, 6))\nplt.plot(df['date'], df['body_weight_kg'], marker='o', linestyle='-')\nplt.xlabel('Date')\nplt.ylabel('Weight (kg)')\nplt.title('Weight Trend Over Time')\nplt.xticks()\nplt.tight_layout()\n\nplt.show()",
    "outputsMetadata": {
     "0": {
      "height": 17,
      "type": "plotly"
     }
    }
   },
   "outputs": [
    {
     "data": {
      "image/png": "[encoded data removed]",
      "text/plain": [
       "<Figure size 1200x600 with 1 Axes>"
      ]
     },
     "metadata": {},
     "output_type": "display_data"
    }
   ],
   "source": [
    "# Visualize weight trend over time\n",
    "plt.figure(figsize=(12, 6))\n",
    "plt.plot(df['date'], df['body_weight_kg'], linestyle='-')\n",
    "plt.xlabel('Date')\n",
    "plt.ylabel('Weight (kg)')\n",
    "plt.title('Weight Trend Over Time')\n",
    "plt.xticks()\n",
    "plt.tight_layout()\n",
    "\n",
    "plt.show()"
   ]
  },
  {
   "cell_type": "markdown",
   "id": "558fec35-681e-4acb-b18d-2a155a8938f8",
   "metadata": {},
   "source": [
    "## Task 6: Visualizing trends across multiple variables 📊"
   ]
  },
  {
   "cell_type": "code",
   "execution_count": 81,
   "id": "cac69846-827e-4c44-9371-5500c586819c",
   "metadata": {
    "executionCancelledAt": null,
    "executionTime": null,
    "lastExecutedAt": null,
    "lastExecutedByKernel": null,
    "lastScheduledRunId": null,
    "lastSuccessfullyExecutedCode": null,
    "outputsMetadata": {
     "0": {
      "height": 17,
      "type": "plotly"
     }
    }
   },
   "outputs": [
    {
     "data": {
      "application/vnd.plotly.v1+json": {
       "config": {
        "plotlyServerURL": "https://plot.ly"
       },
       "data": [
        {
         "hovertemplate": "Metric=sleep_hours<br>Date=%{x}<br>Hours=%{y}<extra></extra>",
         "legendgroup": "sleep_hours",
         "line": {
          "color": "#636efa",
          "dash": "solid"
         },
         "marker": {
          "symbol": "circle"
         },
         "mode": "lines",
         "name": "sleep_hours",
         "orientation": "v",
         "showlegend": true,
         "type": "scatter",
         "x": [
          "2024-07-01T00:00:00",
          "2024-07-02T00:00:00",
          "2024-07-03T00:00:00",
          "2024-07-04T00:00:00",
          "2024-07-05T00:00:00",
          "2024-07-06T00:00:00",
          "2024-07-07T00:00:00",
          "2024-07-08T00:00:00",
          "2024-07-09T00:00:00",
          "2024-07-10T00:00:00",
          "2024-07-11T00:00:00",
          "2024-07-12T00:00:00",
          "2024-07-13T00:00:00",
          "2024-07-14T00:00:00",
          "2024-07-15T00:00:00",
          "2024-07-16T00:00:00",
          "2024-07-17T00:00:00",
          "2024-07-18T00:00:00",
          "2024-07-19T00:00:00",
          "2024-07-20T00:00:00",
          "2024-07-21T00:00:00",
          "2024-07-22T00:00:00",
          "2024-07-23T00:00:00",
          "2024-07-24T00:00:00",
          "2024-07-25T00:00:00",
          "2024-07-26T00:00:00",
          "2024-07-27T00:00:00",
          "2024-07-28T00:00:00",
          "2024-07-29T00:00:00",
          "2024-07-30T00:00:00",
          "2024-07-31T00:00:00",
          "2024-08-01T00:00:00",
          "2024-08-02T00:00:00",
          "2024-08-03T00:00:00",
          "2024-08-04T00:00:00",
          "2024-08-05T00:00:00",
          "2024-08-06T00:00:00",
          "2024-08-07T00:00:00",
          "2024-08-08T00:00:00",
          "2024-08-09T00:00:00",
          "2024-08-10T00:00:00",
          "2024-08-11T00:00:00",
          "2024-08-12T00:00:00",
          "2024-08-13T00:00:00",
          "2024-08-14T00:00:00",
          "2024-08-15T00:00:00",
          "2024-08-16T00:00:00",
          "2024-08-17T00:00:00",
          "2024-08-18T00:00:00",
          "2024-08-19T00:00:00",
          "2024-08-20T00:00:00",
          "2024-08-21T00:00:00",
          "2024-08-22T00:00:00",
          "2024-08-23T00:00:00",
          "2024-08-24T00:00:00",
          "2024-08-25T00:00:00",
          "2024-08-26T00:00:00",
          "2024-08-27T00:00:00",
          "2024-08-28T00:00:00",
          "2024-08-29T00:00:00",
          "2024-08-30T00:00:00",
          "2024-08-31T00:00:00",
          "2024-09-01T00:00:00",
          "2024-09-02T00:00:00",
          "2024-09-03T00:00:00",
          "2024-09-04T00:00:00",
          "2024-09-05T00:00:00",
          "2024-09-06T00:00:00",
          "2024-09-07T00:00:00",
          "2024-09-08T00:00:00",
          "2024-09-09T00:00:00",
          "2024-09-10T00:00:00",
          "2024-09-11T00:00:00",
          "2024-09-12T00:00:00",
          "2024-09-13T00:00:00",
          "2024-09-14T00:00:00",
          "2024-09-15T00:00:00",
          "2024-09-16T00:00:00",
          "2024-09-17T00:00:00",
          "2024-09-18T00:00:00",
          "2024-09-19T00:00:00",
          "2024-09-20T00:00:00",
          "2024-09-21T00:00:00",
          "2024-09-22T00:00:00",
          "2024-09-23T00:00:00",
          "2024-09-24T00:00:00",
          "2024-09-25T00:00:00",
          "2024-09-26T00:00:00",
          "2024-09-27T00:00:00",
          "2024-09-28T00:00:00",
          "2024-09-29T00:00:00",
          "2024-09-30T00:00:00",
          "2024-10-01T00:00:00",
          "2024-10-02T00:00:00",
          "2024-10-03T00:00:00",
          "2024-10-04T00:00:00",
          "2024-10-05T00:00:00",
          "2024-10-06T00:00:00",
          "2024-10-07T00:00:00",
          "2024-10-08T00:00:00",
          "2024-10-09T00:00:00",
          "2024-10-10T00:00:00",
          "2024-10-11T00:00:00",
          "2024-10-12T00:00:00",
          "2024-10-13T00:00:00",
          "2024-10-14T00:00:00",
          "2024-10-15T00:00:00",
          "2024-10-16T00:00:00",
          "2024-10-17T00:00:00",
          "2024-10-18T00:00:00",
          "2024-10-19T00:00:00",
          "2024-10-20T00:00:00",
          "2024-10-21T00:00:00",
          "2024-10-22T00:00:00",
          "2024-10-23T00:00:00",
          "2024-10-24T00:00:00",
          "2024-10-25T00:00:00",
          "2024-10-26T00:00:00",
          "2024-10-27T00:00:00",
          "2024-10-28T00:00:00",
          "2024-10-29T00:00:00",
          "2024-10-30T00:00:00",
          "2024-10-31T00:00:00",
          "2024-11-01T00:00:00",
          "2024-11-02T00:00:00",
          "2024-11-03T00:00:00",
          "2024-11-04T00:00:00",
          "2024-11-05T00:00:00",
          "2024-11-06T00:00:00",
          "2024-11-07T00:00:00",
          "2024-11-08T00:00:00",
          "2024-11-09T00:00:00",
          "2024-11-10T00:00:00",
          "2024-11-11T00:00:00",
          "2024-11-12T00:00:00",
          "2024-11-13T00:00:00",
          "2024-11-14T00:00:00",
          "2024-11-15T00:00:00",
          "2024-11-16T00:00:00",
          "2024-11-17T00:00:00",
          "2024-11-18T00:00:00",
          "2024-11-19T00:00:00",
          "2024-11-20T00:00:00",
          "2024-11-21T00:00:00",
          "2024-11-22T00:00:00",
          "2024-11-23T00:00:00",
          "2024-11-24T00:00:00",
          "2024-11-25T00:00:00",
          "2024-11-26T00:00:00",
          "2024-11-27T00:00:00",
          "2024-11-28T00:00:00",
          "2024-11-29T00:00:00",
          "2024-11-30T00:00:00",
          "2024-12-01T00:00:00",
          "2024-12-02T00:00:00",
          "2024-12-03T00:00:00",
          "2024-12-04T00:00:00",
          "2024-12-05T00:00:00",
          "2024-12-06T00:00:00",
          "2024-12-07T00:00:00",
          "2024-12-08T00:00:00",
          "2024-12-09T00:00:00",
          "2024-12-10T00:00:00",
          "2024-12-11T00:00:00",
          "2024-12-12T00:00:00",
          "2024-12-13T00:00:00",
          "2024-12-14T00:00:00",
          "2024-12-15T00:00:00",
          "2024-12-16T00:00:00",
          "2024-12-17T00:00:00",
          "2024-12-18T00:00:00",
          "2024-12-19T00:00:00",
          "2024-12-20T00:00:00",
          "2024-12-21T00:00:00",
          "2024-12-22T00:00:00",
          "2024-12-23T00:00:00",
          "2024-12-24T00:00:00",
          "2024-12-25T00:00:00",
          "2024-12-26T00:00:00",
          "2024-12-27T00:00:00",
          "2024-12-28T00:00:00",
          "2024-12-29T00:00:00",
          "2024-12-30T00:00:00",
          "2024-12-31T00:00:00",
          "2025-01-01T00:00:00"
         ],
         "xaxis": "x",
         "y": [
          7.03,
          7.85,
          7.53,
          4.63,
          5.38,
          8.04,
          9.44,
          6.59,
          8.02,
          8.87,
          7.894519307994196,
          6.22,
          7.16,
          8.86,
          8.47,
          8.89,
          7.57,
          7.52,
          6.04,
          7.48,
          8.05,
          6.938940412392855,
          7.96,
          8.05,
          8.01,
          5.95,
          7.91,
          9.12,
          7.47,
          7.96,
          7.19,
          7.96,
          6.4885786973208734,
          7.75,
          9.39,
          8.12,
          6.825445720478996,
          7.82,
          6.52,
          6.01,
          6.66,
          8.98,
          7.68,
          7.83,
          7.58,
          7.82,
          5.45,
          6.88,
          9.61,
          6.9,
          7.25,
          8.58,
          7.27,
          6.7428012018323065,
          6.53,
          8.85,
          7.78,
          7.42,
          8.48,
          7.07,
          6.24,
          7.23,
          8.64,
          7.66,
          6.44,
          7.33,
          7.7,
          5.04,
          7.68,
          8.09,
          7.84,
          8.291172463,
          7.74,
          7.615607801327909,
          5.66,
          7.570930855330989,
          8.1,
          7.9,
          7.15,
          7.91,
          7.11,
          5.29,
          7.59,
          8.66,
          7.88,
          8.54,
          7.91,
          7.86,
          6.31,
          6.91,
          7.500410260865077,
          7.95,
          7.18,
          7.72,
          7.2,
          6.38,
          7.51,
          8.74,
          8.3,
          7.4,
          6.63,
          7.38,
          5.8,
          7.33,
          8.49,
          7.1,
          7.927719044719902,
          6.65,
          7.73,
          5.26,
          8.18,
          9.39,
          7.96,
          7.2,
          7.131062631933324,
          8.004399257791045,
          5.81,
          6.96,
          9.18,
          7.79,
          7.15,
          7.88,
          6.7,
          6.3,
          7.94,
          9.59,
          7.78,
          7.45,
          7.67,
          7.39,
          8.297202001223887,
          8.52,
          8.83,
          7.29,
          7.52,
          7.32,
          6.8,
          5.45,
          8.075697146022302,
          9.29,
          8.27,
          7.84,
          8.61,
          7.44,
          5.88,
          7.97,
          8.350693529672629,
          8.06,
          7.14,
          8.313071485130733,
          null,
          null,
          null,
          9.02,
          7.31,
          7.88,
          8.04,
          8.41,
          6.42,
          6.89,
          9.62,
          8.4,
          7.37,
          7.28,
          7.43,
          5.5,
          7.32,
          8.74,
          6.95,
          7.41,
          7.142324777835534,
          6.82,
          5.4,
          7.4,
          8.64,
          8.49,
          null,
          null,
          null,
          9.45,
          9.78,
          6.55,
          8.02,
          4.57,
          3.17
         ],
         "yaxis": "y"
        },
        {
         "hovertemplate": "Metric=sleep_debt<br>Date=%{x}<br>Hours=%{y}<extra></extra>",
         "legendgroup": "sleep_debt",
         "line": {
          "color": "#EF553B",
          "dash": "solid"
         },
         "marker": {
          "symbol": "circle"
         },
         "mode": "lines",
         "name": "sleep_debt",
         "orientation": "v",
         "showlegend": true,
         "type": "scatter",
         "x": [
          "2024-07-01T00:00:00",
          "2024-07-02T00:00:00",
          "2024-07-03T00:00:00",
          "2024-07-04T00:00:00",
          "2024-07-05T00:00:00",
          "2024-07-06T00:00:00",
          "2024-07-07T00:00:00",
          "2024-07-08T00:00:00",
          "2024-07-09T00:00:00",
          "2024-07-10T00:00:00",
          "2024-07-11T00:00:00",
          "2024-07-12T00:00:00",
          "2024-07-13T00:00:00",
          "2024-07-14T00:00:00",
          "2024-07-15T00:00:00",
          "2024-07-16T00:00:00",
          "2024-07-17T00:00:00",
          "2024-07-18T00:00:00",
          "2024-07-19T00:00:00",
          "2024-07-20T00:00:00",
          "2024-07-21T00:00:00",
          "2024-07-22T00:00:00",
          "2024-07-23T00:00:00",
          "2024-07-24T00:00:00",
          "2024-07-25T00:00:00",
          "2024-07-26T00:00:00",
          "2024-07-27T00:00:00",
          "2024-07-28T00:00:00",
          "2024-07-29T00:00:00",
          "2024-07-30T00:00:00",
          "2024-07-31T00:00:00",
          "2024-08-01T00:00:00",
          "2024-08-02T00:00:00",
          "2024-08-03T00:00:00",
          "2024-08-04T00:00:00",
          "2024-08-05T00:00:00",
          "2024-08-06T00:00:00",
          "2024-08-07T00:00:00",
          "2024-08-08T00:00:00",
          "2024-08-09T00:00:00",
          "2024-08-10T00:00:00",
          "2024-08-11T00:00:00",
          "2024-08-12T00:00:00",
          "2024-08-13T00:00:00",
          "2024-08-14T00:00:00",
          "2024-08-15T00:00:00",
          "2024-08-16T00:00:00",
          "2024-08-17T00:00:00",
          "2024-08-18T00:00:00",
          "2024-08-19T00:00:00",
          "2024-08-20T00:00:00",
          "2024-08-21T00:00:00",
          "2024-08-22T00:00:00",
          "2024-08-23T00:00:00",
          "2024-08-24T00:00:00",
          "2024-08-25T00:00:00",
          "2024-08-26T00:00:00",
          "2024-08-27T00:00:00",
          "2024-08-28T00:00:00",
          "2024-08-29T00:00:00",
          "2024-08-30T00:00:00",
          "2024-08-31T00:00:00",
          "2024-09-01T00:00:00",
          "2024-09-02T00:00:00",
          "2024-09-03T00:00:00",
          "2024-09-04T00:00:00",
          "2024-09-05T00:00:00",
          "2024-09-06T00:00:00",
          "2024-09-07T00:00:00",
          "2024-09-08T00:00:00",
          "2024-09-09T00:00:00",
          "2024-09-10T00:00:00",
          "2024-09-11T00:00:00",
          "2024-09-12T00:00:00",
          "2024-09-13T00:00:00",
          "2024-09-14T00:00:00",
          "2024-09-15T00:00:00",
          "2024-09-16T00:00:00",
          "2024-09-17T00:00:00",
          "2024-09-18T00:00:00",
          "2024-09-19T00:00:00",
          "2024-09-20T00:00:00",
          "2024-09-21T00:00:00",
          "2024-09-22T00:00:00",
          "2024-09-23T00:00:00",
          "2024-09-24T00:00:00",
          "2024-09-25T00:00:00",
          "2024-09-26T00:00:00",
          "2024-09-27T00:00:00",
          "2024-09-28T00:00:00",
          "2024-09-29T00:00:00",
          "2024-09-30T00:00:00",
          "2024-10-01T00:00:00",
          "2024-10-02T00:00:00",
          "2024-10-03T00:00:00",
          "2024-10-04T00:00:00",
          "2024-10-05T00:00:00",
          "2024-10-06T00:00:00",
          "2024-10-07T00:00:00",
          "2024-10-08T00:00:00",
          "2024-10-09T00:00:00",
          "2024-10-10T00:00:00",
          "2024-10-11T00:00:00",
          "2024-10-12T00:00:00",
          "2024-10-13T00:00:00",
          "2024-10-14T00:00:00",
          "2024-10-15T00:00:00",
          "2024-10-16T00:00:00",
          "2024-10-17T00:00:00",
          "2024-10-18T00:00:00",
          "2024-10-19T00:00:00",
          "2024-10-20T00:00:00",
          "2024-10-21T00:00:00",
          "2024-10-22T00:00:00",
          "2024-10-23T00:00:00",
          "2024-10-24T00:00:00",
          "2024-10-25T00:00:00",
          "2024-10-26T00:00:00",
          "2024-10-27T00:00:00",
          "2024-10-28T00:00:00",
          "2024-10-29T00:00:00",
          "2024-10-30T00:00:00",
          "2024-10-31T00:00:00",
          "2024-11-01T00:00:00",
          "2024-11-02T00:00:00",
          "2024-11-03T00:00:00",
          "2024-11-04T00:00:00",
          "2024-11-05T00:00:00",
          "2024-11-06T00:00:00",
          "2024-11-07T00:00:00",
          "2024-11-08T00:00:00",
          "2024-11-09T00:00:00",
          "2024-11-10T00:00:00",
          "2024-11-11T00:00:00",
          "2024-11-12T00:00:00",
          "2024-11-13T00:00:00",
          "2024-11-14T00:00:00",
          "2024-11-15T00:00:00",
          "2024-11-16T00:00:00",
          "2024-11-17T00:00:00",
          "2024-11-18T00:00:00",
          "2024-11-19T00:00:00",
          "2024-11-20T00:00:00",
          "2024-11-21T00:00:00",
          "2024-11-22T00:00:00",
          "2024-11-23T00:00:00",
          "2024-11-24T00:00:00",
          "2024-11-25T00:00:00",
          "2024-11-26T00:00:00",
          "2024-11-27T00:00:00",
          "2024-11-28T00:00:00",
          "2024-11-29T00:00:00",
          "2024-11-30T00:00:00",
          "2024-12-01T00:00:00",
          "2024-12-02T00:00:00",
          "2024-12-03T00:00:00",
          "2024-12-04T00:00:00",
          "2024-12-05T00:00:00",
          "2024-12-06T00:00:00",
          "2024-12-07T00:00:00",
          "2024-12-08T00:00:00",
          "2024-12-09T00:00:00",
          "2024-12-10T00:00:00",
          "2024-12-11T00:00:00",
          "2024-12-12T00:00:00",
          "2024-12-13T00:00:00",
          "2024-12-14T00:00:00",
          "2024-12-15T00:00:00",
          "2024-12-16T00:00:00",
          "2024-12-17T00:00:00",
          "2024-12-18T00:00:00",
          "2024-12-19T00:00:00",
          "2024-12-20T00:00:00",
          "2024-12-21T00:00:00",
          "2024-12-22T00:00:00",
          "2024-12-23T00:00:00",
          "2024-12-24T00:00:00",
          "2024-12-25T00:00:00",
          "2024-12-26T00:00:00",
          "2024-12-27T00:00:00",
          "2024-12-28T00:00:00",
          "2024-12-29T00:00:00",
          "2024-12-30T00:00:00",
          "2024-12-31T00:00:00",
          "2025-01-01T00:00:00"
         ],
         "xaxis": "x",
         "y": [
          -0.46999999999999975,
          0.34999999999999964,
          0.03000000000000025,
          -2.87,
          -2.12,
          0.5399999999999991,
          1.9399999999999995,
          -0.9100000000000001,
          0.5199999999999996,
          1.3699999999999992,
          0.3945193079941962,
          -1.2800000000000002,
          -0.33999999999999986,
          1.3599999999999994,
          0.9700000000000006,
          1.3900000000000006,
          0.07000000000000028,
          0.019999999999999574,
          -1.46,
          -0.019999999999999574,
          0.5500000000000007,
          -0.5610595876071454,
          0.45999999999999996,
          0.5500000000000007,
          0.5099999999999998,
          -1.5499999999999998,
          0.41000000000000014,
          1.6199999999999992,
          -0.03000000000000025,
          0.45999999999999996,
          -0.3099999999999996,
          0.45999999999999996,
          -1.0114213026791266,
          0.25,
          1.8900000000000006,
          0.6199999999999992,
          -0.6745542795210042,
          0.3200000000000003,
          -0.9800000000000004,
          -1.4900000000000002,
          -0.8399999999999999,
          1.4800000000000004,
          0.17999999999999972,
          0.33000000000000007,
          0.08000000000000007,
          0.3200000000000003,
          -2.05,
          -0.6200000000000001,
          2.1099999999999994,
          -0.5999999999999996,
          -0.25,
          1.08,
          -0.23000000000000043,
          -0.7571987981676935,
          -0.9699999999999998,
          1.3499999999999996,
          0.28000000000000025,
          -0.08000000000000007,
          0.9800000000000004,
          -0.4299999999999997,
          -1.2599999999999998,
          -0.2699999999999996,
          1.1400000000000006,
          0.16000000000000014,
          -1.0599999999999996,
          -0.16999999999999993,
          0.20000000000000018,
          -2.46,
          0.17999999999999972,
          0.5899999999999999,
          0.33999999999999986,
          0.7911724630000005,
          0.2400000000000002,
          0.11560780132790871,
          -1.8399999999999999,
          0.07093085533098886,
          0.5999999999999996,
          0.40000000000000036,
          -0.34999999999999964,
          0.41000000000000014,
          -0.3899999999999997,
          -2.21,
          0.08999999999999986,
          1.1600000000000001,
          0.3799999999999999,
          1.0399999999999991,
          0.41000000000000014,
          0.3600000000000003,
          -1.1900000000000004,
          -0.5899999999999999,
          0.0004102608650766726,
          0.4500000000000002,
          -0.3200000000000003,
          0.21999999999999975,
          -0.2999999999999998,
          -1.12,
          0.009999999999999787,
          1.2400000000000002,
          0.8000000000000007,
          -0.09999999999999964,
          -0.8700000000000001,
          -0.1200000000000001,
          -1.7000000000000002,
          -0.16999999999999993,
          0.9900000000000002,
          -0.40000000000000036,
          0.4277190447199022,
          -0.8499999999999996,
          0.23000000000000043,
          -2.24,
          0.6799999999999997,
          1.8900000000000006,
          0.45999999999999996,
          -0.2999999999999998,
          -0.36893736806667565,
          0.5043992577910448,
          -1.6900000000000004,
          -0.54,
          1.6799999999999997,
          0.29000000000000004,
          -0.34999999999999964,
          0.3799999999999999,
          -0.7999999999999998,
          -1.2000000000000002,
          0.4400000000000004,
          2.09,
          0.28000000000000025,
          -0.04999999999999982,
          0.16999999999999993,
          -0.11000000000000032,
          0.7972020012238872,
          1.0199999999999996,
          1.33,
          -0.20999999999999996,
          0.019999999999999574,
          -0.17999999999999972,
          -0.7000000000000002,
          -2.05,
          0.5756971460223017,
          1.7899999999999991,
          0.7699999999999996,
          0.33999999999999986,
          1.1099999999999994,
          -0.05999999999999961,
          -1.62,
          0.46999999999999975,
          0.850693529672629,
          0.5600000000000005,
          -0.3600000000000003,
          0.8130714851307328,
          null,
          null,
          null,
          1.5199999999999996,
          -0.1900000000000004,
          0.3799999999999999,
          0.5399999999999991,
          0.9100000000000001,
          -1.08,
          -0.6100000000000003,
          2.119999999999999,
          0.9000000000000004,
          -0.1299999999999999,
          -0.21999999999999975,
          -0.07000000000000028,
          -2,
          -0.17999999999999972,
          1.2400000000000002,
          -0.5499999999999998,
          -0.08999999999999986,
          -0.3576752221644659,
          -0.6799999999999997,
          -2.0999999999999996,
          -0.09999999999999964,
          1.1400000000000006,
          0.9900000000000002,
          null,
          null,
          null,
          1.9499999999999993,
          2.2799999999999994,
          -0.9500000000000002,
          0.5199999999999996,
          -2.9299999999999997,
          -4.33
         ],
         "yaxis": "y"
        },
        {
         "hovertemplate": "Metric=cumulative_sleep_debt<br>Date=%{x}<br>Hours=%{y}<extra></extra>",
         "legendgroup": "cumulative_sleep_debt",
         "line": {
          "color": "#00cc96",
          "dash": "solid"
         },
         "marker": {
          "symbol": "circle"
         },
         "mode": "lines",
         "name": "cumulative_sleep_debt",
         "orientation": "v",
         "showlegend": true,
         "type": "scatter",
         "x": [
          "2024-07-01T00:00:00",
          "2024-07-02T00:00:00",
          "2024-07-03T00:00:00",
          "2024-07-04T00:00:00",
          "2024-07-05T00:00:00",
          "2024-07-06T00:00:00",
          "2024-07-07T00:00:00",
          "2024-07-08T00:00:00",
          "2024-07-09T00:00:00",
          "2024-07-10T00:00:00",
          "2024-07-11T00:00:00",
          "2024-07-12T00:00:00",
          "2024-07-13T00:00:00",
          "2024-07-14T00:00:00",
          "2024-07-15T00:00:00",
          "2024-07-16T00:00:00",
          "2024-07-17T00:00:00",
          "2024-07-18T00:00:00",
          "2024-07-19T00:00:00",
          "2024-07-20T00:00:00",
          "2024-07-21T00:00:00",
          "2024-07-22T00:00:00",
          "2024-07-23T00:00:00",
          "2024-07-24T00:00:00",
          "2024-07-25T00:00:00",
          "2024-07-26T00:00:00",
          "2024-07-27T00:00:00",
          "2024-07-28T00:00:00",
          "2024-07-29T00:00:00",
          "2024-07-30T00:00:00",
          "2024-07-31T00:00:00",
          "2024-08-01T00:00:00",
          "2024-08-02T00:00:00",
          "2024-08-03T00:00:00",
          "2024-08-04T00:00:00",
          "2024-08-05T00:00:00",
          "2024-08-06T00:00:00",
          "2024-08-07T00:00:00",
          "2024-08-08T00:00:00",
          "2024-08-09T00:00:00",
          "2024-08-10T00:00:00",
          "2024-08-11T00:00:00",
          "2024-08-12T00:00:00",
          "2024-08-13T00:00:00",
          "2024-08-14T00:00:00",
          "2024-08-15T00:00:00",
          "2024-08-16T00:00:00",
          "2024-08-17T00:00:00",
          "2024-08-18T00:00:00",
          "2024-08-19T00:00:00",
          "2024-08-20T00:00:00",
          "2024-08-21T00:00:00",
          "2024-08-22T00:00:00",
          "2024-08-23T00:00:00",
          "2024-08-24T00:00:00",
          "2024-08-25T00:00:00",
          "2024-08-26T00:00:00",
          "2024-08-27T00:00:00",
          "2024-08-28T00:00:00",
          "2024-08-29T00:00:00",
          "2024-08-30T00:00:00",
          "2024-08-31T00:00:00",
          "2024-09-01T00:00:00",
          "2024-09-02T00:00:00",
          "2024-09-03T00:00:00",
          "2024-09-04T00:00:00",
          "2024-09-05T00:00:00",
          "2024-09-06T00:00:00",
          "2024-09-07T00:00:00",
          "2024-09-08T00:00:00",
          "2024-09-09T00:00:00",
          "2024-09-10T00:00:00",
          "2024-09-11T00:00:00",
          "2024-09-12T00:00:00",
          "2024-09-13T00:00:00",
          "2024-09-14T00:00:00",
          "2024-09-15T00:00:00",
          "2024-09-16T00:00:00",
          "2024-09-17T00:00:00",
          "2024-09-18T00:00:00",
          "2024-09-19T00:00:00",
          "2024-09-20T00:00:00",
          "2024-09-21T00:00:00",
          "2024-09-22T00:00:00",
          "2024-09-23T00:00:00",
          "2024-09-24T00:00:00",
          "2024-09-25T00:00:00",
          "2024-09-26T00:00:00",
          "2024-09-27T00:00:00",
          "2024-09-28T00:00:00",
          "2024-09-29T00:00:00",
          "2024-09-30T00:00:00",
          "2024-10-01T00:00:00",
          "2024-10-02T00:00:00",
          "2024-10-03T00:00:00",
          "2024-10-04T00:00:00",
          "2024-10-05T00:00:00",
          "2024-10-06T00:00:00",
          "2024-10-07T00:00:00",
          "2024-10-08T00:00:00",
          "2024-10-09T00:00:00",
          "2024-10-10T00:00:00",
          "2024-10-11T00:00:00",
          "2024-10-12T00:00:00",
          "2024-10-13T00:00:00",
          "2024-10-14T00:00:00",
          "2024-10-15T00:00:00",
          "2024-10-16T00:00:00",
          "2024-10-17T00:00:00",
          "2024-10-18T00:00:00",
          "2024-10-19T00:00:00",
          "2024-10-20T00:00:00",
          "2024-10-21T00:00:00",
          "2024-10-22T00:00:00",
          "2024-10-23T00:00:00",
          "2024-10-24T00:00:00",
          "2024-10-25T00:00:00",
          "2024-10-26T00:00:00",
          "2024-10-27T00:00:00",
          "2024-10-28T00:00:00",
          "2024-10-29T00:00:00",
          "2024-10-30T00:00:00",
          "2024-10-31T00:00:00",
          "2024-11-01T00:00:00",
          "2024-11-02T00:00:00",
          "2024-11-03T00:00:00",
          "2024-11-04T00:00:00",
          "2024-11-05T00:00:00",
          "2024-11-06T00:00:00",
          "2024-11-07T00:00:00",
          "2024-11-08T00:00:00",
          "2024-11-09T00:00:00",
          "2024-11-10T00:00:00",
          "2024-11-11T00:00:00",
          "2024-11-12T00:00:00",
          "2024-11-13T00:00:00",
          "2024-11-14T00:00:00",
          "2024-11-15T00:00:00",
          "2024-11-16T00:00:00",
          "2024-11-17T00:00:00",
          "2024-11-18T00:00:00",
          "2024-11-19T00:00:00",
          "2024-11-20T00:00:00",
          "2024-11-21T00:00:00",
          "2024-11-22T00:00:00",
          "2024-11-23T00:00:00",
          "2024-11-24T00:00:00",
          "2024-11-25T00:00:00",
          "2024-11-26T00:00:00",
          "2024-11-27T00:00:00",
          "2024-11-28T00:00:00",
          "2024-11-29T00:00:00",
          "2024-11-30T00:00:00",
          "2024-12-01T00:00:00",
          "2024-12-02T00:00:00",
          "2024-12-03T00:00:00",
          "2024-12-04T00:00:00",
          "2024-12-05T00:00:00",
          "2024-12-06T00:00:00",
          "2024-12-07T00:00:00",
          "2024-12-08T00:00:00",
          "2024-12-09T00:00:00",
          "2024-12-10T00:00:00",
          "2024-12-11T00:00:00",
          "2024-12-12T00:00:00",
          "2024-12-13T00:00:00",
          "2024-12-14T00:00:00",
          "2024-12-15T00:00:00",
          "2024-12-16T00:00:00",
          "2024-12-17T00:00:00",
          "2024-12-18T00:00:00",
          "2024-12-19T00:00:00",
          "2024-12-20T00:00:00",
          "2024-12-21T00:00:00",
          "2024-12-22T00:00:00",
          "2024-12-23T00:00:00",
          "2024-12-24T00:00:00",
          "2024-12-25T00:00:00",
          "2024-12-26T00:00:00",
          "2024-12-27T00:00:00",
          "2024-12-28T00:00:00",
          "2024-12-29T00:00:00",
          "2024-12-30T00:00:00",
          "2024-12-31T00:00:00",
          "2025-01-01T00:00:00"
         ],
         "xaxis": "x",
         "y": [
          -0.46999999999999975,
          -0.1200000000000001,
          -0.08999999999999986,
          -2.96,
          -5.08,
          -4.540000000000001,
          -2.6000000000000014,
          -3.5100000000000016,
          -2.990000000000002,
          -1.6200000000000028,
          -1.2254806920058066,
          -2.505480692005807,
          -2.8454806920058067,
          -1.4854806920058072,
          -0.5154806920058066,
          0.874519307994194,
          0.9445193079941943,
          0.9645193079941938,
          -0.49548069200580613,
          -0.5154806920058057,
          0.034519307994195,
          -0.5265402796129504,
          -0.06654027961295039,
          0.4834597203870503,
          0.9934597203870501,
          -0.5565402796129497,
          -0.14654027961294958,
          1.4734597203870496,
          1.4434597203870494,
          1.9034597203870494,
          1.5934597203870497,
          2.0534597203870497,
          1.0420384177079232,
          1.2920384177079232,
          3.1820384177079237,
          3.802038417707923,
          3.1274841381869187,
          3.447484138186919,
          2.4674841381869186,
          0.9774841381869184,
          0.13748413818691851,
          1.617484138186919,
          1.7974841381869187,
          2.1274841381869187,
          2.207484138186919,
          2.527484138186919,
          0.47748413818691926,
          -0.14251586181308085,
          1.9674841381869186,
          1.367484138186919,
          1.117484138186919,
          2.197484138186919,
          1.9674841381869186,
          1.210285340019225,
          0.2402853400192253,
          1.590285340019225,
          1.8702853400192252,
          1.7902853400192251,
          2.7702853400192256,
          2.340285340019226,
          1.080285340019226,
          0.8102853400192265,
          1.950285340019227,
          2.110285340019227,
          1.0502853400192276,
          0.8802853400192276,
          1.0802853400192278,
          -1.3797146599807721,
          -1.1997146599807724,
          -0.6097146599807726,
          -0.2697146599807727,
          0.5214578030192278,
          0.761457803019228,
          0.8770656043471368,
          -0.9629343956528631,
          -0.8920035403218742,
          -0.2920035403218746,
          0.10799645967812577,
          -0.24200354032187388,
          0.16799645967812626,
          -0.22200354032187342,
          -2.4320035403218734,
          -2.3420035403218735,
          -1.1820035403218734,
          -0.8020035403218735,
          0.23799645967812566,
          0.6479964596781258,
          1.0079964596781261,
          -0.18200354032187427,
          -0.7720035403218741,
          -0.7715932794567975,
          -0.3215932794567973,
          -0.6415932794567976,
          -0.4215932794567978,
          -0.7215932794567976,
          -1.8415932794567977,
          -1.831593279456798,
          -0.5915932794567977,
          0.20840672054320297,
          0.10840672054320333,
          -0.7615932794567968,
          -0.8815932794567969,
          -2.581593279456797,
          -2.751593279456797,
          -1.7615932794567968,
          -2.161593279456797,
          -1.733874234736895,
          -2.5838742347368946,
          -2.353874234736894,
          -4.593874234736894,
          -3.9138742347368947,
          -2.023874234736894,
          -1.5638742347368941,
          -1.863874234736894,
          -2.2328116028035696,
          -1.7284123450125248,
          -3.418412345012525,
          -3.9584123450125253,
          -2.2784123450125255,
          -1.9884123450125255,
          -2.338412345012525,
          -1.9584123450125253,
          -2.758412345012525,
          -3.9584123450125253,
          -3.518412345012525,
          -1.428412345012525,
          -1.1484123450125248,
          -1.1984123450125246,
          -1.0284123450125247,
          -1.138412345012525,
          -0.3412103437886378,
          0.6787896562113618,
          2.008789656211362,
          1.7987896562113619,
          1.8187896562113615,
          1.6387896562113617,
          0.9387896562113616,
          -1.1112103437886383,
          -0.5355131977663365,
          1.2544868022336626,
          2.024486802233662,
          2.364486802233662,
          3.4744868022336615,
          3.414486802233662,
          1.7944868022336617,
          2.2644868022336615,
          3.1151803319062905,
          3.675180331906291,
          3.3151803319062907,
          4.1282518170370235,
          null,
          null,
          null,
          5.648251817037023,
          5.458251817037023,
          5.838251817037023,
          6.378251817037022,
          7.288251817037022,
          6.208251817037022,
          5.5982518170370215,
          7.718251817037021,
          8.61825181703702,
          8.488251817037021,
          8.268251817037022,
          8.198251817037022,
          6.198251817037022,
          6.018251817037022,
          7.2582518170370225,
          6.708251817037023,
          6.618251817037023,
          6.260576594872557,
          5.580576594872557,
          3.4805765948725575,
          3.380576594872558,
          4.5205765948725585,
          5.510576594872559,
          null,
          null,
          null,
          7.460576594872558,
          9.740576594872557,
          8.790576594872558,
          9.310576594872558,
          6.380576594872558,
          2.050576594872558
         ],
         "yaxis": "y"
        }
       ],
       "layout": {
        "legend": {
         "title": {
          "text": "Metric"
         },
         "tracegroupgap": 0
        },
        "template": {
         "data": {
          "bar": [
           {
            "error_x": {
             "color": "#2a3f5f"
            },
            "error_y": {
             "color": "#2a3f5f"
            },
            "marker": {
             "line": {
              "color": "#E5ECF6",
              "width": 0.5
             },
             "pattern": {
              "fillmode": "overlay",
              "size": 10,
              "solidity": 0.2
             }
            },
            "type": "bar"
           }
          ],
          "barpolar": [
           {
            "marker": {
             "line": {
              "color": "#E5ECF6",
              "width": 0.5
             },
             "pattern": {
              "fillmode": "overlay",
              "size": 10,
              "solidity": 0.2
             }
            },
            "type": "barpolar"
           }
          ],
          "carpet": [
           {
            "aaxis": {
             "endlinecolor": "#2a3f5f",
             "gridcolor": "white",
             "linecolor": "white",
             "minorgridcolor": "white",
             "startlinecolor": "#2a3f5f"
            },
            "baxis": {
             "endlinecolor": "#2a3f5f",
             "gridcolor": "white",
             "linecolor": "white",
             "minorgridcolor": "white",
             "startlinecolor": "#2a3f5f"
            },
            "type": "carpet"
           }
          ],
          "choropleth": [
           {
            "colorbar": {
             "outlinewidth": 0,
             "ticks": ""
            },
            "type": "choropleth"
           }
          ],
          "contour": [
           {
            "colorbar": {
             "outlinewidth": 0,
             "ticks": ""
            },
            "colorscale": [
             [
              0,
              "#0d0887"
             ],
             [
              0.1111111111111111,
              "#46039f"
             ],
             [
              0.2222222222222222,
              "#7201a8"
             ],
             [
              0.3333333333333333,
              "#9c179e"
             ],
             [
              0.4444444444444444,
              "#bd3786"
             ],
             [
              0.5555555555555556,
              "#d8576b"
             ],
             [
              0.6666666666666666,
              "#ed7953"
             ],
             [
              0.7777777777777778,
              "#fb9f3a"
             ],
             [
              0.8888888888888888,
              "#fdca26"
             ],
             [
              1,
              "#f0f921"
             ]
            ],
            "type": "contour"
           }
          ],
          "contourcarpet": [
           {
            "colorbar": {
             "outlinewidth": 0,
             "ticks": ""
            },
            "type": "contourcarpet"
           }
          ],
          "heatmap": [
           {
            "colorbar": {
             "outlinewidth": 0,
             "ticks": ""
            },
            "colorscale": [
             [
              0,
              "#0d0887"
             ],
             [
              0.1111111111111111,
              "#46039f"
             ],
             [
              0.2222222222222222,
              "#7201a8"
             ],
             [
              0.3333333333333333,
              "#9c179e"
             ],
             [
              0.4444444444444444,
              "#bd3786"
             ],
             [
              0.5555555555555556,
              "#d8576b"
             ],
             [
              0.6666666666666666,
              "#ed7953"
             ],
             [
              0.7777777777777778,
              "#fb9f3a"
             ],
             [
              0.8888888888888888,
              "#fdca26"
             ],
             [
              1,
              "#f0f921"
             ]
            ],
            "type": "heatmap"
           }
          ],
          "heatmapgl": [
           {
            "colorbar": {
             "outlinewidth": 0,
             "ticks": ""
            },
            "colorscale": [
             [
              0,
              "#0d0887"
             ],
             [
              0.1111111111111111,
              "#46039f"
             ],
             [
              0.2222222222222222,
              "#7201a8"
             ],
             [
              0.3333333333333333,
              "#9c179e"
             ],
             [
              0.4444444444444444,
              "#bd3786"
             ],
             [
              0.5555555555555556,
              "#d8576b"
             ],
             [
              0.6666666666666666,
              "#ed7953"
             ],
             [
              0.7777777777777778,
              "#fb9f3a"
             ],
             [
              0.8888888888888888,
              "#fdca26"
             ],
             [
              1,
              "#f0f921"
             ]
            ],
            "type": "heatmapgl"
           }
          ],
          "histogram": [
           {
            "marker": {
             "pattern": {
              "fillmode": "overlay",
              "size": 10,
              "solidity": 0.2
             }
            },
            "type": "histogram"
           }
          ],
          "histogram2d": [
           {
            "colorbar": {
             "outlinewidth": 0,
             "ticks": ""
            },
            "colorscale": [
             [
              0,
              "#0d0887"
             ],
             [
              0.1111111111111111,
              "#46039f"
             ],
             [
              0.2222222222222222,
              "#7201a8"
             ],
             [
              0.3333333333333333,
              "#9c179e"
             ],
             [
              0.4444444444444444,
              "#bd3786"
             ],
             [
              0.5555555555555556,
              "#d8576b"
             ],
             [
              0.6666666666666666,
              "#ed7953"
             ],
             [
              0.7777777777777778,
              "#fb9f3a"
             ],
             [
              0.8888888888888888,
              "#fdca26"
             ],
             [
              1,
              "#f0f921"
             ]
            ],
            "type": "histogram2d"
           }
          ],
          "histogram2dcontour": [
           {
            "colorbar": {
             "outlinewidth": 0,
             "ticks": ""
            },
            "colorscale": [
             [
              0,
              "#0d0887"
             ],
             [
              0.1111111111111111,
              "#46039f"
             ],
             [
              0.2222222222222222,
              "#7201a8"
             ],
             [
              0.3333333333333333,
              "#9c179e"
             ],
             [
              0.4444444444444444,
              "#bd3786"
             ],
             [
              0.5555555555555556,
              "#d8576b"
             ],
             [
              0.6666666666666666,
              "#ed7953"
             ],
             [
              0.7777777777777778,
              "#fb9f3a"
             ],
             [
              0.8888888888888888,
              "#fdca26"
             ],
             [
              1,
              "#f0f921"
             ]
            ],
            "type": "histogram2dcontour"
           }
          ],
          "mesh3d": [
           {
            "colorbar": {
             "outlinewidth": 0,
             "ticks": ""
            },
            "type": "mesh3d"
           }
          ],
          "parcoords": [
           {
            "line": {
             "colorbar": {
              "outlinewidth": 0,
              "ticks": ""
             }
            },
            "type": "parcoords"
           }
          ],
          "pie": [
           {
            "automargin": true,
            "type": "pie"
           }
          ],
          "scatter": [
           {
            "fillpattern": {
             "fillmode": "overlay",
             "size": 10,
             "solidity": 0.2
            },
            "type": "scatter"
           }
          ],
          "scatter3d": [
           {
            "line": {
             "colorbar": {
              "outlinewidth": 0,
              "ticks": ""
             }
            },
            "marker": {
             "colorbar": {
              "outlinewidth": 0,
              "ticks": ""
             }
            },
            "type": "scatter3d"
           }
          ],
          "scattercarpet": [
           {
            "marker": {
             "colorbar": {
              "outlinewidth": 0,
              "ticks": ""
             }
            },
            "type": "scattercarpet"
           }
          ],
          "scattergeo": [
           {
            "marker": {
             "colorbar": {
              "outlinewidth": 0,
              "ticks": ""
             }
            },
            "type": "scattergeo"
           }
          ],
          "scattergl": [
           {
            "marker": {
             "colorbar": {
              "outlinewidth": 0,
              "ticks": ""
             }
            },
            "type": "scattergl"
           }
          ],
          "scattermapbox": [
           {
            "marker": {
             "colorbar": {
              "outlinewidth": 0,
              "ticks": ""
             }
            },
            "type": "scattermapbox"
           }
          ],
          "scatterpolar": [
           {
            "marker": {
             "colorbar": {
              "outlinewidth": 0,
              "ticks": ""
             }
            },
            "type": "scatterpolar"
           }
          ],
          "scatterpolargl": [
           {
            "marker": {
             "colorbar": {
              "outlinewidth": 0,
              "ticks": ""
             }
            },
            "type": "scatterpolargl"
           }
          ],
          "scatterternary": [
           {
            "marker": {
             "colorbar": {
              "outlinewidth": 0,
              "ticks": ""
             }
            },
            "type": "scatterternary"
           }
          ],
          "surface": [
           {
            "colorbar": {
             "outlinewidth": 0,
             "ticks": ""
            },
            "colorscale": [
             [
              0,
              "#0d0887"
             ],
             [
              0.1111111111111111,
              "#46039f"
             ],
             [
              0.2222222222222222,
              "#7201a8"
             ],
             [
              0.3333333333333333,
              "#9c179e"
             ],
             [
              0.4444444444444444,
              "#bd3786"
             ],
             [
              0.5555555555555556,
              "#d8576b"
             ],
             [
              0.6666666666666666,
              "#ed7953"
             ],
             [
              0.7777777777777778,
              "#fb9f3a"
             ],
             [
              0.8888888888888888,
              "#fdca26"
             ],
             [
              1,
              "#f0f921"
             ]
            ],
            "type": "surface"
           }
          ],
          "table": [
           {
            "cells": {
             "fill": {
              "color": "#EBF0F8"
             },
             "line": {
              "color": "white"
             }
            },
            "header": {
             "fill": {
              "color": "#C8D4E3"
             },
             "line": {
              "color": "white"
             }
            },
            "type": "table"
           }
          ]
         },
         "layout": {
          "annotationdefaults": {
           "arrowcolor": "#2a3f5f",
           "arrowhead": 0,
           "arrowwidth": 1
          },
          "autotypenumbers": "strict",
          "coloraxis": {
           "colorbar": {
            "outlinewidth": 0,
            "ticks": ""
           }
          },
          "colorscale": {
           "diverging": [
            [
             0,
             "#8e0152"
            ],
            [
             0.1,
             "#c51b7d"
            ],
            [
             0.2,
             "#de77ae"
            ],
            [
             0.3,
             "#f1b6da"
            ],
            [
             0.4,
             "#fde0ef"
            ],
            [
             0.5,
             "#f7f7f7"
            ],
            [
             0.6,
             "#e6f5d0"
            ],
            [
             0.7,
             "#b8e186"
            ],
            [
             0.8,
             "#7fbc41"
            ],
            [
             0.9,
             "#4d9221"
            ],
            [
             1,
             "#276419"
            ]
           ],
           "sequential": [
            [
             0,
             "#0d0887"
            ],
            [
             0.1111111111111111,
             "#46039f"
            ],
            [
             0.2222222222222222,
             "#7201a8"
            ],
            [
             0.3333333333333333,
             "#9c179e"
            ],
            [
             0.4444444444444444,
             "#bd3786"
            ],
            [
             0.5555555555555556,
             "#d8576b"
            ],
            [
             0.6666666666666666,
             "#ed7953"
            ],
            [
             0.7777777777777778,
             "#fb9f3a"
            ],
            [
             0.8888888888888888,
             "#fdca26"
            ],
            [
             1,
             "#f0f921"
            ]
           ],
           "sequentialminus": [
            [
             0,
             "#0d0887"
            ],
            [
             0.1111111111111111,
             "#46039f"
            ],
            [
             0.2222222222222222,
             "#7201a8"
            ],
            [
             0.3333333333333333,
             "#9c179e"
            ],
            [
             0.4444444444444444,
             "#bd3786"
            ],
            [
             0.5555555555555556,
             "#d8576b"
            ],
            [
             0.6666666666666666,
             "#ed7953"
            ],
            [
             0.7777777777777778,
             "#fb9f3a"
            ],
            [
             0.8888888888888888,
             "#fdca26"
            ],
            [
             1,
             "#f0f921"
            ]
           ]
          },
          "colorway": [
           "#636efa",
           "#EF553B",
           "#00cc96",
           "#ab63fa",
           "#FFA15A",
           "#19d3f3",
           "#FF6692",
           "#B6E880",
           "#FF97FF",
           "#FECB52"
          ],
          "font": {
           "color": "#2a3f5f"
          },
          "geo": {
           "bgcolor": "white",
           "lakecolor": "white",
           "landcolor": "#E5ECF6",
           "showlakes": true,
           "showland": true,
           "subunitcolor": "white"
          },
          "hoverlabel": {
           "align": "left"
          },
          "hovermode": "closest",
          "mapbox": {
           "style": "light"
          },
          "paper_bgcolor": "white",
          "plot_bgcolor": "#E5ECF6",
          "polar": {
           "angularaxis": {
            "gridcolor": "white",
            "linecolor": "white",
            "ticks": ""
           },
           "bgcolor": "#E5ECF6",
           "radialaxis": {
            "gridcolor": "white",
            "linecolor": "white",
            "ticks": ""
           }
          },
          "scene": {
           "xaxis": {
            "backgroundcolor": "#E5ECF6",
            "gridcolor": "white",
            "gridwidth": 2,
            "linecolor": "white",
            "showbackground": true,
            "ticks": "",
            "zerolinecolor": "white"
           },
           "yaxis": {
            "backgroundcolor": "#E5ECF6",
            "gridcolor": "white",
            "gridwidth": 2,
            "linecolor": "white",
            "showbackground": true,
            "ticks": "",
            "zerolinecolor": "white"
           },
           "zaxis": {
            "backgroundcolor": "#E5ECF6",
            "gridcolor": "white",
            "gridwidth": 2,
            "linecolor": "white",
            "showbackground": true,
            "ticks": "",
            "zerolinecolor": "white"
           }
          },
          "shapedefaults": {
           "line": {
            "color": "#2a3f5f"
           }
          },
          "ternary": {
           "aaxis": {
            "gridcolor": "white",
            "linecolor": "white",
            "ticks": ""
           },
           "baxis": {
            "gridcolor": "white",
            "linecolor": "white",
            "ticks": ""
           },
           "bgcolor": "#E5ECF6",
           "caxis": {
            "gridcolor": "white",
            "linecolor": "white",
            "ticks": ""
           }
          },
          "title": {
           "x": 0.05
          },
          "xaxis": {
           "automargin": true,
           "gridcolor": "white",
           "linecolor": "white",
           "ticks": "",
           "title": {
            "standoff": 15
           },
           "zerolinecolor": "white",
           "zerolinewidth": 2
          },
          "yaxis": {
           "automargin": true,
           "gridcolor": "white",
           "linecolor": "white",
           "ticks": "",
           "title": {
            "standoff": 15
           },
           "zerolinecolor": "white",
           "zerolinewidth": 2
          }
         }
        },
        "title": {
         "text": "Sleep Metrics Over Time"
        },
        "xaxis": {
         "anchor": "y",
         "domain": [
          0,
          1
         ],
         "title": {
          "text": "Date"
         }
        },
        "yaxis": {
         "anchor": "x",
         "domain": [
          0,
          1
         ],
         "title": {
          "text": "Hours"
         }
        }
       }
      },
      "image/png": "[encoded data removed]",
      "text/html": [
       "<div>                            <div id=\"d7413c1d-512e-4be5-880c-cab2202a23bf\" class=\"plotly-graph-div\" style=\"height:525px; width:100%;\"></div>            <script type=\"text/javascript\">                require([\"plotly\"], function(Plotly) {                    window.PLOTLYENV=window.PLOTLYENV || {};                                    if (document.getElementById(\"d7413c1d-512e-4be5-880c-cab2202a23bf\")) {                    Plotly.newPlot(                        \"d7413c1d-512e-4be5-880c-cab2202a23bf\",                        [{\"hovertemplate\":\"Metric=sleep_hours\\u003cbr\\u003eDate=%{x}\\u003cbr\\u003eHours=%{y}\\u003cextra\\u003e\\u003c\\u002fextra\\u003e\",\"legendgroup\":\"sleep_hours\",\"line\":{\"color\":\"#636efa\",\"dash\":\"solid\"},\"marker\":{\"symbol\":\"circle\"},\"mode\":\"lines\",\"name\":\"sleep_hours\",\"orientation\":\"v\",\"showlegend\":true,\"x\":[\"2024-07-01T00:00:00\",\"2024-07-02T00:00:00\",\"2024-07-03T00:00:00\",\"2024-07-04T00:00:00\",\"2024-07-05T00:00:00\",\"2024-07-06T00:00:00\",\"2024-07-07T00:00:00\",\"2024-07-08T00:00:00\",\"2024-07-09T00:00:00\",\"2024-07-10T00:00:00\",\"2024-07-11T00:00:00\",\"2024-07-12T00:00:00\",\"2024-07-13T00:00:00\",\"2024-07-14T00:00:00\",\"2024-07-15T00:00:00\",\"2024-07-16T00:00:00\",\"2024-07-17T00:00:00\",\"2024-07-18T00:00:00\",\"2024-07-19T00:00:00\",\"2024-07-20T00:00:00\",\"2024-07-21T00:00:00\",\"2024-07-22T00:00:00\",\"2024-07-23T00:00:00\",\"2024-07-24T00:00:00\",\"2024-07-25T00:00:00\",\"2024-07-26T00:00:00\",\"2024-07-27T00:00:00\",\"2024-07-28T00:00:00\",\"2024-07-29T00:00:00\",\"2024-07-30T00:00:00\",\"2024-07-31T00:00:00\",\"2024-08-01T00:00:00\",\"2024-08-02T00:00:00\",\"2024-08-03T00:00:00\",\"2024-08-04T00:00:00\",\"2024-08-05T00:00:00\",\"2024-08-06T00:00:00\",\"2024-08-07T00:00:00\",\"2024-08-08T00:00:00\",\"2024-08-09T00:00:00\",\"2024-08-10T00:00:00\",\"2024-08-11T00:00:00\",\"2024-08-12T00:00:00\",\"2024-08-13T00:00:00\",\"2024-08-14T00:00:00\",\"2024-08-15T00:00:00\",\"2024-08-16T00:00:00\",\"2024-08-17T00:00:00\",\"2024-08-18T00:00:00\",\"2024-08-19T00:00:00\",\"2024-08-20T00:00:00\",\"2024-08-21T00:00:00\",\"2024-08-22T00:00:00\",\"2024-08-23T00:00:00\",\"2024-08-24T00:00:00\",\"2024-08-25T00:00:00\",\"2024-08-26T00:00:00\",\"2024-08-27T00:00:00\",\"2024-08-28T00:00:00\",\"2024-08-29T00:00:00\",\"2024-08-30T00:00:00\",\"2024-08-31T00:00:00\",\"2024-09-01T00:00:00\",\"2024-09-02T00:00:00\",\"2024-09-03T00:00:00\",\"2024-09-04T00:00:00\",\"2024-09-05T00:00:00\",\"2024-09-06T00:00:00\",\"2024-09-07T00:00:00\",\"2024-09-08T00:00:00\",\"2024-09-09T00:00:00\",\"2024-09-10T00:00:00\",\"2024-09-11T00:00:00\",\"2024-09-12T00:00:00\",\"2024-09-13T00:00:00\",\"2024-09-14T00:00:00\",\"2024-09-15T00:00:00\",\"2024-09-16T00:00:00\",\"2024-09-17T00:00:00\",\"2024-09-18T00:00:00\",\"2024-09-19T00:00:00\",\"2024-09-20T00:00:00\",\"2024-09-21T00:00:00\",\"2024-09-22T00:00:00\",\"2024-09-23T00:00:00\",\"2024-09-24T00:00:00\",\"2024-09-25T00:00:00\",\"2024-09-26T00:00:00\",\"2024-09-27T00:00:00\",\"2024-09-28T00:00:00\",\"2024-09-29T00:00:00\",\"2024-09-30T00:00:00\",\"2024-10-01T00:00:00\",\"2024-10-02T00:00:00\",\"2024-10-03T00:00:00\",\"2024-10-04T00:00:00\",\"2024-10-05T00:00:00\",\"2024-10-06T00:00:00\",\"2024-10-07T00:00:00\",\"2024-10-08T00:00:00\",\"2024-10-09T00:00:00\",\"2024-10-10T00:00:00\",\"2024-10-11T00:00:00\",\"2024-10-12T00:00:00\",\"2024-10-13T00:00:00\",\"2024-10-14T00:00:00\",\"2024-10-15T00:00:00\",\"2024-10-16T00:00:00\",\"2024-10-17T00:00:00\",\"2024-10-18T00:00:00\",\"2024-10-19T00:00:00\",\"2024-10-20T00:00:00\",\"2024-10-21T00:00:00\",\"2024-10-22T00:00:00\",\"2024-10-23T00:00:00\",\"2024-10-24T00:00:00\",\"2024-10-25T00:00:00\",\"2024-10-26T00:00:00\",\"2024-10-27T00:00:00\",\"2024-10-28T00:00:00\",\"2024-10-29T00:00:00\",\"2024-10-30T00:00:00\",\"2024-10-31T00:00:00\",\"2024-11-01T00:00:00\",\"2024-11-02T00:00:00\",\"2024-11-03T00:00:00\",\"2024-11-04T00:00:00\",\"2024-11-05T00:00:00\",\"2024-11-06T00:00:00\",\"2024-11-07T00:00:00\",\"2024-11-08T00:00:00\",\"2024-11-09T00:00:00\",\"2024-11-10T00:00:00\",\"2024-11-11T00:00:00\",\"2024-11-12T00:00:00\",\"2024-11-13T00:00:00\",\"2024-11-14T00:00:00\",\"2024-11-15T00:00:00\",\"2024-11-16T00:00:00\",\"2024-11-17T00:00:00\",\"2024-11-18T00:00:00\",\"2024-11-19T00:00:00\",\"2024-11-20T00:00:00\",\"2024-11-21T00:00:00\",\"2024-11-22T00:00:00\",\"2024-11-23T00:00:00\",\"2024-11-24T00:00:00\",\"2024-11-25T00:00:00\",\"2024-11-26T00:00:00\",\"2024-11-27T00:00:00\",\"2024-11-28T00:00:00\",\"2024-11-29T00:00:00\",\"2024-11-30T00:00:00\",\"2024-12-01T00:00:00\",\"2024-12-02T00:00:00\",\"2024-12-03T00:00:00\",\"2024-12-04T00:00:00\",\"2024-12-05T00:00:00\",\"2024-12-06T00:00:00\",\"2024-12-07T00:00:00\",\"2024-12-08T00:00:00\",\"2024-12-09T00:00:00\",\"2024-12-10T00:00:00\",\"2024-12-11T00:00:00\",\"2024-12-12T00:00:00\",\"2024-12-13T00:00:00\",\"2024-12-14T00:00:00\",\"2024-12-15T00:00:00\",\"2024-12-16T00:00:00\",\"2024-12-17T00:00:00\",\"2024-12-18T00:00:00\",\"2024-12-19T00:00:00\",\"2024-12-20T00:00:00\",\"2024-12-21T00:00:00\",\"2024-12-22T00:00:00\",\"2024-12-23T00:00:00\",\"2024-12-24T00:00:00\",\"2024-12-25T00:00:00\",\"2024-12-26T00:00:00\",\"2024-12-27T00:00:00\",\"2024-12-28T00:00:00\",\"2024-12-29T00:00:00\",\"2024-12-30T00:00:00\",\"2024-12-31T00:00:00\",\"2025-01-01T00:00:00\"],\"xaxis\":\"x\",\"y\":[7.03,7.85,7.53,4.63,5.38,8.04,9.44,6.59,8.02,8.87,7.894519307994196,6.22,7.16,8.86,8.47,8.89,7.57,7.52,6.04,7.48,8.05,6.938940412392855,7.96,8.05,8.01,5.95,7.91,9.12,7.47,7.96,7.19,7.96,6.4885786973208734,7.75,9.39,8.12,6.825445720478996,7.82,6.52,6.01,6.66,8.98,7.68,7.83,7.58,7.82,5.45,6.88,9.61,6.9,7.25,8.58,7.27,6.7428012018323065,6.53,8.85,7.78,7.42,8.48,7.07,6.24,7.23,8.64,7.66,6.44,7.33,7.7,5.04,7.68,8.09,7.84,8.291172463,7.74,7.615607801327909,5.66,7.570930855330989,8.1,7.9,7.15,7.91,7.11,5.29,7.59,8.66,7.88,8.54,7.91,7.86,6.31,6.91,7.500410260865077,7.95,7.18,7.72,7.2,6.38,7.51,8.74,8.3,7.4,6.63,7.38,5.8,7.33,8.49,7.1,7.927719044719902,6.65,7.73,5.26,8.18,9.39,7.96,7.2,7.131062631933324,8.004399257791045,5.81,6.96,9.18,7.79,7.15,7.88,6.7,6.3,7.94,9.59,7.78,7.45,7.67,7.39,8.297202001223887,8.52,8.83,7.29,7.52,7.32,6.8,5.45,8.075697146022302,9.29,8.27,7.84,8.61,7.44,5.88,7.97,8.350693529672629,8.06,7.14,8.313071485130733,null,null,null,9.02,7.31,7.88,8.04,8.41,6.42,6.89,9.62,8.4,7.37,7.28,7.43,5.5,7.32,8.74,6.95,7.41,7.142324777835534,6.82,5.4,7.4,8.64,8.49,null,null,null,9.45,9.78,6.55,8.02,4.57,3.17],\"yaxis\":\"y\",\"type\":\"scatter\"},{\"hovertemplate\":\"Metric=sleep_debt\\u003cbr\\u003eDate=%{x}\\u003cbr\\u003eHours=%{y}\\u003cextra\\u003e\\u003c\\u002fextra\\u003e\",\"legendgroup\":\"sleep_debt\",\"line\":{\"color\":\"#EF553B\",\"dash\":\"solid\"},\"marker\":{\"symbol\":\"circle\"},\"mode\":\"lines\",\"name\":\"sleep_debt\",\"orientation\":\"v\",\"showlegend\":true,\"x\":[\"2024-07-01T00:00:00\",\"2024-07-02T00:00:00\",\"2024-07-03T00:00:00\",\"2024-07-04T00:00:00\",\"2024-07-05T00:00:00\",\"2024-07-06T00:00:00\",\"2024-07-07T00:00:00\",\"2024-07-08T00:00:00\",\"2024-07-09T00:00:00\",\"2024-07-10T00:00:00\",\"2024-07-11T00:00:00\",\"2024-07-12T00:00:00\",\"2024-07-13T00:00:00\",\"2024-07-14T00:00:00\",\"2024-07-15T00:00:00\",\"2024-07-16T00:00:00\",\"2024-07-17T00:00:00\",\"2024-07-18T00:00:00\",\"2024-07-19T00:00:00\",\"2024-07-20T00:00:00\",\"2024-07-21T00:00:00\",\"2024-07-22T00:00:00\",\"2024-07-23T00:00:00\",\"2024-07-24T00:00:00\",\"2024-07-25T00:00:00\",\"2024-07-26T00:00:00\",\"2024-07-27T00:00:00\",\"2024-07-28T00:00:00\",\"2024-07-29T00:00:00\",\"2024-07-30T00:00:00\",\"2024-07-31T00:00:00\",\"2024-08-01T00:00:00\",\"2024-08-02T00:00:00\",\"2024-08-03T00:00:00\",\"2024-08-04T00:00:00\",\"2024-08-05T00:00:00\",\"2024-08-06T00:00:00\",\"2024-08-07T00:00:00\",\"2024-08-08T00:00:00\",\"2024-08-09T00:00:00\",\"2024-08-10T00:00:00\",\"2024-08-11T00:00:00\",\"2024-08-12T00:00:00\",\"2024-08-13T00:00:00\",\"2024-08-14T00:00:00\",\"2024-08-15T00:00:00\",\"2024-08-16T00:00:00\",\"2024-08-17T00:00:00\",\"2024-08-18T00:00:00\",\"2024-08-19T00:00:00\",\"2024-08-20T00:00:00\",\"2024-08-21T00:00:00\",\"2024-08-22T00:00:00\",\"2024-08-23T00:00:00\",\"2024-08-24T00:00:00\",\"2024-08-25T00:00:00\",\"2024-08-26T00:00:00\",\"2024-08-27T00:00:00\",\"2024-08-28T00:00:00\",\"2024-08-29T00:00:00\",\"2024-08-30T00:00:00\",\"2024-08-31T00:00:00\",\"2024-09-01T00:00:00\",\"2024-09-02T00:00:00\",\"2024-09-03T00:00:00\",\"2024-09-04T00:00:00\",\"2024-09-05T00:00:00\",\"2024-09-06T00:00:00\",\"2024-09-07T00:00:00\",\"2024-09-08T00:00:00\",\"2024-09-09T00:00:00\",\"2024-09-10T00:00:00\",\"2024-09-11T00:00:00\",\"2024-09-12T00:00:00\",\"2024-09-13T00:00:00\",\"2024-09-14T00:00:00\",\"2024-09-15T00:00:00\",\"2024-09-16T00:00:00\",\"2024-09-17T00:00:00\",\"2024-09-18T00:00:00\",\"2024-09-19T00:00:00\",\"2024-09-20T00:00:00\",\"2024-09-21T00:00:00\",\"2024-09-22T00:00:00\",\"2024-09-23T00:00:00\",\"2024-09-24T00:00:00\",\"2024-09-25T00:00:00\",\"2024-09-26T00:00:00\",\"2024-09-27T00:00:00\",\"2024-09-28T00:00:00\",\"2024-09-29T00:00:00\",\"2024-09-30T00:00:00\",\"2024-10-01T00:00:00\",\"2024-10-02T00:00:00\",\"2024-10-03T00:00:00\",\"2024-10-04T00:00:00\",\"2024-10-05T00:00:00\",\"2024-10-06T00:00:00\",\"2024-10-07T00:00:00\",\"2024-10-08T00:00:00\",\"2024-10-09T00:00:00\",\"2024-10-10T00:00:00\",\"2024-10-11T00:00:00\",\"2024-10-12T00:00:00\",\"2024-10-13T00:00:00\",\"2024-10-14T00:00:00\",\"2024-10-15T00:00:00\",\"2024-10-16T00:00:00\",\"2024-10-17T00:00:00\",\"2024-10-18T00:00:00\",\"2024-10-19T00:00:00\",\"2024-10-20T00:00:00\",\"2024-10-21T00:00:00\",\"2024-10-22T00:00:00\",\"2024-10-23T00:00:00\",\"2024-10-24T00:00:00\",\"2024-10-25T00:00:00\",\"2024-10-26T00:00:00\",\"2024-10-27T00:00:00\",\"2024-10-28T00:00:00\",\"2024-10-29T00:00:00\",\"2024-10-30T00:00:00\",\"2024-10-31T00:00:00\",\"2024-11-01T00:00:00\",\"2024-11-02T00:00:00\",\"2024-11-03T00:00:00\",\"2024-11-04T00:00:00\",\"2024-11-05T00:00:00\",\"2024-11-06T00:00:00\",\"2024-11-07T00:00:00\",\"2024-11-08T00:00:00\",\"2024-11-09T00:00:00\",\"2024-11-10T00:00:00\",\"2024-11-11T00:00:00\",\"2024-11-12T00:00:00\",\"2024-11-13T00:00:00\",\"2024-11-14T00:00:00\",\"2024-11-15T00:00:00\",\"2024-11-16T00:00:00\",\"2024-11-17T00:00:00\",\"2024-11-18T00:00:00\",\"2024-11-19T00:00:00\",\"2024-11-20T00:00:00\",\"2024-11-21T00:00:00\",\"2024-11-22T00:00:00\",\"2024-11-23T00:00:00\",\"2024-11-24T00:00:00\",\"2024-11-25T00:00:00\",\"2024-11-26T00:00:00\",\"2024-11-27T00:00:00\",\"2024-11-28T00:00:00\",\"2024-11-29T00:00:00\",\"2024-11-30T00:00:00\",\"2024-12-01T00:00:00\",\"2024-12-02T00:00:00\",\"2024-12-03T00:00:00\",\"2024-12-04T00:00:00\",\"2024-12-05T00:00:00\",\"2024-12-06T00:00:00\",\"2024-12-07T00:00:00\",\"2024-12-08T00:00:00\",\"2024-12-09T00:00:00\",\"2024-12-10T00:00:00\",\"2024-12-11T00:00:00\",\"2024-12-12T00:00:00\",\"2024-12-13T00:00:00\",\"2024-12-14T00:00:00\",\"2024-12-15T00:00:00\",\"2024-12-16T00:00:00\",\"2024-12-17T00:00:00\",\"2024-12-18T00:00:00\",\"2024-12-19T00:00:00\",\"2024-12-20T00:00:00\",\"2024-12-21T00:00:00\",\"2024-12-22T00:00:00\",\"2024-12-23T00:00:00\",\"2024-12-24T00:00:00\",\"2024-12-25T00:00:00\",\"2024-12-26T00:00:00\",\"2024-12-27T00:00:00\",\"2024-12-28T00:00:00\",\"2024-12-29T00:00:00\",\"2024-12-30T00:00:00\",\"2024-12-31T00:00:00\",\"2025-01-01T00:00:00\"],\"xaxis\":\"x\",\"y\":[-0.46999999999999975,0.34999999999999964,0.03000000000000025,-2.87,-2.12,0.5399999999999991,1.9399999999999995,-0.9100000000000001,0.5199999999999996,1.3699999999999992,0.3945193079941962,-1.2800000000000002,-0.33999999999999986,1.3599999999999994,0.9700000000000006,1.3900000000000006,0.07000000000000028,0.019999999999999574,-1.46,-0.019999999999999574,0.5500000000000007,-0.5610595876071454,0.45999999999999996,0.5500000000000007,0.5099999999999998,-1.5499999999999998,0.41000000000000014,1.6199999999999992,-0.03000000000000025,0.45999999999999996,-0.3099999999999996,0.45999999999999996,-1.0114213026791266,0.25,1.8900000000000006,0.6199999999999992,-0.6745542795210042,0.3200000000000003,-0.9800000000000004,-1.4900000000000002,-0.8399999999999999,1.4800000000000004,0.17999999999999972,0.33000000000000007,0.08000000000000007,0.3200000000000003,-2.05,-0.6200000000000001,2.1099999999999994,-0.5999999999999996,-0.25,1.08,-0.23000000000000043,-0.7571987981676935,-0.9699999999999998,1.3499999999999996,0.28000000000000025,-0.08000000000000007,0.9800000000000004,-0.4299999999999997,-1.2599999999999998,-0.2699999999999996,1.1400000000000006,0.16000000000000014,-1.0599999999999996,-0.16999999999999993,0.20000000000000018,-2.46,0.17999999999999972,0.5899999999999999,0.33999999999999986,0.7911724630000005,0.2400000000000002,0.11560780132790871,-1.8399999999999999,0.07093085533098886,0.5999999999999996,0.40000000000000036,-0.34999999999999964,0.41000000000000014,-0.3899999999999997,-2.21,0.08999999999999986,1.1600000000000001,0.3799999999999999,1.0399999999999991,0.41000000000000014,0.3600000000000003,-1.1900000000000004,-0.5899999999999999,0.0004102608650766726,0.4500000000000002,-0.3200000000000003,0.21999999999999975,-0.2999999999999998,-1.12,0.009999999999999787,1.2400000000000002,0.8000000000000007,-0.09999999999999964,-0.8700000000000001,-0.1200000000000001,-1.7000000000000002,-0.16999999999999993,0.9900000000000002,-0.40000000000000036,0.4277190447199022,-0.8499999999999996,0.23000000000000043,-2.24,0.6799999999999997,1.8900000000000006,0.45999999999999996,-0.2999999999999998,-0.36893736806667565,0.5043992577910448,-1.6900000000000004,-0.54,1.6799999999999997,0.29000000000000004,-0.34999999999999964,0.3799999999999999,-0.7999999999999998,-1.2000000000000002,0.4400000000000004,2.09,0.28000000000000025,-0.04999999999999982,0.16999999999999993,-0.11000000000000032,0.7972020012238872,1.0199999999999996,1.33,-0.20999999999999996,0.019999999999999574,-0.17999999999999972,-0.7000000000000002,-2.05,0.5756971460223017,1.7899999999999991,0.7699999999999996,0.33999999999999986,1.1099999999999994,-0.05999999999999961,-1.62,0.46999999999999975,0.850693529672629,0.5600000000000005,-0.3600000000000003,0.8130714851307328,null,null,null,1.5199999999999996,-0.1900000000000004,0.3799999999999999,0.5399999999999991,0.9100000000000001,-1.08,-0.6100000000000003,2.119999999999999,0.9000000000000004,-0.1299999999999999,-0.21999999999999975,-0.07000000000000028,-2.0,-0.17999999999999972,1.2400000000000002,-0.5499999999999998,-0.08999999999999986,-0.3576752221644659,-0.6799999999999997,-2.0999999999999996,-0.09999999999999964,1.1400000000000006,0.9900000000000002,null,null,null,1.9499999999999993,2.2799999999999994,-0.9500000000000002,0.5199999999999996,-2.9299999999999997,-4.33],\"yaxis\":\"y\",\"type\":\"scatter\"},{\"hovertemplate\":\"Metric=cumulative_sleep_debt\\u003cbr\\u003eDate=%{x}\\u003cbr\\u003eHours=%{y}\\u003cextra\\u003e\\u003c\\u002fextra\\u003e\",\"legendgroup\":\"cumulative_sleep_debt\",\"line\":{\"color\":\"#00cc96\",\"dash\":\"solid\"},\"marker\":{\"symbol\":\"circle\"},\"mode\":\"lines\",\"name\":\"cumulative_sleep_debt\",\"orientation\":\"v\",\"showlegend\":true,\"x\":[\"2024-07-01T00:00:00\",\"2024-07-02T00:00:00\",\"2024-07-03T00:00:00\",\"2024-07-04T00:00:00\",\"2024-07-05T00:00:00\",\"2024-07-06T00:00:00\",\"2024-07-07T00:00:00\",\"2024-07-08T00:00:00\",\"2024-07-09T00:00:00\",\"2024-07-10T00:00:00\",\"2024-07-11T00:00:00\",\"2024-07-12T00:00:00\",\"2024-07-13T00:00:00\",\"2024-07-14T00:00:00\",\"2024-07-15T00:00:00\",\"2024-07-16T00:00:00\",\"2024-07-17T00:00:00\",\"2024-07-18T00:00:00\",\"2024-07-19T00:00:00\",\"2024-07-20T00:00:00\",\"2024-07-21T00:00:00\",\"2024-07-22T00:00:00\",\"2024-07-23T00:00:00\",\"2024-07-24T00:00:00\",\"2024-07-25T00:00:00\",\"2024-07-26T00:00:00\",\"2024-07-27T00:00:00\",\"2024-07-28T00:00:00\",\"2024-07-29T00:00:00\",\"2024-07-30T00:00:00\",\"2024-07-31T00:00:00\",\"2024-08-01T00:00:00\",\"2024-08-02T00:00:00\",\"2024-08-03T00:00:00\",\"2024-08-04T00:00:00\",\"2024-08-05T00:00:00\",\"2024-08-06T00:00:00\",\"2024-08-07T00:00:00\",\"2024-08-08T00:00:00\",\"2024-08-09T00:00:00\",\"2024-08-10T00:00:00\",\"2024-08-11T00:00:00\",\"2024-08-12T00:00:00\",\"2024-08-13T00:00:00\",\"2024-08-14T00:00:00\",\"2024-08-15T00:00:00\",\"2024-08-16T00:00:00\",\"2024-08-17T00:00:00\",\"2024-08-18T00:00:00\",\"2024-08-19T00:00:00\",\"2024-08-20T00:00:00\",\"2024-08-21T00:00:00\",\"2024-08-22T00:00:00\",\"2024-08-23T00:00:00\",\"2024-08-24T00:00:00\",\"2024-08-25T00:00:00\",\"2024-08-26T00:00:00\",\"2024-08-27T00:00:00\",\"2024-08-28T00:00:00\",\"2024-08-29T00:00:00\",\"2024-08-30T00:00:00\",\"2024-08-31T00:00:00\",\"2024-09-01T00:00:00\",\"2024-09-02T00:00:00\",\"2024-09-03T00:00:00\",\"2024-09-04T00:00:00\",\"2024-09-05T00:00:00\",\"2024-09-06T00:00:00\",\"2024-09-07T00:00:00\",\"2024-09-08T00:00:00\",\"2024-09-09T00:00:00\",\"2024-09-10T00:00:00\",\"2024-09-11T00:00:00\",\"2024-09-12T00:00:00\",\"2024-09-13T00:00:00\",\"2024-09-14T00:00:00\",\"2024-09-15T00:00:00\",\"2024-09-16T00:00:00\",\"2024-09-17T00:00:00\",\"2024-09-18T00:00:00\",\"2024-09-19T00:00:00\",\"2024-09-20T00:00:00\",\"2024-09-21T00:00:00\",\"2024-09-22T00:00:00\",\"2024-09-23T00:00:00\",\"2024-09-24T00:00:00\",\"2024-09-25T00:00:00\",\"2024-09-26T00:00:00\",\"2024-09-27T00:00:00\",\"2024-09-28T00:00:00\",\"2024-09-29T00:00:00\",\"2024-09-30T00:00:00\",\"2024-10-01T00:00:00\",\"2024-10-02T00:00:00\",\"2024-10-03T00:00:00\",\"2024-10-04T00:00:00\",\"2024-10-05T00:00:00\",\"2024-10-06T00:00:00\",\"2024-10-07T00:00:00\",\"2024-10-08T00:00:00\",\"2024-10-09T00:00:00\",\"2024-10-10T00:00:00\",\"2024-10-11T00:00:00\",\"2024-10-12T00:00:00\",\"2024-10-13T00:00:00\",\"2024-10-14T00:00:00\",\"2024-10-15T00:00:00\",\"2024-10-16T00:00:00\",\"2024-10-17T00:00:00\",\"2024-10-18T00:00:00\",\"2024-10-19T00:00:00\",\"2024-10-20T00:00:00\",\"2024-10-21T00:00:00\",\"2024-10-22T00:00:00\",\"2024-10-23T00:00:00\",\"2024-10-24T00:00:00\",\"2024-10-25T00:00:00\",\"2024-10-26T00:00:00\",\"2024-10-27T00:00:00\",\"2024-10-28T00:00:00\",\"2024-10-29T00:00:00\",\"2024-10-30T00:00:00\",\"2024-10-31T00:00:00\",\"2024-11-01T00:00:00\",\"2024-11-02T00:00:00\",\"2024-11-03T00:00:00\",\"2024-11-04T00:00:00\",\"2024-11-05T00:00:00\",\"2024-11-06T00:00:00\",\"2024-11-07T00:00:00\",\"2024-11-08T00:00:00\",\"2024-11-09T00:00:00\",\"2024-11-10T00:00:00\",\"2024-11-11T00:00:00\",\"2024-11-12T00:00:00\",\"2024-11-13T00:00:00\",\"2024-11-14T00:00:00\",\"2024-11-15T00:00:00\",\"2024-11-16T00:00:00\",\"2024-11-17T00:00:00\",\"2024-11-18T00:00:00\",\"2024-11-19T00:00:00\",\"2024-11-20T00:00:00\",\"2024-11-21T00:00:00\",\"2024-11-22T00:00:00\",\"2024-11-23T00:00:00\",\"2024-11-24T00:00:00\",\"2024-11-25T00:00:00\",\"2024-11-26T00:00:00\",\"2024-11-27T00:00:00\",\"2024-11-28T00:00:00\",\"2024-11-29T00:00:00\",\"2024-11-30T00:00:00\",\"2024-12-01T00:00:00\",\"2024-12-02T00:00:00\",\"2024-12-03T00:00:00\",\"2024-12-04T00:00:00\",\"2024-12-05T00:00:00\",\"2024-12-06T00:00:00\",\"2024-12-07T00:00:00\",\"2024-12-08T00:00:00\",\"2024-12-09T00:00:00\",\"2024-12-10T00:00:00\",\"2024-12-11T00:00:00\",\"2024-12-12T00:00:00\",\"2024-12-13T00:00:00\",\"2024-12-14T00:00:00\",\"2024-12-15T00:00:00\",\"2024-12-16T00:00:00\",\"2024-12-17T00:00:00\",\"2024-12-18T00:00:00\",\"2024-12-19T00:00:00\",\"2024-12-20T00:00:00\",\"2024-12-21T00:00:00\",\"2024-12-22T00:00:00\",\"2024-12-23T00:00:00\",\"2024-12-24T00:00:00\",\"2024-12-25T00:00:00\",\"2024-12-26T00:00:00\",\"2024-12-27T00:00:00\",\"2024-12-28T00:00:00\",\"2024-12-29T00:00:00\",\"2024-12-30T00:00:00\",\"2024-12-31T00:00:00\",\"2025-01-01T00:00:00\"],\"xaxis\":\"x\",\"y\":[-0.46999999999999975,-0.1200000000000001,-0.08999999999999986,-2.96,-5.08,-4.540000000000001,-2.6000000000000014,-3.5100000000000016,-2.990000000000002,-1.6200000000000028,-1.2254806920058066,-2.505480692005807,-2.8454806920058067,-1.4854806920058072,-0.5154806920058066,0.874519307994194,0.9445193079941943,0.9645193079941938,-0.49548069200580613,-0.5154806920058057,0.034519307994195,-0.5265402796129504,-0.06654027961295039,0.4834597203870503,0.9934597203870501,-0.5565402796129497,-0.14654027961294958,1.4734597203870496,1.4434597203870494,1.9034597203870494,1.5934597203870497,2.0534597203870497,1.0420384177079232,1.2920384177079232,3.1820384177079237,3.802038417707923,3.1274841381869187,3.447484138186919,2.4674841381869186,0.9774841381869184,0.13748413818691851,1.617484138186919,1.7974841381869187,2.1274841381869187,2.207484138186919,2.527484138186919,0.47748413818691926,-0.14251586181308085,1.9674841381869186,1.367484138186919,1.117484138186919,2.197484138186919,1.9674841381869186,1.210285340019225,0.2402853400192253,1.590285340019225,1.8702853400192252,1.7902853400192251,2.7702853400192256,2.340285340019226,1.080285340019226,0.8102853400192265,1.950285340019227,2.110285340019227,1.0502853400192276,0.8802853400192276,1.0802853400192278,-1.3797146599807721,-1.1997146599807724,-0.6097146599807726,-0.2697146599807727,0.5214578030192278,0.761457803019228,0.8770656043471368,-0.9629343956528631,-0.8920035403218742,-0.2920035403218746,0.10799645967812577,-0.24200354032187388,0.16799645967812626,-0.22200354032187342,-2.4320035403218734,-2.3420035403218735,-1.1820035403218734,-0.8020035403218735,0.23799645967812566,0.6479964596781258,1.0079964596781261,-0.18200354032187427,-0.7720035403218741,-0.7715932794567975,-0.3215932794567973,-0.6415932794567976,-0.4215932794567978,-0.7215932794567976,-1.8415932794567977,-1.831593279456798,-0.5915932794567977,0.20840672054320297,0.10840672054320333,-0.7615932794567968,-0.8815932794567969,-2.581593279456797,-2.751593279456797,-1.7615932794567968,-2.161593279456797,-1.733874234736895,-2.5838742347368946,-2.353874234736894,-4.593874234736894,-3.9138742347368947,-2.023874234736894,-1.5638742347368941,-1.863874234736894,-2.2328116028035696,-1.7284123450125248,-3.418412345012525,-3.9584123450125253,-2.2784123450125255,-1.9884123450125255,-2.338412345012525,-1.9584123450125253,-2.758412345012525,-3.9584123450125253,-3.518412345012525,-1.428412345012525,-1.1484123450125248,-1.1984123450125246,-1.0284123450125247,-1.138412345012525,-0.3412103437886378,0.6787896562113618,2.008789656211362,1.7987896562113619,1.8187896562113615,1.6387896562113617,0.9387896562113616,-1.1112103437886383,-0.5355131977663365,1.2544868022336626,2.024486802233662,2.364486802233662,3.4744868022336615,3.414486802233662,1.7944868022336617,2.2644868022336615,3.1151803319062905,3.675180331906291,3.3151803319062907,4.1282518170370235,null,null,null,5.648251817037023,5.458251817037023,5.838251817037023,6.378251817037022,7.288251817037022,6.208251817037022,5.5982518170370215,7.718251817037021,8.61825181703702,8.488251817037021,8.268251817037022,8.198251817037022,6.198251817037022,6.018251817037022,7.2582518170370225,6.708251817037023,6.618251817037023,6.260576594872557,5.580576594872557,3.4805765948725575,3.380576594872558,4.5205765948725585,5.510576594872559,null,null,null,7.460576594872558,9.740576594872557,8.790576594872558,9.310576594872558,6.380576594872558,2.050576594872558],\"yaxis\":\"y\",\"type\":\"scatter\"}],                        {\"template\":{\"data\":{\"histogram2dcontour\":[{\"type\":\"histogram2dcontour\",\"colorbar\":{\"outlinewidth\":0,\"ticks\":\"\"},\"colorscale\":[[0.0,\"#0d0887\"],[0.1111111111111111,\"#46039f\"],[0.2222222222222222,\"#7201a8\"],[0.3333333333333333,\"#9c179e\"],[0.4444444444444444,\"#bd3786\"],[0.5555555555555556,\"#d8576b\"],[0.6666666666666666,\"#ed7953\"],[0.7777777777777778,\"#fb9f3a\"],[0.8888888888888888,\"#fdca26\"],[1.0,\"#f0f921\"]]}],\"choropleth\":[{\"type\":\"choropleth\",\"colorbar\":{\"outlinewidth\":0,\"ticks\":\"\"}}],\"histogram2d\":[{\"type\":\"histogram2d\",\"colorbar\":{\"outlinewidth\":0,\"ticks\":\"\"},\"colorscale\":[[0.0,\"#0d0887\"],[0.1111111111111111,\"#46039f\"],[0.2222222222222222,\"#7201a8\"],[0.3333333333333333,\"#9c179e\"],[0.4444444444444444,\"#bd3786\"],[0.5555555555555556,\"#d8576b\"],[0.6666666666666666,\"#ed7953\"],[0.7777777777777778,\"#fb9f3a\"],[0.8888888888888888,\"#fdca26\"],[1.0,\"#f0f921\"]]}],\"heatmap\":[{\"type\":\"heatmap\",\"colorbar\":{\"outlinewidth\":0,\"ticks\":\"\"},\"colorscale\":[[0.0,\"#0d0887\"],[0.1111111111111111,\"#46039f\"],[0.2222222222222222,\"#7201a8\"],[0.3333333333333333,\"#9c179e\"],[0.4444444444444444,\"#bd3786\"],[0.5555555555555556,\"#d8576b\"],[0.6666666666666666,\"#ed7953\"],[0.7777777777777778,\"#fb9f3a\"],[0.8888888888888888,\"#fdca26\"],[1.0,\"#f0f921\"]]}],\"heatmapgl\":[{\"type\":\"heatmapgl\",\"colorbar\":{\"outlinewidth\":0,\"ticks\":\"\"},\"colorscale\":[[0.0,\"#0d0887\"],[0.1111111111111111,\"#46039f\"],[0.2222222222222222,\"#7201a8\"],[0.3333333333333333,\"#9c179e\"],[0.4444444444444444,\"#bd3786\"],[0.5555555555555556,\"#d8576b\"],[0.6666666666666666,\"#ed7953\"],[0.7777777777777778,\"#fb9f3a\"],[0.8888888888888888,\"#fdca26\"],[1.0,\"#f0f921\"]]}],\"contourcarpet\":[{\"type\":\"contourcarpet\",\"colorbar\":{\"outlinewidth\":0,\"ticks\":\"\"}}],\"contour\":[{\"type\":\"contour\",\"colorbar\":{\"outlinewidth\":0,\"ticks\":\"\"},\"colorscale\":[[0.0,\"#0d0887\"],[0.1111111111111111,\"#46039f\"],[0.2222222222222222,\"#7201a8\"],[0.3333333333333333,\"#9c179e\"],[0.4444444444444444,\"#bd3786\"],[0.5555555555555556,\"#d8576b\"],[0.6666666666666666,\"#ed7953\"],[0.7777777777777778,\"#fb9f3a\"],[0.8888888888888888,\"#fdca26\"],[1.0,\"#f0f921\"]]}],\"surface\":[{\"type\":\"surface\",\"colorbar\":{\"outlinewidth\":0,\"ticks\":\"\"},\"colorscale\":[[0.0,\"#0d0887\"],[0.1111111111111111,\"#46039f\"],[0.2222222222222222,\"#7201a8\"],[0.3333333333333333,\"#9c179e\"],[0.4444444444444444,\"#bd3786\"],[0.5555555555555556,\"#d8576b\"],[0.6666666666666666,\"#ed7953\"],[0.7777777777777778,\"#fb9f3a\"],[0.8888888888888888,\"#fdca26\"],[1.0,\"#f0f921\"]]}],\"mesh3d\":[{\"type\":\"mesh3d\",\"colorbar\":{\"outlinewidth\":0,\"ticks\":\"\"}}],\"scatter\":[{\"fillpattern\":{\"fillmode\":\"overlay\",\"size\":10,\"solidity\":0.2},\"type\":\"scatter\"}],\"parcoords\":[{\"type\":\"parcoords\",\"line\":{\"colorbar\":{\"outlinewidth\":0,\"ticks\":\"\"}}}],\"scatterpolargl\":[{\"type\":\"scatterpolargl\",\"marker\":{\"colorbar\":{\"outlinewidth\":0,\"ticks\":\"\"}}}],\"bar\":[{\"error_x\":{\"color\":\"#2a3f5f\"},\"error_y\":{\"color\":\"#2a3f5f\"},\"marker\":{\"line\":{\"color\":\"#E5ECF6\",\"width\":0.5},\"pattern\":{\"fillmode\":\"overlay\",\"size\":10,\"solidity\":0.2}},\"type\":\"bar\"}],\"scattergeo\":[{\"type\":\"scattergeo\",\"marker\":{\"colorbar\":{\"outlinewidth\":0,\"ticks\":\"\"}}}],\"scatterpolar\":[{\"type\":\"scatterpolar\",\"marker\":{\"colorbar\":{\"outlinewidth\":0,\"ticks\":\"\"}}}],\"histogram\":[{\"marker\":{\"pattern\":{\"fillmode\":\"overlay\",\"size\":10,\"solidity\":0.2}},\"type\":\"histogram\"}],\"scattergl\":[{\"type\":\"scattergl\",\"marker\":{\"colorbar\":{\"outlinewidth\":0,\"ticks\":\"\"}}}],\"scatter3d\":[{\"type\":\"scatter3d\",\"line\":{\"colorbar\":{\"outlinewidth\":0,\"ticks\":\"\"}},\"marker\":{\"colorbar\":{\"outlinewidth\":0,\"ticks\":\"\"}}}],\"scattermapbox\":[{\"type\":\"scattermapbox\",\"marker\":{\"colorbar\":{\"outlinewidth\":0,\"ticks\":\"\"}}}],\"scatterternary\":[{\"type\":\"scatterternary\",\"marker\":{\"colorbar\":{\"outlinewidth\":0,\"ticks\":\"\"}}}],\"scattercarpet\":[{\"type\":\"scattercarpet\",\"marker\":{\"colorbar\":{\"outlinewidth\":0,\"ticks\":\"\"}}}],\"carpet\":[{\"aaxis\":{\"endlinecolor\":\"#2a3f5f\",\"gridcolor\":\"white\",\"linecolor\":\"white\",\"minorgridcolor\":\"white\",\"startlinecolor\":\"#2a3f5f\"},\"baxis\":{\"endlinecolor\":\"#2a3f5f\",\"gridcolor\":\"white\",\"linecolor\":\"white\",\"minorgridcolor\":\"white\",\"startlinecolor\":\"#2a3f5f\"},\"type\":\"carpet\"}],\"table\":[{\"cells\":{\"fill\":{\"color\":\"#EBF0F8\"},\"line\":{\"color\":\"white\"}},\"header\":{\"fill\":{\"color\":\"#C8D4E3\"},\"line\":{\"color\":\"white\"}},\"type\":\"table\"}],\"barpolar\":[{\"marker\":{\"line\":{\"color\":\"#E5ECF6\",\"width\":0.5},\"pattern\":{\"fillmode\":\"overlay\",\"size\":10,\"solidity\":0.2}},\"type\":\"barpolar\"}],\"pie\":[{\"automargin\":true,\"type\":\"pie\"}]},\"layout\":{\"autotypenumbers\":\"strict\",\"colorway\":[\"#636efa\",\"#EF553B\",\"#00cc96\",\"#ab63fa\",\"#FFA15A\",\"#19d3f3\",\"#FF6692\",\"#B6E880\",\"#FF97FF\",\"#FECB52\"],\"font\":{\"color\":\"#2a3f5f\"},\"hovermode\":\"closest\",\"hoverlabel\":{\"align\":\"left\"},\"paper_bgcolor\":\"white\",\"plot_bgcolor\":\"#E5ECF6\",\"polar\":{\"bgcolor\":\"#E5ECF6\",\"angularaxis\":{\"gridcolor\":\"white\",\"linecolor\":\"white\",\"ticks\":\"\"},\"radialaxis\":{\"gridcolor\":\"white\",\"linecolor\":\"white\",\"ticks\":\"\"}},\"ternary\":{\"bgcolor\":\"#E5ECF6\",\"aaxis\":{\"gridcolor\":\"white\",\"linecolor\":\"white\",\"ticks\":\"\"},\"baxis\":{\"gridcolor\":\"white\",\"linecolor\":\"white\",\"ticks\":\"\"},\"caxis\":{\"gridcolor\":\"white\",\"linecolor\":\"white\",\"ticks\":\"\"}},\"coloraxis\":{\"colorbar\":{\"outlinewidth\":0,\"ticks\":\"\"}},\"colorscale\":{\"sequential\":[[0.0,\"#0d0887\"],[0.1111111111111111,\"#46039f\"],[0.2222222222222222,\"#7201a8\"],[0.3333333333333333,\"#9c179e\"],[0.4444444444444444,\"#bd3786\"],[0.5555555555555556,\"#d8576b\"],[0.6666666666666666,\"#ed7953\"],[0.7777777777777778,\"#fb9f3a\"],[0.8888888888888888,\"#fdca26\"],[1.0,\"#f0f921\"]],\"sequentialminus\":[[0.0,\"#0d0887\"],[0.1111111111111111,\"#46039f\"],[0.2222222222222222,\"#7201a8\"],[0.3333333333333333,\"#9c179e\"],[0.4444444444444444,\"#bd3786\"],[0.5555555555555556,\"#d8576b\"],[0.6666666666666666,\"#ed7953\"],[0.7777777777777778,\"#fb9f3a\"],[0.8888888888888888,\"#fdca26\"],[1.0,\"#f0f921\"]],\"diverging\":[[0,\"#8e0152\"],[0.1,\"#c51b7d\"],[0.2,\"#de77ae\"],[0.3,\"#f1b6da\"],[0.4,\"#fde0ef\"],[0.5,\"#f7f7f7\"],[0.6,\"#e6f5d0\"],[0.7,\"#b8e186\"],[0.8,\"#7fbc41\"],[0.9,\"#4d9221\"],[1,\"#276419\"]]},\"xaxis\":{\"gridcolor\":\"white\",\"linecolor\":\"white\",\"ticks\":\"\",\"title\":{\"standoff\":15},\"zerolinecolor\":\"white\",\"automargin\":true,\"zerolinewidth\":2},\"yaxis\":{\"gridcolor\":\"white\",\"linecolor\":\"white\",\"ticks\":\"\",\"title\":{\"standoff\":15},\"zerolinecolor\":\"white\",\"automargin\":true,\"zerolinewidth\":2},\"scene\":{\"xaxis\":{\"backgroundcolor\":\"#E5ECF6\",\"gridcolor\":\"white\",\"linecolor\":\"white\",\"showbackground\":true,\"ticks\":\"\",\"zerolinecolor\":\"white\",\"gridwidth\":2},\"yaxis\":{\"backgroundcolor\":\"#E5ECF6\",\"gridcolor\":\"white\",\"linecolor\":\"white\",\"showbackground\":true,\"ticks\":\"\",\"zerolinecolor\":\"white\",\"gridwidth\":2},\"zaxis\":{\"backgroundcolor\":\"#E5ECF6\",\"gridcolor\":\"white\",\"linecolor\":\"white\",\"showbackground\":true,\"ticks\":\"\",\"zerolinecolor\":\"white\",\"gridwidth\":2}},\"shapedefaults\":{\"line\":{\"color\":\"#2a3f5f\"}},\"annotationdefaults\":{\"arrowcolor\":\"#2a3f5f\",\"arrowhead\":0,\"arrowwidth\":1},\"geo\":{\"bgcolor\":\"white\",\"landcolor\":\"#E5ECF6\",\"subunitcolor\":\"white\",\"showland\":true,\"showlakes\":true,\"lakecolor\":\"white\"},\"title\":{\"x\":0.05},\"mapbox\":{\"style\":\"light\"}}},\"xaxis\":{\"anchor\":\"y\",\"domain\":[0.0,1.0],\"title\":{\"text\":\"Date\"}},\"yaxis\":{\"anchor\":\"x\",\"domain\":[0.0,1.0],\"title\":{\"text\":\"Hours\"}},\"legend\":{\"title\":{\"text\":\"Metric\"},\"tracegroupgap\":0},\"title\":{\"text\":\"Sleep Metrics Over Time\"}},                        {\"responsive\": true}                    ).then(function(){\n",
       "                            \n",
       "var gd = document.getElementById('d7413c1d-512e-4be5-880c-cab2202a23bf');\n",
       "var x = new MutationObserver(function (mutations, observer) {{\n",
       "        var display = window.getComputedStyle(gd).display;\n",
       "        if (!display || display === 'none') {{\n",
       "            console.log([gd, 'removed!']);\n",
       "            Plotly.purge(gd);\n",
       "            observer.disconnect();\n",
       "        }}\n",
       "}});\n",
       "\n",
       "// Listen for the removal of the full notebook cells\n",
       "var notebookContainer = gd.closest('#notebook-container');\n",
       "if (notebookContainer) {{\n",
       "    x.observe(notebookContainer, {childList: true});\n",
       "}}\n",
       "\n",
       "// Listen for the clearing of the current output cell\n",
       "var outputEl = gd.closest('.output');\n",
       "if (outputEl) {{\n",
       "    x.observe(outputEl, {childList: true});\n",
       "}}\n",
       "\n",
       "                        })                };                });            </script>        </div>"
      ]
     },
     "metadata": {},
     "output_type": "display_data"
    }
   ],
   "source": [
    "# Create a line chart visualizing sleep metrics over time\n",
    "sleep_metrics = pe.line(df, \n",
    "                        x='date', \n",
    "                        y=['sleep_hours', 'sleep_debt', 'cumulative_sleep_debt'], \n",
    "                        labels={'value': 'Hours', 'date': 'Date', 'variable': 'Metric'},\n",
    "                        title='Sleep Metrics Over Time')\n",
    "sleep_metrics.show()"
   ]
  },
  {
   "cell_type": "code",
   "execution_count": 82,
   "id": "6d33d1ec-5cac-451b-b647-3d6d73db2736",
   "metadata": {
    "executionCancelledAt": null,
    "executionTime": 93,
    "lastExecutedAt": 1736874745473,
    "lastExecutedByKernel": "0b41652a-fd66-48df-b288-01dc41aeffa1",
    "lastScheduledRunId": null,
    "lastSuccessfullyExecutedCode": "# Create a box plot for sleep hours comparing weekdays and weekends\nsleep_wk = pe.box(df, x='is_weekend', y='sleep_hours', title='Sleep Hours: Weekdays vs Weekends')\nsleep_wk.show()",
    "outputsMetadata": {
     "0": {
      "height": 17,
      "type": "plotly"
     }
    }
   },
   "outputs": [
    {
     "data": {
      "application/vnd.plotly.v1+json": {
       "config": {
        "plotlyServerURL": "https://plot.ly"
       },
       "data": [
        {
         "alignmentgroup": "True",
         "hovertemplate": "Weekends=%{x}<br>Sleep Hours=%{y}<extra></extra>",
         "legendgroup": "False",
         "marker": {
          "color": "#636efa"
         },
         "name": "False",
         "notched": false,
         "offsetgroup": "False",
         "orientation": "v",
         "showlegend": true,
         "type": "box",
         "x": [
          false,
          false,
          false,
          false,
          false,
          false,
          false,
          false,
          false,
          false,
          false,
          false,
          false,
          false,
          false,
          false,
          false,
          false,
          false,
          false,
          false,
          false,
          false,
          false,
          false,
          false,
          false,
          false,
          false,
          false,
          false,
          false,
          false,
          false,
          false,
          false,
          false,
          false,
          false,
          false,
          false,
          false,
          false,
          false,
          false,
          false,
          false,
          false,
          false,
          false,
          false,
          false,
          false,
          false,
          false,
          false,
          false,
          false,
          false,
          false,
          false,
          false,
          false,
          false,
          false,
          false,
          false,
          false,
          false,
          false,
          false,
          false,
          false,
          false,
          false,
          false,
          false,
          false,
          false,
          false,
          false,
          false,
          false,
          false,
          false,
          false,
          false,
          false,
          false,
          false,
          false,
          false,
          false,
          false,
          false,
          false,
          false,
          false,
          false,
          false,
          false,
          false,
          false,
          false,
          false,
          false,
          false,
          false,
          false,
          false,
          false,
          false,
          false,
          false,
          false,
          false,
          false,
          false,
          false,
          false,
          false,
          false,
          false,
          false,
          false,
          false,
          false,
          false,
          false,
          false,
          false,
          false,
          false
         ],
         "x0": " ",
         "xaxis": "x",
         "y": [
          7.03,
          7.85,
          7.53,
          4.63,
          5.38,
          6.59,
          8.02,
          8.87,
          7.894519307994196,
          6.22,
          8.47,
          8.89,
          7.57,
          7.52,
          6.04,
          6.938940412392855,
          7.96,
          8.05,
          8.01,
          5.95,
          7.47,
          7.96,
          7.19,
          7.96,
          6.4885786973208734,
          8.12,
          6.825445720478996,
          7.82,
          6.52,
          6.01,
          7.68,
          7.83,
          7.58,
          7.82,
          5.45,
          6.9,
          7.25,
          8.58,
          7.27,
          6.7428012018323065,
          7.78,
          7.42,
          8.48,
          7.07,
          6.24,
          7.66,
          6.44,
          7.33,
          7.7,
          5.04,
          7.84,
          8.291172463,
          7.74,
          7.615607801327909,
          5.66,
          7.9,
          7.15,
          7.91,
          7.11,
          5.29,
          7.88,
          8.54,
          7.91,
          7.86,
          6.31,
          7.95,
          7.18,
          7.72,
          7.2,
          6.38,
          8.3,
          7.4,
          6.63,
          7.38,
          5.8,
          7.1,
          7.927719044719902,
          6.65,
          7.73,
          5.26,
          7.96,
          7.2,
          7.131062631933324,
          8.004399257791045,
          5.81,
          7.79,
          7.15,
          7.88,
          6.7,
          6.3,
          7.78,
          7.45,
          7.67,
          7.39,
          8.297202001223887,
          7.29,
          7.52,
          7.32,
          6.8,
          5.45,
          8.27,
          7.84,
          8.61,
          7.44,
          5.88,
          8.06,
          7.14,
          8.313071485130733,
          null,
          null,
          7.31,
          7.88,
          8.04,
          8.41,
          6.42,
          8.4,
          7.37,
          7.28,
          7.43,
          5.5,
          6.95,
          7.41,
          7.142324777835534,
          6.82,
          5.4,
          8.49,
          null,
          null,
          null,
          9.45,
          8.02,
          4.57,
          3.17
         ],
         "y0": " ",
         "yaxis": "y"
        },
        {
         "alignmentgroup": "True",
         "hovertemplate": "Weekends=%{x}<br>Sleep Hours=%{y}<extra></extra>",
         "legendgroup": "True",
         "marker": {
          "color": "#EF553B"
         },
         "name": "True",
         "notched": false,
         "offsetgroup": "True",
         "orientation": "v",
         "showlegend": true,
         "type": "box",
         "x": [
          true,
          true,
          true,
          true,
          true,
          true,
          true,
          true,
          true,
          true,
          true,
          true,
          true,
          true,
          true,
          true,
          true,
          true,
          true,
          true,
          true,
          true,
          true,
          true,
          true,
          true,
          true,
          true,
          true,
          true,
          true,
          true,
          true,
          true,
          true,
          true,
          true,
          true,
          true,
          true,
          true,
          true,
          true,
          true,
          true,
          true,
          true,
          true,
          true,
          true,
          true,
          true
         ],
         "x0": " ",
         "xaxis": "x",
         "y": [
          8.04,
          9.44,
          7.16,
          8.86,
          7.48,
          8.05,
          7.91,
          9.12,
          7.75,
          9.39,
          6.66,
          8.98,
          6.88,
          9.61,
          6.53,
          8.85,
          7.23,
          8.64,
          7.68,
          8.09,
          7.570930855330989,
          8.1,
          7.59,
          8.66,
          6.91,
          7.500410260865077,
          7.51,
          8.74,
          7.33,
          8.49,
          8.18,
          9.39,
          6.96,
          9.18,
          7.94,
          9.59,
          8.52,
          8.83,
          8.075697146022302,
          9.29,
          7.97,
          8.350693529672629,
          null,
          9.02,
          6.89,
          9.62,
          7.32,
          8.74,
          7.4,
          8.64,
          9.78,
          6.55
         ],
         "y0": " ",
         "yaxis": "y"
        }
       ],
       "layout": {
        "boxmode": "overlay",
        "legend": {
         "title": {
          "text": "Weekends"
         },
         "tracegroupgap": 0
        },
        "template": {
         "data": {
          "bar": [
           {
            "error_x": {
             "color": "#2a3f5f"
            },
            "error_y": {
             "color": "#2a3f5f"
            },
            "marker": {
             "line": {
              "color": "#E5ECF6",
              "width": 0.5
             },
             "pattern": {
              "fillmode": "overlay",
              "size": 10,
              "solidity": 0.2
             }
            },
            "type": "bar"
           }
          ],
          "barpolar": [
           {
            "marker": {
             "line": {
              "color": "#E5ECF6",
              "width": 0.5
             },
             "pattern": {
              "fillmode": "overlay",
              "size": 10,
              "solidity": 0.2
             }
            },
            "type": "barpolar"
           }
          ],
          "carpet": [
           {
            "aaxis": {
             "endlinecolor": "#2a3f5f",
             "gridcolor": "white",
             "linecolor": "white",
             "minorgridcolor": "white",
             "startlinecolor": "#2a3f5f"
            },
            "baxis": {
             "endlinecolor": "#2a3f5f",
             "gridcolor": "white",
             "linecolor": "white",
             "minorgridcolor": "white",
             "startlinecolor": "#2a3f5f"
            },
            "type": "carpet"
           }
          ],
          "choropleth": [
           {
            "colorbar": {
             "outlinewidth": 0,
             "ticks": ""
            },
            "type": "choropleth"
           }
          ],
          "contour": [
           {
            "colorbar": {
             "outlinewidth": 0,
             "ticks": ""
            },
            "colorscale": [
             [
              0,
              "#0d0887"
             ],
             [
              0.1111111111111111,
              "#46039f"
             ],
             [
              0.2222222222222222,
              "#7201a8"
             ],
             [
              0.3333333333333333,
              "#9c179e"
             ],
             [
              0.4444444444444444,
              "#bd3786"
             ],
             [
              0.5555555555555556,
              "#d8576b"
             ],
             [
              0.6666666666666666,
              "#ed7953"
             ],
             [
              0.7777777777777778,
              "#fb9f3a"
             ],
             [
              0.8888888888888888,
              "#fdca26"
             ],
             [
              1,
              "#f0f921"
             ]
            ],
            "type": "contour"
           }
          ],
          "contourcarpet": [
           {
            "colorbar": {
             "outlinewidth": 0,
             "ticks": ""
            },
            "type": "contourcarpet"
           }
          ],
          "heatmap": [
           {
            "colorbar": {
             "outlinewidth": 0,
             "ticks": ""
            },
            "colorscale": [
             [
              0,
              "#0d0887"
             ],
             [
              0.1111111111111111,
              "#46039f"
             ],
             [
              0.2222222222222222,
              "#7201a8"
             ],
             [
              0.3333333333333333,
              "#9c179e"
             ],
             [
              0.4444444444444444,
              "#bd3786"
             ],
             [
              0.5555555555555556,
              "#d8576b"
             ],
             [
              0.6666666666666666,
              "#ed7953"
             ],
             [
              0.7777777777777778,
              "#fb9f3a"
             ],
             [
              0.8888888888888888,
              "#fdca26"
             ],
             [
              1,
              "#f0f921"
             ]
            ],
            "type": "heatmap"
           }
          ],
          "heatmapgl": [
           {
            "colorbar": {
             "outlinewidth": 0,
             "ticks": ""
            },
            "colorscale": [
             [
              0,
              "#0d0887"
             ],
             [
              0.1111111111111111,
              "#46039f"
             ],
             [
              0.2222222222222222,
              "#7201a8"
             ],
             [
              0.3333333333333333,
              "#9c179e"
             ],
             [
              0.4444444444444444,
              "#bd3786"
             ],
             [
              0.5555555555555556,
              "#d8576b"
             ],
             [
              0.6666666666666666,
              "#ed7953"
             ],
             [
              0.7777777777777778,
              "#fb9f3a"
             ],
             [
              0.8888888888888888,
              "#fdca26"
             ],
             [
              1,
              "#f0f921"
             ]
            ],
            "type": "heatmapgl"
           }
          ],
          "histogram": [
           {
            "marker": {
             "pattern": {
              "fillmode": "overlay",
              "size": 10,
              "solidity": 0.2
             }
            },
            "type": "histogram"
           }
          ],
          "histogram2d": [
           {
            "colorbar": {
             "outlinewidth": 0,
             "ticks": ""
            },
            "colorscale": [
             [
              0,
              "#0d0887"
             ],
             [
              0.1111111111111111,
              "#46039f"
             ],
             [
              0.2222222222222222,
              "#7201a8"
             ],
             [
              0.3333333333333333,
              "#9c179e"
             ],
             [
              0.4444444444444444,
              "#bd3786"
             ],
             [
              0.5555555555555556,
              "#d8576b"
             ],
             [
              0.6666666666666666,
              "#ed7953"
             ],
             [
              0.7777777777777778,
              "#fb9f3a"
             ],
             [
              0.8888888888888888,
              "#fdca26"
             ],
             [
              1,
              "#f0f921"
             ]
            ],
            "type": "histogram2d"
           }
          ],
          "histogram2dcontour": [
           {
            "colorbar": {
             "outlinewidth": 0,
             "ticks": ""
            },
            "colorscale": [
             [
              0,
              "#0d0887"
             ],
             [
              0.1111111111111111,
              "#46039f"
             ],
             [
              0.2222222222222222,
              "#7201a8"
             ],
             [
              0.3333333333333333,
              "#9c179e"
             ],
             [
              0.4444444444444444,
              "#bd3786"
             ],
             [
              0.5555555555555556,
              "#d8576b"
             ],
             [
              0.6666666666666666,
              "#ed7953"
             ],
             [
              0.7777777777777778,
              "#fb9f3a"
             ],
             [
              0.8888888888888888,
              "#fdca26"
             ],
             [
              1,
              "#f0f921"
             ]
            ],
            "type": "histogram2dcontour"
           }
          ],
          "mesh3d": [
           {
            "colorbar": {
             "outlinewidth": 0,
             "ticks": ""
            },
            "type": "mesh3d"
           }
          ],
          "parcoords": [
           {
            "line": {
             "colorbar": {
              "outlinewidth": 0,
              "ticks": ""
             }
            },
            "type": "parcoords"
           }
          ],
          "pie": [
           {
            "automargin": true,
            "type": "pie"
           }
          ],
          "scatter": [
           {
            "fillpattern": {
             "fillmode": "overlay",
             "size": 10,
             "solidity": 0.2
            },
            "type": "scatter"
           }
          ],
          "scatter3d": [
           {
            "line": {
             "colorbar": {
              "outlinewidth": 0,
              "ticks": ""
             }
            },
            "marker": {
             "colorbar": {
              "outlinewidth": 0,
              "ticks": ""
             }
            },
            "type": "scatter3d"
           }
          ],
          "scattercarpet": [
           {
            "marker": {
             "colorbar": {
              "outlinewidth": 0,
              "ticks": ""
             }
            },
            "type": "scattercarpet"
           }
          ],
          "scattergeo": [
           {
            "marker": {
             "colorbar": {
              "outlinewidth": 0,
              "ticks": ""
             }
            },
            "type": "scattergeo"
           }
          ],
          "scattergl": [
           {
            "marker": {
             "colorbar": {
              "outlinewidth": 0,
              "ticks": ""
             }
            },
            "type": "scattergl"
           }
          ],
          "scattermapbox": [
           {
            "marker": {
             "colorbar": {
              "outlinewidth": 0,
              "ticks": ""
             }
            },
            "type": "scattermapbox"
           }
          ],
          "scatterpolar": [
           {
            "marker": {
             "colorbar": {
              "outlinewidth": 0,
              "ticks": ""
             }
            },
            "type": "scatterpolar"
           }
          ],
          "scatterpolargl": [
           {
            "marker": {
             "colorbar": {
              "outlinewidth": 0,
              "ticks": ""
             }
            },
            "type": "scatterpolargl"
           }
          ],
          "scatterternary": [
           {
            "marker": {
             "colorbar": {
              "outlinewidth": 0,
              "ticks": ""
             }
            },
            "type": "scatterternary"
           }
          ],
          "surface": [
           {
            "colorbar": {
             "outlinewidth": 0,
             "ticks": ""
            },
            "colorscale": [
             [
              0,
              "#0d0887"
             ],
             [
              0.1111111111111111,
              "#46039f"
             ],
             [
              0.2222222222222222,
              "#7201a8"
             ],
             [
              0.3333333333333333,
              "#9c179e"
             ],
             [
              0.4444444444444444,
              "#bd3786"
             ],
             [
              0.5555555555555556,
              "#d8576b"
             ],
             [
              0.6666666666666666,
              "#ed7953"
             ],
             [
              0.7777777777777778,
              "#fb9f3a"
             ],
             [
              0.8888888888888888,
              "#fdca26"
             ],
             [
              1,
              "#f0f921"
             ]
            ],
            "type": "surface"
           }
          ],
          "table": [
           {
            "cells": {
             "fill": {
              "color": "#EBF0F8"
             },
             "line": {
              "color": "white"
             }
            },
            "header": {
             "fill": {
              "color": "#C8D4E3"
             },
             "line": {
              "color": "white"
             }
            },
            "type": "table"
           }
          ]
         },
         "layout": {
          "annotationdefaults": {
           "arrowcolor": "#2a3f5f",
           "arrowhead": 0,
           "arrowwidth": 1
          },
          "autotypenumbers": "strict",
          "coloraxis": {
           "colorbar": {
            "outlinewidth": 0,
            "ticks": ""
           }
          },
          "colorscale": {
           "diverging": [
            [
             0,
             "#8e0152"
            ],
            [
             0.1,
             "#c51b7d"
            ],
            [
             0.2,
             "#de77ae"
            ],
            [
             0.3,
             "#f1b6da"
            ],
            [
             0.4,
             "#fde0ef"
            ],
            [
             0.5,
             "#f7f7f7"
            ],
            [
             0.6,
             "#e6f5d0"
            ],
            [
             0.7,
             "#b8e186"
            ],
            [
             0.8,
             "#7fbc41"
            ],
            [
             0.9,
             "#4d9221"
            ],
            [
             1,
             "#276419"
            ]
           ],
           "sequential": [
            [
             0,
             "#0d0887"
            ],
            [
             0.1111111111111111,
             "#46039f"
            ],
            [
             0.2222222222222222,
             "#7201a8"
            ],
            [
             0.3333333333333333,
             "#9c179e"
            ],
            [
             0.4444444444444444,
             "#bd3786"
            ],
            [
             0.5555555555555556,
             "#d8576b"
            ],
            [
             0.6666666666666666,
             "#ed7953"
            ],
            [
             0.7777777777777778,
             "#fb9f3a"
            ],
            [
             0.8888888888888888,
             "#fdca26"
            ],
            [
             1,
             "#f0f921"
            ]
           ],
           "sequentialminus": [
            [
             0,
             "#0d0887"
            ],
            [
             0.1111111111111111,
             "#46039f"
            ],
            [
             0.2222222222222222,
             "#7201a8"
            ],
            [
             0.3333333333333333,
             "#9c179e"
            ],
            [
             0.4444444444444444,
             "#bd3786"
            ],
            [
             0.5555555555555556,
             "#d8576b"
            ],
            [
             0.6666666666666666,
             "#ed7953"
            ],
            [
             0.7777777777777778,
             "#fb9f3a"
            ],
            [
             0.8888888888888888,
             "#fdca26"
            ],
            [
             1,
             "#f0f921"
            ]
           ]
          },
          "colorway": [
           "#636efa",
           "#EF553B",
           "#00cc96",
           "#ab63fa",
           "#FFA15A",
           "#19d3f3",
           "#FF6692",
           "#B6E880",
           "#FF97FF",
           "#FECB52"
          ],
          "font": {
           "color": "#2a3f5f"
          },
          "geo": {
           "bgcolor": "white",
           "lakecolor": "white",
           "landcolor": "#E5ECF6",
           "showlakes": true,
           "showland": true,
           "subunitcolor": "white"
          },
          "hoverlabel": {
           "align": "left"
          },
          "hovermode": "closest",
          "mapbox": {
           "style": "light"
          },
          "paper_bgcolor": "white",
          "plot_bgcolor": "#E5ECF6",
          "polar": {
           "angularaxis": {
            "gridcolor": "white",
            "linecolor": "white",
            "ticks": ""
           },
           "bgcolor": "#E5ECF6",
           "radialaxis": {
            "gridcolor": "white",
            "linecolor": "white",
            "ticks": ""
           }
          },
          "scene": {
           "xaxis": {
            "backgroundcolor": "#E5ECF6",
            "gridcolor": "white",
            "gridwidth": 2,
            "linecolor": "white",
            "showbackground": true,
            "ticks": "",
            "zerolinecolor": "white"
           },
           "yaxis": {
            "backgroundcolor": "#E5ECF6",
            "gridcolor": "white",
            "gridwidth": 2,
            "linecolor": "white",
            "showbackground": true,
            "ticks": "",
            "zerolinecolor": "white"
           },
           "zaxis": {
            "backgroundcolor": "#E5ECF6",
            "gridcolor": "white",
            "gridwidth": 2,
            "linecolor": "white",
            "showbackground": true,
            "ticks": "",
            "zerolinecolor": "white"
           }
          },
          "shapedefaults": {
           "line": {
            "color": "#2a3f5f"
           }
          },
          "ternary": {
           "aaxis": {
            "gridcolor": "white",
            "linecolor": "white",
            "ticks": ""
           },
           "baxis": {
            "gridcolor": "white",
            "linecolor": "white",
            "ticks": ""
           },
           "bgcolor": "#E5ECF6",
           "caxis": {
            "gridcolor": "white",
            "linecolor": "white",
            "ticks": ""
           }
          },
          "title": {
           "x": 0.05
          },
          "xaxis": {
           "automargin": true,
           "gridcolor": "white",
           "linecolor": "white",
           "ticks": "",
           "title": {
            "standoff": 15
           },
           "zerolinecolor": "white",
           "zerolinewidth": 2
          },
          "yaxis": {
           "automargin": true,
           "gridcolor": "white",
           "linecolor": "white",
           "ticks": "",
           "title": {
            "standoff": 15
           },
           "zerolinecolor": "white",
           "zerolinewidth": 2
          }
         }
        },
        "title": {
         "text": "Sleep Hours: Weekdays vs Weekends"
        },
        "xaxis": {
         "anchor": "y",
         "categoryarray": [
          false,
          true
         ],
         "categoryorder": "array",
         "domain": [
          0,
          1
         ],
         "title": {
          "text": "Weekends"
         }
        },
        "yaxis": {
         "anchor": "x",
         "domain": [
          0,
          1
         ],
         "title": {
          "text": "Sleep Hours"
         }
        }
       }
      },
      "image/png": "[encoded data removed]",
      "text/html": [
       "<div>                            <div id=\"149aa64b-458d-44eb-ae31-a5344ccd5214\" class=\"plotly-graph-div\" style=\"height:525px; width:100%;\"></div>            <script type=\"text/javascript\">                require([\"plotly\"], function(Plotly) {                    window.PLOTLYENV=window.PLOTLYENV || {};                                    if (document.getElementById(\"149aa64b-458d-44eb-ae31-a5344ccd5214\")) {                    Plotly.newPlot(                        \"149aa64b-458d-44eb-ae31-a5344ccd5214\",                        [{\"alignmentgroup\":\"True\",\"hovertemplate\":\"Weekends=%{x}\\u003cbr\\u003eSleep Hours=%{y}\\u003cextra\\u003e\\u003c\\u002fextra\\u003e\",\"legendgroup\":\"False\",\"marker\":{\"color\":\"#636efa\"},\"name\":\"False\",\"notched\":false,\"offsetgroup\":\"False\",\"orientation\":\"v\",\"showlegend\":true,\"x\":[false,false,false,false,false,false,false,false,false,false,false,false,false,false,false,false,false,false,false,false,false,false,false,false,false,false,false,false,false,false,false,false,false,false,false,false,false,false,false,false,false,false,false,false,false,false,false,false,false,false,false,false,false,false,false,false,false,false,false,false,false,false,false,false,false,false,false,false,false,false,false,false,false,false,false,false,false,false,false,false,false,false,false,false,false,false,false,false,false,false,false,false,false,false,false,false,false,false,false,false,false,false,false,false,false,false,false,false,false,false,false,false,false,false,false,false,false,false,false,false,false,false,false,false,false,false,false,false,false,false,false,false,false],\"x0\":\" \",\"xaxis\":\"x\",\"y\":[7.03,7.85,7.53,4.63,5.38,6.59,8.02,8.87,7.894519307994196,6.22,8.47,8.89,7.57,7.52,6.04,6.938940412392855,7.96,8.05,8.01,5.95,7.47,7.96,7.19,7.96,6.4885786973208734,8.12,6.825445720478996,7.82,6.52,6.01,7.68,7.83,7.58,7.82,5.45,6.9,7.25,8.58,7.27,6.7428012018323065,7.78,7.42,8.48,7.07,6.24,7.66,6.44,7.33,7.7,5.04,7.84,8.291172463,7.74,7.615607801327909,5.66,7.9,7.15,7.91,7.11,5.29,7.88,8.54,7.91,7.86,6.31,7.95,7.18,7.72,7.2,6.38,8.3,7.4,6.63,7.38,5.8,7.1,7.927719044719902,6.65,7.73,5.26,7.96,7.2,7.131062631933324,8.004399257791045,5.81,7.79,7.15,7.88,6.7,6.3,7.78,7.45,7.67,7.39,8.297202001223887,7.29,7.52,7.32,6.8,5.45,8.27,7.84,8.61,7.44,5.88,8.06,7.14,8.313071485130733,null,null,7.31,7.88,8.04,8.41,6.42,8.4,7.37,7.28,7.43,5.5,6.95,7.41,7.142324777835534,6.82,5.4,8.49,null,null,null,9.45,8.02,4.57,3.17],\"y0\":\" \",\"yaxis\":\"y\",\"type\":\"box\"},{\"alignmentgroup\":\"True\",\"hovertemplate\":\"Weekends=%{x}\\u003cbr\\u003eSleep Hours=%{y}\\u003cextra\\u003e\\u003c\\u002fextra\\u003e\",\"legendgroup\":\"True\",\"marker\":{\"color\":\"#EF553B\"},\"name\":\"True\",\"notched\":false,\"offsetgroup\":\"True\",\"orientation\":\"v\",\"showlegend\":true,\"x\":[true,true,true,true,true,true,true,true,true,true,true,true,true,true,true,true,true,true,true,true,true,true,true,true,true,true,true,true,true,true,true,true,true,true,true,true,true,true,true,true,true,true,true,true,true,true,true,true,true,true,true,true],\"x0\":\" \",\"xaxis\":\"x\",\"y\":[8.04,9.44,7.16,8.86,7.48,8.05,7.91,9.12,7.75,9.39,6.66,8.98,6.88,9.61,6.53,8.85,7.23,8.64,7.68,8.09,7.570930855330989,8.1,7.59,8.66,6.91,7.500410260865077,7.51,8.74,7.33,8.49,8.18,9.39,6.96,9.18,7.94,9.59,8.52,8.83,8.075697146022302,9.29,7.97,8.350693529672629,null,9.02,6.89,9.62,7.32,8.74,7.4,8.64,9.78,6.55],\"y0\":\" \",\"yaxis\":\"y\",\"type\":\"box\"}],                        {\"template\":{\"data\":{\"histogram2dcontour\":[{\"type\":\"histogram2dcontour\",\"colorbar\":{\"outlinewidth\":0,\"ticks\":\"\"},\"colorscale\":[[0.0,\"#0d0887\"],[0.1111111111111111,\"#46039f\"],[0.2222222222222222,\"#7201a8\"],[0.3333333333333333,\"#9c179e\"],[0.4444444444444444,\"#bd3786\"],[0.5555555555555556,\"#d8576b\"],[0.6666666666666666,\"#ed7953\"],[0.7777777777777778,\"#fb9f3a\"],[0.8888888888888888,\"#fdca26\"],[1.0,\"#f0f921\"]]}],\"choropleth\":[{\"type\":\"choropleth\",\"colorbar\":{\"outlinewidth\":0,\"ticks\":\"\"}}],\"histogram2d\":[{\"type\":\"histogram2d\",\"colorbar\":{\"outlinewidth\":0,\"ticks\":\"\"},\"colorscale\":[[0.0,\"#0d0887\"],[0.1111111111111111,\"#46039f\"],[0.2222222222222222,\"#7201a8\"],[0.3333333333333333,\"#9c179e\"],[0.4444444444444444,\"#bd3786\"],[0.5555555555555556,\"#d8576b\"],[0.6666666666666666,\"#ed7953\"],[0.7777777777777778,\"#fb9f3a\"],[0.8888888888888888,\"#fdca26\"],[1.0,\"#f0f921\"]]}],\"heatmap\":[{\"type\":\"heatmap\",\"colorbar\":{\"outlinewidth\":0,\"ticks\":\"\"},\"colorscale\":[[0.0,\"#0d0887\"],[0.1111111111111111,\"#46039f\"],[0.2222222222222222,\"#7201a8\"],[0.3333333333333333,\"#9c179e\"],[0.4444444444444444,\"#bd3786\"],[0.5555555555555556,\"#d8576b\"],[0.6666666666666666,\"#ed7953\"],[0.7777777777777778,\"#fb9f3a\"],[0.8888888888888888,\"#fdca26\"],[1.0,\"#f0f921\"]]}],\"heatmapgl\":[{\"type\":\"heatmapgl\",\"colorbar\":{\"outlinewidth\":0,\"ticks\":\"\"},\"colorscale\":[[0.0,\"#0d0887\"],[0.1111111111111111,\"#46039f\"],[0.2222222222222222,\"#7201a8\"],[0.3333333333333333,\"#9c179e\"],[0.4444444444444444,\"#bd3786\"],[0.5555555555555556,\"#d8576b\"],[0.6666666666666666,\"#ed7953\"],[0.7777777777777778,\"#fb9f3a\"],[0.8888888888888888,\"#fdca26\"],[1.0,\"#f0f921\"]]}],\"contourcarpet\":[{\"type\":\"contourcarpet\",\"colorbar\":{\"outlinewidth\":0,\"ticks\":\"\"}}],\"contour\":[{\"type\":\"contour\",\"colorbar\":{\"outlinewidth\":0,\"ticks\":\"\"},\"colorscale\":[[0.0,\"#0d0887\"],[0.1111111111111111,\"#46039f\"],[0.2222222222222222,\"#7201a8\"],[0.3333333333333333,\"#9c179e\"],[0.4444444444444444,\"#bd3786\"],[0.5555555555555556,\"#d8576b\"],[0.6666666666666666,\"#ed7953\"],[0.7777777777777778,\"#fb9f3a\"],[0.8888888888888888,\"#fdca26\"],[1.0,\"#f0f921\"]]}],\"surface\":[{\"type\":\"surface\",\"colorbar\":{\"outlinewidth\":0,\"ticks\":\"\"},\"colorscale\":[[0.0,\"#0d0887\"],[0.1111111111111111,\"#46039f\"],[0.2222222222222222,\"#7201a8\"],[0.3333333333333333,\"#9c179e\"],[0.4444444444444444,\"#bd3786\"],[0.5555555555555556,\"#d8576b\"],[0.6666666666666666,\"#ed7953\"],[0.7777777777777778,\"#fb9f3a\"],[0.8888888888888888,\"#fdca26\"],[1.0,\"#f0f921\"]]}],\"mesh3d\":[{\"type\":\"mesh3d\",\"colorbar\":{\"outlinewidth\":0,\"ticks\":\"\"}}],\"scatter\":[{\"fillpattern\":{\"fillmode\":\"overlay\",\"size\":10,\"solidity\":0.2},\"type\":\"scatter\"}],\"parcoords\":[{\"type\":\"parcoords\",\"line\":{\"colorbar\":{\"outlinewidth\":0,\"ticks\":\"\"}}}],\"scatterpolargl\":[{\"type\":\"scatterpolargl\",\"marker\":{\"colorbar\":{\"outlinewidth\":0,\"ticks\":\"\"}}}],\"bar\":[{\"error_x\":{\"color\":\"#2a3f5f\"},\"error_y\":{\"color\":\"#2a3f5f\"},\"marker\":{\"line\":{\"color\":\"#E5ECF6\",\"width\":0.5},\"pattern\":{\"fillmode\":\"overlay\",\"size\":10,\"solidity\":0.2}},\"type\":\"bar\"}],\"scattergeo\":[{\"type\":\"scattergeo\",\"marker\":{\"colorbar\":{\"outlinewidth\":0,\"ticks\":\"\"}}}],\"scatterpolar\":[{\"type\":\"scatterpolar\",\"marker\":{\"colorbar\":{\"outlinewidth\":0,\"ticks\":\"\"}}}],\"histogram\":[{\"marker\":{\"pattern\":{\"fillmode\":\"overlay\",\"size\":10,\"solidity\":0.2}},\"type\":\"histogram\"}],\"scattergl\":[{\"type\":\"scattergl\",\"marker\":{\"colorbar\":{\"outlinewidth\":0,\"ticks\":\"\"}}}],\"scatter3d\":[{\"type\":\"scatter3d\",\"line\":{\"colorbar\":{\"outlinewidth\":0,\"ticks\":\"\"}},\"marker\":{\"colorbar\":{\"outlinewidth\":0,\"ticks\":\"\"}}}],\"scattermapbox\":[{\"type\":\"scattermapbox\",\"marker\":{\"colorbar\":{\"outlinewidth\":0,\"ticks\":\"\"}}}],\"scatterternary\":[{\"type\":\"scatterternary\",\"marker\":{\"colorbar\":{\"outlinewidth\":0,\"ticks\":\"\"}}}],\"scattercarpet\":[{\"type\":\"scattercarpet\",\"marker\":{\"colorbar\":{\"outlinewidth\":0,\"ticks\":\"\"}}}],\"carpet\":[{\"aaxis\":{\"endlinecolor\":\"#2a3f5f\",\"gridcolor\":\"white\",\"linecolor\":\"white\",\"minorgridcolor\":\"white\",\"startlinecolor\":\"#2a3f5f\"},\"baxis\":{\"endlinecolor\":\"#2a3f5f\",\"gridcolor\":\"white\",\"linecolor\":\"white\",\"minorgridcolor\":\"white\",\"startlinecolor\":\"#2a3f5f\"},\"type\":\"carpet\"}],\"table\":[{\"cells\":{\"fill\":{\"color\":\"#EBF0F8\"},\"line\":{\"color\":\"white\"}},\"header\":{\"fill\":{\"color\":\"#C8D4E3\"},\"line\":{\"color\":\"white\"}},\"type\":\"table\"}],\"barpolar\":[{\"marker\":{\"line\":{\"color\":\"#E5ECF6\",\"width\":0.5},\"pattern\":{\"fillmode\":\"overlay\",\"size\":10,\"solidity\":0.2}},\"type\":\"barpolar\"}],\"pie\":[{\"automargin\":true,\"type\":\"pie\"}]},\"layout\":{\"autotypenumbers\":\"strict\",\"colorway\":[\"#636efa\",\"#EF553B\",\"#00cc96\",\"#ab63fa\",\"#FFA15A\",\"#19d3f3\",\"#FF6692\",\"#B6E880\",\"#FF97FF\",\"#FECB52\"],\"font\":{\"color\":\"#2a3f5f\"},\"hovermode\":\"closest\",\"hoverlabel\":{\"align\":\"left\"},\"paper_bgcolor\":\"white\",\"plot_bgcolor\":\"#E5ECF6\",\"polar\":{\"bgcolor\":\"#E5ECF6\",\"angularaxis\":{\"gridcolor\":\"white\",\"linecolor\":\"white\",\"ticks\":\"\"},\"radialaxis\":{\"gridcolor\":\"white\",\"linecolor\":\"white\",\"ticks\":\"\"}},\"ternary\":{\"bgcolor\":\"#E5ECF6\",\"aaxis\":{\"gridcolor\":\"white\",\"linecolor\":\"white\",\"ticks\":\"\"},\"baxis\":{\"gridcolor\":\"white\",\"linecolor\":\"white\",\"ticks\":\"\"},\"caxis\":{\"gridcolor\":\"white\",\"linecolor\":\"white\",\"ticks\":\"\"}},\"coloraxis\":{\"colorbar\":{\"outlinewidth\":0,\"ticks\":\"\"}},\"colorscale\":{\"sequential\":[[0.0,\"#0d0887\"],[0.1111111111111111,\"#46039f\"],[0.2222222222222222,\"#7201a8\"],[0.3333333333333333,\"#9c179e\"],[0.4444444444444444,\"#bd3786\"],[0.5555555555555556,\"#d8576b\"],[0.6666666666666666,\"#ed7953\"],[0.7777777777777778,\"#fb9f3a\"],[0.8888888888888888,\"#fdca26\"],[1.0,\"#f0f921\"]],\"sequentialminus\":[[0.0,\"#0d0887\"],[0.1111111111111111,\"#46039f\"],[0.2222222222222222,\"#7201a8\"],[0.3333333333333333,\"#9c179e\"],[0.4444444444444444,\"#bd3786\"],[0.5555555555555556,\"#d8576b\"],[0.6666666666666666,\"#ed7953\"],[0.7777777777777778,\"#fb9f3a\"],[0.8888888888888888,\"#fdca26\"],[1.0,\"#f0f921\"]],\"diverging\":[[0,\"#8e0152\"],[0.1,\"#c51b7d\"],[0.2,\"#de77ae\"],[0.3,\"#f1b6da\"],[0.4,\"#fde0ef\"],[0.5,\"#f7f7f7\"],[0.6,\"#e6f5d0\"],[0.7,\"#b8e186\"],[0.8,\"#7fbc41\"],[0.9,\"#4d9221\"],[1,\"#276419\"]]},\"xaxis\":{\"gridcolor\":\"white\",\"linecolor\":\"white\",\"ticks\":\"\",\"title\":{\"standoff\":15},\"zerolinecolor\":\"white\",\"automargin\":true,\"zerolinewidth\":2},\"yaxis\":{\"gridcolor\":\"white\",\"linecolor\":\"white\",\"ticks\":\"\",\"title\":{\"standoff\":15},\"zerolinecolor\":\"white\",\"automargin\":true,\"zerolinewidth\":2},\"scene\":{\"xaxis\":{\"backgroundcolor\":\"#E5ECF6\",\"gridcolor\":\"white\",\"linecolor\":\"white\",\"showbackground\":true,\"ticks\":\"\",\"zerolinecolor\":\"white\",\"gridwidth\":2},\"yaxis\":{\"backgroundcolor\":\"#E5ECF6\",\"gridcolor\":\"white\",\"linecolor\":\"white\",\"showbackground\":true,\"ticks\":\"\",\"zerolinecolor\":\"white\",\"gridwidth\":2},\"zaxis\":{\"backgroundcolor\":\"#E5ECF6\",\"gridcolor\":\"white\",\"linecolor\":\"white\",\"showbackground\":true,\"ticks\":\"\",\"zerolinecolor\":\"white\",\"gridwidth\":2}},\"shapedefaults\":{\"line\":{\"color\":\"#2a3f5f\"}},\"annotationdefaults\":{\"arrowcolor\":\"#2a3f5f\",\"arrowhead\":0,\"arrowwidth\":1},\"geo\":{\"bgcolor\":\"white\",\"landcolor\":\"#E5ECF6\",\"subunitcolor\":\"white\",\"showland\":true,\"showlakes\":true,\"lakecolor\":\"white\"},\"title\":{\"x\":0.05},\"mapbox\":{\"style\":\"light\"}}},\"xaxis\":{\"anchor\":\"y\",\"domain\":[0.0,1.0],\"title\":{\"text\":\"Weekends\"},\"categoryorder\":\"array\",\"categoryarray\":[false,true]},\"yaxis\":{\"anchor\":\"x\",\"domain\":[0.0,1.0],\"title\":{\"text\":\"Sleep Hours\"}},\"legend\":{\"title\":{\"text\":\"Weekends\"},\"tracegroupgap\":0},\"title\":{\"text\":\"Sleep Hours: Weekdays vs Weekends\"},\"boxmode\":\"overlay\"},                        {\"responsive\": true}                    ).then(function(){\n",
       "                            \n",
       "var gd = document.getElementById('149aa64b-458d-44eb-ae31-a5344ccd5214');\n",
       "var x = new MutationObserver(function (mutations, observer) {{\n",
       "        var display = window.getComputedStyle(gd).display;\n",
       "        if (!display || display === 'none') {{\n",
       "            console.log([gd, 'removed!']);\n",
       "            Plotly.purge(gd);\n",
       "            observer.disconnect();\n",
       "        }}\n",
       "}});\n",
       "\n",
       "// Listen for the removal of the full notebook cells\n",
       "var notebookContainer = gd.closest('#notebook-container');\n",
       "if (notebookContainer) {{\n",
       "    x.observe(notebookContainer, {childList: true});\n",
       "}}\n",
       "\n",
       "// Listen for the clearing of the current output cell\n",
       "var outputEl = gd.closest('.output');\n",
       "if (outputEl) {{\n",
       "    x.observe(outputEl, {childList: true});\n",
       "}}\n",
       "\n",
       "                        })                };                });            </script>        </div>"
      ]
     },
     "metadata": {},
     "output_type": "display_data"
    }
   ],
   "source": [
    "# Create a box plot for sleep hours comparing weekdays and weekends\n",
    "sleep_wk = pe.box(df, x='is_weekend', \n",
    "                  y='sleep_hours', \n",
    "                  title='Sleep Hours: Weekdays vs Weekends', \n",
    "                  labels={'is_weekend': 'Weekends', 'sleep_hours': 'Sleep Hours', 'variable': 'Metric'},\n",
    "                  color = 'is_weekend')\n",
    "sleep_wk.show()"
   ]
  },
  {
   "cell_type": "code",
   "execution_count": 83,
   "id": "d249c934-0d5a-4b23-b0b9-c5a1a4a2dfe7",
   "metadata": {
    "executionCancelledAt": null,
    "executionTime": 86,
    "lastExecutedAt": 1736875346997,
    "lastExecutedByKernel": "0b41652a-fd66-48df-b288-01dc41aeffa1",
    "lastScheduledRunId": null,
    "lastSuccessfullyExecutedCode": "# Visualize average sleep by day of week\naverage_sleep = df.groupby(df['date'].dt.day_name())['sleep_hours'].mean().reset_index()\nav_sleep_wk = pe.bar(average_sleep, x='date', y='sleep_hours', title='Average Sleep Hours by Day of the Week')\nav_sleep_wk.show()",
    "outputsMetadata": {
     "0": {
      "height": 17,
      "type": "plotly"
     }
    }
   },
   "outputs": [
    {
     "data": {
      "application/vnd.plotly.v1+json": {
       "config": {
        "plotlyServerURL": "https://plot.ly"
       },
       "data": [
        {
         "alignmentgroup": "True",
         "hovertemplate": "Date=%{x}<br>Sleep Hours=%{y}<extra></extra>",
         "legendgroup": "",
         "marker": {
          "color": "#636efa",
          "pattern": {
           "shape": ""
          }
         },
         "name": "",
         "offsetgroup": "",
         "orientation": "v",
         "showlegend": false,
         "textposition": "auto",
         "type": "bar",
         "x": [
          "Friday",
          "Monday",
          "Saturday",
          "Sunday",
          "Thursday",
          "Tuesday",
          "Wednesday"
         ],
         "xaxis": "x",
         "y": [
          6.110743276015082,
          7.701071867125661,
          7.570665120054132,
          8.758503991943758,
          7.345188598629715,
          7.4793975856999575,
          7.542940726726907
         ],
         "yaxis": "y"
        }
       ],
       "layout": {
        "barmode": "relative",
        "legend": {
         "tracegroupgap": 0
        },
        "template": {
         "data": {
          "bar": [
           {
            "error_x": {
             "color": "#2a3f5f"
            },
            "error_y": {
             "color": "#2a3f5f"
            },
            "marker": {
             "line": {
              "color": "#E5ECF6",
              "width": 0.5
             },
             "pattern": {
              "fillmode": "overlay",
              "size": 10,
              "solidity": 0.2
             }
            },
            "type": "bar"
           }
          ],
          "barpolar": [
           {
            "marker": {
             "line": {
              "color": "#E5ECF6",
              "width": 0.5
             },
             "pattern": {
              "fillmode": "overlay",
              "size": 10,
              "solidity": 0.2
             }
            },
            "type": "barpolar"
           }
          ],
          "carpet": [
           {
            "aaxis": {
             "endlinecolor": "#2a3f5f",
             "gridcolor": "white",
             "linecolor": "white",
             "minorgridcolor": "white",
             "startlinecolor": "#2a3f5f"
            },
            "baxis": {
             "endlinecolor": "#2a3f5f",
             "gridcolor": "white",
             "linecolor": "white",
             "minorgridcolor": "white",
             "startlinecolor": "#2a3f5f"
            },
            "type": "carpet"
           }
          ],
          "choropleth": [
           {
            "colorbar": {
             "outlinewidth": 0,
             "ticks": ""
            },
            "type": "choropleth"
           }
          ],
          "contour": [
           {
            "colorbar": {
             "outlinewidth": 0,
             "ticks": ""
            },
            "colorscale": [
             [
              0,
              "#0d0887"
             ],
             [
              0.1111111111111111,
              "#46039f"
             ],
             [
              0.2222222222222222,
              "#7201a8"
             ],
             [
              0.3333333333333333,
              "#9c179e"
             ],
             [
              0.4444444444444444,
              "#bd3786"
             ],
             [
              0.5555555555555556,
              "#d8576b"
             ],
             [
              0.6666666666666666,
              "#ed7953"
             ],
             [
              0.7777777777777778,
              "#fb9f3a"
             ],
             [
              0.8888888888888888,
              "#fdca26"
             ],
             [
              1,
              "#f0f921"
             ]
            ],
            "type": "contour"
           }
          ],
          "contourcarpet": [
           {
            "colorbar": {
             "outlinewidth": 0,
             "ticks": ""
            },
            "type": "contourcarpet"
           }
          ],
          "heatmap": [
           {
            "colorbar": {
             "outlinewidth": 0,
             "ticks": ""
            },
            "colorscale": [
             [
              0,
              "#0d0887"
             ],
             [
              0.1111111111111111,
              "#46039f"
             ],
             [
              0.2222222222222222,
              "#7201a8"
             ],
             [
              0.3333333333333333,
              "#9c179e"
             ],
             [
              0.4444444444444444,
              "#bd3786"
             ],
             [
              0.5555555555555556,
              "#d8576b"
             ],
             [
              0.6666666666666666,
              "#ed7953"
             ],
             [
              0.7777777777777778,
              "#fb9f3a"
             ],
             [
              0.8888888888888888,
              "#fdca26"
             ],
             [
              1,
              "#f0f921"
             ]
            ],
            "type": "heatmap"
           }
          ],
          "heatmapgl": [
           {
            "colorbar": {
             "outlinewidth": 0,
             "ticks": ""
            },
            "colorscale": [
             [
              0,
              "#0d0887"
             ],
             [
              0.1111111111111111,
              "#46039f"
             ],
             [
              0.2222222222222222,
              "#7201a8"
             ],
             [
              0.3333333333333333,
              "#9c179e"
             ],
             [
              0.4444444444444444,
              "#bd3786"
             ],
             [
              0.5555555555555556,
              "#d8576b"
             ],
             [
              0.6666666666666666,
              "#ed7953"
             ],
             [
              0.7777777777777778,
              "#fb9f3a"
             ],
             [
              0.8888888888888888,
              "#fdca26"
             ],
             [
              1,
              "#f0f921"
             ]
            ],
            "type": "heatmapgl"
           }
          ],
          "histogram": [
           {
            "marker": {
             "pattern": {
              "fillmode": "overlay",
              "size": 10,
              "solidity": 0.2
             }
            },
            "type": "histogram"
           }
          ],
          "histogram2d": [
           {
            "colorbar": {
             "outlinewidth": 0,
             "ticks": ""
            },
            "colorscale": [
             [
              0,
              "#0d0887"
             ],
             [
              0.1111111111111111,
              "#46039f"
             ],
             [
              0.2222222222222222,
              "#7201a8"
             ],
             [
              0.3333333333333333,
              "#9c179e"
             ],
             [
              0.4444444444444444,
              "#bd3786"
             ],
             [
              0.5555555555555556,
              "#d8576b"
             ],
             [
              0.6666666666666666,
              "#ed7953"
             ],
             [
              0.7777777777777778,
              "#fb9f3a"
             ],
             [
              0.8888888888888888,
              "#fdca26"
             ],
             [
              1,
              "#f0f921"
             ]
            ],
            "type": "histogram2d"
           }
          ],
          "histogram2dcontour": [
           {
            "colorbar": {
             "outlinewidth": 0,
             "ticks": ""
            },
            "colorscale": [
             [
              0,
              "#0d0887"
             ],
             [
              0.1111111111111111,
              "#46039f"
             ],
             [
              0.2222222222222222,
              "#7201a8"
             ],
             [
              0.3333333333333333,
              "#9c179e"
             ],
             [
              0.4444444444444444,
              "#bd3786"
             ],
             [
              0.5555555555555556,
              "#d8576b"
             ],
             [
              0.6666666666666666,
              "#ed7953"
             ],
             [
              0.7777777777777778,
              "#fb9f3a"
             ],
             [
              0.8888888888888888,
              "#fdca26"
             ],
             [
              1,
              "#f0f921"
             ]
            ],
            "type": "histogram2dcontour"
           }
          ],
          "mesh3d": [
           {
            "colorbar": {
             "outlinewidth": 0,
             "ticks": ""
            },
            "type": "mesh3d"
           }
          ],
          "parcoords": [
           {
            "line": {
             "colorbar": {
              "outlinewidth": 0,
              "ticks": ""
             }
            },
            "type": "parcoords"
           }
          ],
          "pie": [
           {
            "automargin": true,
            "type": "pie"
           }
          ],
          "scatter": [
           {
            "fillpattern": {
             "fillmode": "overlay",
             "size": 10,
             "solidity": 0.2
            },
            "type": "scatter"
           }
          ],
          "scatter3d": [
           {
            "line": {
             "colorbar": {
              "outlinewidth": 0,
              "ticks": ""
             }
            },
            "marker": {
             "colorbar": {
              "outlinewidth": 0,
              "ticks": ""
             }
            },
            "type": "scatter3d"
           }
          ],
          "scattercarpet": [
           {
            "marker": {
             "colorbar": {
              "outlinewidth": 0,
              "ticks": ""
             }
            },
            "type": "scattercarpet"
           }
          ],
          "scattergeo": [
           {
            "marker": {
             "colorbar": {
              "outlinewidth": 0,
              "ticks": ""
             }
            },
            "type": "scattergeo"
           }
          ],
          "scattergl": [
           {
            "marker": {
             "colorbar": {
              "outlinewidth": 0,
              "ticks": ""
             }
            },
            "type": "scattergl"
           }
          ],
          "scattermapbox": [
           {
            "marker": {
             "colorbar": {
              "outlinewidth": 0,
              "ticks": ""
             }
            },
            "type": "scattermapbox"
           }
          ],
          "scatterpolar": [
           {
            "marker": {
             "colorbar": {
              "outlinewidth": 0,
              "ticks": ""
             }
            },
            "type": "scatterpolar"
           }
          ],
          "scatterpolargl": [
           {
            "marker": {
             "colorbar": {
              "outlinewidth": 0,
              "ticks": ""
             }
            },
            "type": "scatterpolargl"
           }
          ],
          "scatterternary": [
           {
            "marker": {
             "colorbar": {
              "outlinewidth": 0,
              "ticks": ""
             }
            },
            "type": "scatterternary"
           }
          ],
          "surface": [
           {
            "colorbar": {
             "outlinewidth": 0,
             "ticks": ""
            },
            "colorscale": [
             [
              0,
              "#0d0887"
             ],
             [
              0.1111111111111111,
              "#46039f"
             ],
             [
              0.2222222222222222,
              "#7201a8"
             ],
             [
              0.3333333333333333,
              "#9c179e"
             ],
             [
              0.4444444444444444,
              "#bd3786"
             ],
             [
              0.5555555555555556,
              "#d8576b"
             ],
             [
              0.6666666666666666,
              "#ed7953"
             ],
             [
              0.7777777777777778,
              "#fb9f3a"
             ],
             [
              0.8888888888888888,
              "#fdca26"
             ],
             [
              1,
              "#f0f921"
             ]
            ],
            "type": "surface"
           }
          ],
          "table": [
           {
            "cells": {
             "fill": {
              "color": "#EBF0F8"
             },
             "line": {
              "color": "white"
             }
            },
            "header": {
             "fill": {
              "color": "#C8D4E3"
             },
             "line": {
              "color": "white"
             }
            },
            "type": "table"
           }
          ]
         },
         "layout": {
          "annotationdefaults": {
           "arrowcolor": "#2a3f5f",
           "arrowhead": 0,
           "arrowwidth": 1
          },
          "autotypenumbers": "strict",
          "coloraxis": {
           "colorbar": {
            "outlinewidth": 0,
            "ticks": ""
           }
          },
          "colorscale": {
           "diverging": [
            [
             0,
             "#8e0152"
            ],
            [
             0.1,
             "#c51b7d"
            ],
            [
             0.2,
             "#de77ae"
            ],
            [
             0.3,
             "#f1b6da"
            ],
            [
             0.4,
             "#fde0ef"
            ],
            [
             0.5,
             "#f7f7f7"
            ],
            [
             0.6,
             "#e6f5d0"
            ],
            [
             0.7,
             "#b8e186"
            ],
            [
             0.8,
             "#7fbc41"
            ],
            [
             0.9,
             "#4d9221"
            ],
            [
             1,
             "#276419"
            ]
           ],
           "sequential": [
            [
             0,
             "#0d0887"
            ],
            [
             0.1111111111111111,
             "#46039f"
            ],
            [
             0.2222222222222222,
             "#7201a8"
            ],
            [
             0.3333333333333333,
             "#9c179e"
            ],
            [
             0.4444444444444444,
             "#bd3786"
            ],
            [
             0.5555555555555556,
             "#d8576b"
            ],
            [
             0.6666666666666666,
             "#ed7953"
            ],
            [
             0.7777777777777778,
             "#fb9f3a"
            ],
            [
             0.8888888888888888,
             "#fdca26"
            ],
            [
             1,
             "#f0f921"
            ]
           ],
           "sequentialminus": [
            [
             0,
             "#0d0887"
            ],
            [
             0.1111111111111111,
             "#46039f"
            ],
            [
             0.2222222222222222,
             "#7201a8"
            ],
            [
             0.3333333333333333,
             "#9c179e"
            ],
            [
             0.4444444444444444,
             "#bd3786"
            ],
            [
             0.5555555555555556,
             "#d8576b"
            ],
            [
             0.6666666666666666,
             "#ed7953"
            ],
            [
             0.7777777777777778,
             "#fb9f3a"
            ],
            [
             0.8888888888888888,
             "#fdca26"
            ],
            [
             1,
             "#f0f921"
            ]
           ]
          },
          "colorway": [
           "#636efa",
           "#EF553B",
           "#00cc96",
           "#ab63fa",
           "#FFA15A",
           "#19d3f3",
           "#FF6692",
           "#B6E880",
           "#FF97FF",
           "#FECB52"
          ],
          "font": {
           "color": "#2a3f5f"
          },
          "geo": {
           "bgcolor": "white",
           "lakecolor": "white",
           "landcolor": "#E5ECF6",
           "showlakes": true,
           "showland": true,
           "subunitcolor": "white"
          },
          "hoverlabel": {
           "align": "left"
          },
          "hovermode": "closest",
          "mapbox": {
           "style": "light"
          },
          "paper_bgcolor": "white",
          "plot_bgcolor": "#E5ECF6",
          "polar": {
           "angularaxis": {
            "gridcolor": "white",
            "linecolor": "white",
            "ticks": ""
           },
           "bgcolor": "#E5ECF6",
           "radialaxis": {
            "gridcolor": "white",
            "linecolor": "white",
            "ticks": ""
           }
          },
          "scene": {
           "xaxis": {
            "backgroundcolor": "#E5ECF6",
            "gridcolor": "white",
            "gridwidth": 2,
            "linecolor": "white",
            "showbackground": true,
            "ticks": "",
            "zerolinecolor": "white"
           },
           "yaxis": {
            "backgroundcolor": "#E5ECF6",
            "gridcolor": "white",
            "gridwidth": 2,
            "linecolor": "white",
            "showbackground": true,
            "ticks": "",
            "zerolinecolor": "white"
           },
           "zaxis": {
            "backgroundcolor": "#E5ECF6",
            "gridcolor": "white",
            "gridwidth": 2,
            "linecolor": "white",
            "showbackground": true,
            "ticks": "",
            "zerolinecolor": "white"
           }
          },
          "shapedefaults": {
           "line": {
            "color": "#2a3f5f"
           }
          },
          "ternary": {
           "aaxis": {
            "gridcolor": "white",
            "linecolor": "white",
            "ticks": ""
           },
           "baxis": {
            "gridcolor": "white",
            "linecolor": "white",
            "ticks": ""
           },
           "bgcolor": "#E5ECF6",
           "caxis": {
            "gridcolor": "white",
            "linecolor": "white",
            "ticks": ""
           }
          },
          "title": {
           "x": 0.05
          },
          "xaxis": {
           "automargin": true,
           "gridcolor": "white",
           "linecolor": "white",
           "ticks": "",
           "title": {
            "standoff": 15
           },
           "zerolinecolor": "white",
           "zerolinewidth": 2
          },
          "yaxis": {
           "automargin": true,
           "gridcolor": "white",
           "linecolor": "white",
           "ticks": "",
           "title": {
            "standoff": 15
           },
           "zerolinecolor": "white",
           "zerolinewidth": 2
          }
         }
        },
        "title": {
         "text": "Average Sleep Hours by Day of the Week"
        },
        "xaxis": {
         "anchor": "y",
         "domain": [
          0,
          1
         ],
         "title": {
          "text": "Date"
         }
        },
        "yaxis": {
         "anchor": "x",
         "domain": [
          0,
          1
         ],
         "title": {
          "text": "Sleep Hours"
         }
        }
       }
      },
      "image/png": "[encoded data removed]",
      "text/html": [
       "<div>                            <div id=\"c4a663f7-683d-4bd7-b5a0-14904733abd6\" class=\"plotly-graph-div\" style=\"height:525px; width:100%;\"></div>            <script type=\"text/javascript\">                require([\"plotly\"], function(Plotly) {                    window.PLOTLYENV=window.PLOTLYENV || {};                                    if (document.getElementById(\"c4a663f7-683d-4bd7-b5a0-14904733abd6\")) {                    Plotly.newPlot(                        \"c4a663f7-683d-4bd7-b5a0-14904733abd6\",                        [{\"alignmentgroup\":\"True\",\"hovertemplate\":\"Date=%{x}\\u003cbr\\u003eSleep Hours=%{y}\\u003cextra\\u003e\\u003c\\u002fextra\\u003e\",\"legendgroup\":\"\",\"marker\":{\"color\":\"#636efa\",\"pattern\":{\"shape\":\"\"}},\"name\":\"\",\"offsetgroup\":\"\",\"orientation\":\"v\",\"showlegend\":false,\"textposition\":\"auto\",\"x\":[\"Friday\",\"Monday\",\"Saturday\",\"Sunday\",\"Thursday\",\"Tuesday\",\"Wednesday\"],\"xaxis\":\"x\",\"y\":[6.110743276015082,7.701071867125661,7.570665120054132,8.758503991943758,7.345188598629715,7.4793975856999575,7.542940726726907],\"yaxis\":\"y\",\"type\":\"bar\"}],                        {\"template\":{\"data\":{\"histogram2dcontour\":[{\"type\":\"histogram2dcontour\",\"colorbar\":{\"outlinewidth\":0,\"ticks\":\"\"},\"colorscale\":[[0.0,\"#0d0887\"],[0.1111111111111111,\"#46039f\"],[0.2222222222222222,\"#7201a8\"],[0.3333333333333333,\"#9c179e\"],[0.4444444444444444,\"#bd3786\"],[0.5555555555555556,\"#d8576b\"],[0.6666666666666666,\"#ed7953\"],[0.7777777777777778,\"#fb9f3a\"],[0.8888888888888888,\"#fdca26\"],[1.0,\"#f0f921\"]]}],\"choropleth\":[{\"type\":\"choropleth\",\"colorbar\":{\"outlinewidth\":0,\"ticks\":\"\"}}],\"histogram2d\":[{\"type\":\"histogram2d\",\"colorbar\":{\"outlinewidth\":0,\"ticks\":\"\"},\"colorscale\":[[0.0,\"#0d0887\"],[0.1111111111111111,\"#46039f\"],[0.2222222222222222,\"#7201a8\"],[0.3333333333333333,\"#9c179e\"],[0.4444444444444444,\"#bd3786\"],[0.5555555555555556,\"#d8576b\"],[0.6666666666666666,\"#ed7953\"],[0.7777777777777778,\"#fb9f3a\"],[0.8888888888888888,\"#fdca26\"],[1.0,\"#f0f921\"]]}],\"heatmap\":[{\"type\":\"heatmap\",\"colorbar\":{\"outlinewidth\":0,\"ticks\":\"\"},\"colorscale\":[[0.0,\"#0d0887\"],[0.1111111111111111,\"#46039f\"],[0.2222222222222222,\"#7201a8\"],[0.3333333333333333,\"#9c179e\"],[0.4444444444444444,\"#bd3786\"],[0.5555555555555556,\"#d8576b\"],[0.6666666666666666,\"#ed7953\"],[0.7777777777777778,\"#fb9f3a\"],[0.8888888888888888,\"#fdca26\"],[1.0,\"#f0f921\"]]}],\"heatmapgl\":[{\"type\":\"heatmapgl\",\"colorbar\":{\"outlinewidth\":0,\"ticks\":\"\"},\"colorscale\":[[0.0,\"#0d0887\"],[0.1111111111111111,\"#46039f\"],[0.2222222222222222,\"#7201a8\"],[0.3333333333333333,\"#9c179e\"],[0.4444444444444444,\"#bd3786\"],[0.5555555555555556,\"#d8576b\"],[0.6666666666666666,\"#ed7953\"],[0.7777777777777778,\"#fb9f3a\"],[0.8888888888888888,\"#fdca26\"],[1.0,\"#f0f921\"]]}],\"contourcarpet\":[{\"type\":\"contourcarpet\",\"colorbar\":{\"outlinewidth\":0,\"ticks\":\"\"}}],\"contour\":[{\"type\":\"contour\",\"colorbar\":{\"outlinewidth\":0,\"ticks\":\"\"},\"colorscale\":[[0.0,\"#0d0887\"],[0.1111111111111111,\"#46039f\"],[0.2222222222222222,\"#7201a8\"],[0.3333333333333333,\"#9c179e\"],[0.4444444444444444,\"#bd3786\"],[0.5555555555555556,\"#d8576b\"],[0.6666666666666666,\"#ed7953\"],[0.7777777777777778,\"#fb9f3a\"],[0.8888888888888888,\"#fdca26\"],[1.0,\"#f0f921\"]]}],\"surface\":[{\"type\":\"surface\",\"colorbar\":{\"outlinewidth\":0,\"ticks\":\"\"},\"colorscale\":[[0.0,\"#0d0887\"],[0.1111111111111111,\"#46039f\"],[0.2222222222222222,\"#7201a8\"],[0.3333333333333333,\"#9c179e\"],[0.4444444444444444,\"#bd3786\"],[0.5555555555555556,\"#d8576b\"],[0.6666666666666666,\"#ed7953\"],[0.7777777777777778,\"#fb9f3a\"],[0.8888888888888888,\"#fdca26\"],[1.0,\"#f0f921\"]]}],\"mesh3d\":[{\"type\":\"mesh3d\",\"colorbar\":{\"outlinewidth\":0,\"ticks\":\"\"}}],\"scatter\":[{\"fillpattern\":{\"fillmode\":\"overlay\",\"size\":10,\"solidity\":0.2},\"type\":\"scatter\"}],\"parcoords\":[{\"type\":\"parcoords\",\"line\":{\"colorbar\":{\"outlinewidth\":0,\"ticks\":\"\"}}}],\"scatterpolargl\":[{\"type\":\"scatterpolargl\",\"marker\":{\"colorbar\":{\"outlinewidth\":0,\"ticks\":\"\"}}}],\"bar\":[{\"error_x\":{\"color\":\"#2a3f5f\"},\"error_y\":{\"color\":\"#2a3f5f\"},\"marker\":{\"line\":{\"color\":\"#E5ECF6\",\"width\":0.5},\"pattern\":{\"fillmode\":\"overlay\",\"size\":10,\"solidity\":0.2}},\"type\":\"bar\"}],\"scattergeo\":[{\"type\":\"scattergeo\",\"marker\":{\"colorbar\":{\"outlinewidth\":0,\"ticks\":\"\"}}}],\"scatterpolar\":[{\"type\":\"scatterpolar\",\"marker\":{\"colorbar\":{\"outlinewidth\":0,\"ticks\":\"\"}}}],\"histogram\":[{\"marker\":{\"pattern\":{\"fillmode\":\"overlay\",\"size\":10,\"solidity\":0.2}},\"type\":\"histogram\"}],\"scattergl\":[{\"type\":\"scattergl\",\"marker\":{\"colorbar\":{\"outlinewidth\":0,\"ticks\":\"\"}}}],\"scatter3d\":[{\"type\":\"scatter3d\",\"line\":{\"colorbar\":{\"outlinewidth\":0,\"ticks\":\"\"}},\"marker\":{\"colorbar\":{\"outlinewidth\":0,\"ticks\":\"\"}}}],\"scattermapbox\":[{\"type\":\"scattermapbox\",\"marker\":{\"colorbar\":{\"outlinewidth\":0,\"ticks\":\"\"}}}],\"scatterternary\":[{\"type\":\"scatterternary\",\"marker\":{\"colorbar\":{\"outlinewidth\":0,\"ticks\":\"\"}}}],\"scattercarpet\":[{\"type\":\"scattercarpet\",\"marker\":{\"colorbar\":{\"outlinewidth\":0,\"ticks\":\"\"}}}],\"carpet\":[{\"aaxis\":{\"endlinecolor\":\"#2a3f5f\",\"gridcolor\":\"white\",\"linecolor\":\"white\",\"minorgridcolor\":\"white\",\"startlinecolor\":\"#2a3f5f\"},\"baxis\":{\"endlinecolor\":\"#2a3f5f\",\"gridcolor\":\"white\",\"linecolor\":\"white\",\"minorgridcolor\":\"white\",\"startlinecolor\":\"#2a3f5f\"},\"type\":\"carpet\"}],\"table\":[{\"cells\":{\"fill\":{\"color\":\"#EBF0F8\"},\"line\":{\"color\":\"white\"}},\"header\":{\"fill\":{\"color\":\"#C8D4E3\"},\"line\":{\"color\":\"white\"}},\"type\":\"table\"}],\"barpolar\":[{\"marker\":{\"line\":{\"color\":\"#E5ECF6\",\"width\":0.5},\"pattern\":{\"fillmode\":\"overlay\",\"size\":10,\"solidity\":0.2}},\"type\":\"barpolar\"}],\"pie\":[{\"automargin\":true,\"type\":\"pie\"}]},\"layout\":{\"autotypenumbers\":\"strict\",\"colorway\":[\"#636efa\",\"#EF553B\",\"#00cc96\",\"#ab63fa\",\"#FFA15A\",\"#19d3f3\",\"#FF6692\",\"#B6E880\",\"#FF97FF\",\"#FECB52\"],\"font\":{\"color\":\"#2a3f5f\"},\"hovermode\":\"closest\",\"hoverlabel\":{\"align\":\"left\"},\"paper_bgcolor\":\"white\",\"plot_bgcolor\":\"#E5ECF6\",\"polar\":{\"bgcolor\":\"#E5ECF6\",\"angularaxis\":{\"gridcolor\":\"white\",\"linecolor\":\"white\",\"ticks\":\"\"},\"radialaxis\":{\"gridcolor\":\"white\",\"linecolor\":\"white\",\"ticks\":\"\"}},\"ternary\":{\"bgcolor\":\"#E5ECF6\",\"aaxis\":{\"gridcolor\":\"white\",\"linecolor\":\"white\",\"ticks\":\"\"},\"baxis\":{\"gridcolor\":\"white\",\"linecolor\":\"white\",\"ticks\":\"\"},\"caxis\":{\"gridcolor\":\"white\",\"linecolor\":\"white\",\"ticks\":\"\"}},\"coloraxis\":{\"colorbar\":{\"outlinewidth\":0,\"ticks\":\"\"}},\"colorscale\":{\"sequential\":[[0.0,\"#0d0887\"],[0.1111111111111111,\"#46039f\"],[0.2222222222222222,\"#7201a8\"],[0.3333333333333333,\"#9c179e\"],[0.4444444444444444,\"#bd3786\"],[0.5555555555555556,\"#d8576b\"],[0.6666666666666666,\"#ed7953\"],[0.7777777777777778,\"#fb9f3a\"],[0.8888888888888888,\"#fdca26\"],[1.0,\"#f0f921\"]],\"sequentialminus\":[[0.0,\"#0d0887\"],[0.1111111111111111,\"#46039f\"],[0.2222222222222222,\"#7201a8\"],[0.3333333333333333,\"#9c179e\"],[0.4444444444444444,\"#bd3786\"],[0.5555555555555556,\"#d8576b\"],[0.6666666666666666,\"#ed7953\"],[0.7777777777777778,\"#fb9f3a\"],[0.8888888888888888,\"#fdca26\"],[1.0,\"#f0f921\"]],\"diverging\":[[0,\"#8e0152\"],[0.1,\"#c51b7d\"],[0.2,\"#de77ae\"],[0.3,\"#f1b6da\"],[0.4,\"#fde0ef\"],[0.5,\"#f7f7f7\"],[0.6,\"#e6f5d0\"],[0.7,\"#b8e186\"],[0.8,\"#7fbc41\"],[0.9,\"#4d9221\"],[1,\"#276419\"]]},\"xaxis\":{\"gridcolor\":\"white\",\"linecolor\":\"white\",\"ticks\":\"\",\"title\":{\"standoff\":15},\"zerolinecolor\":\"white\",\"automargin\":true,\"zerolinewidth\":2},\"yaxis\":{\"gridcolor\":\"white\",\"linecolor\":\"white\",\"ticks\":\"\",\"title\":{\"standoff\":15},\"zerolinecolor\":\"white\",\"automargin\":true,\"zerolinewidth\":2},\"scene\":{\"xaxis\":{\"backgroundcolor\":\"#E5ECF6\",\"gridcolor\":\"white\",\"linecolor\":\"white\",\"showbackground\":true,\"ticks\":\"\",\"zerolinecolor\":\"white\",\"gridwidth\":2},\"yaxis\":{\"backgroundcolor\":\"#E5ECF6\",\"gridcolor\":\"white\",\"linecolor\":\"white\",\"showbackground\":true,\"ticks\":\"\",\"zerolinecolor\":\"white\",\"gridwidth\":2},\"zaxis\":{\"backgroundcolor\":\"#E5ECF6\",\"gridcolor\":\"white\",\"linecolor\":\"white\",\"showbackground\":true,\"ticks\":\"\",\"zerolinecolor\":\"white\",\"gridwidth\":2}},\"shapedefaults\":{\"line\":{\"color\":\"#2a3f5f\"}},\"annotationdefaults\":{\"arrowcolor\":\"#2a3f5f\",\"arrowhead\":0,\"arrowwidth\":1},\"geo\":{\"bgcolor\":\"white\",\"landcolor\":\"#E5ECF6\",\"subunitcolor\":\"white\",\"showland\":true,\"showlakes\":true,\"lakecolor\":\"white\"},\"title\":{\"x\":0.05},\"mapbox\":{\"style\":\"light\"}}},\"xaxis\":{\"anchor\":\"y\",\"domain\":[0.0,1.0],\"title\":{\"text\":\"Date\"}},\"yaxis\":{\"anchor\":\"x\",\"domain\":[0.0,1.0],\"title\":{\"text\":\"Sleep Hours\"}},\"legend\":{\"tracegroupgap\":0},\"title\":{\"text\":\"Average Sleep Hours by Day of the Week\"},\"barmode\":\"relative\"},                        {\"responsive\": true}                    ).then(function(){\n",
       "                            \n",
       "var gd = document.getElementById('c4a663f7-683d-4bd7-b5a0-14904733abd6');\n",
       "var x = new MutationObserver(function (mutations, observer) {{\n",
       "        var display = window.getComputedStyle(gd).display;\n",
       "        if (!display || display === 'none') {{\n",
       "            console.log([gd, 'removed!']);\n",
       "            Plotly.purge(gd);\n",
       "            observer.disconnect();\n",
       "        }}\n",
       "}});\n",
       "\n",
       "// Listen for the removal of the full notebook cells\n",
       "var notebookContainer = gd.closest('#notebook-container');\n",
       "if (notebookContainer) {{\n",
       "    x.observe(notebookContainer, {childList: true});\n",
       "}}\n",
       "\n",
       "// Listen for the clearing of the current output cell\n",
       "var outputEl = gd.closest('.output');\n",
       "if (outputEl) {{\n",
       "    x.observe(outputEl, {childList: true});\n",
       "}}\n",
       "\n",
       "                        })                };                });            </script>        </div>"
      ]
     },
     "metadata": {},
     "output_type": "display_data"
    }
   ],
   "source": [
    "# Visualize average sleep by day of week\n",
    "average_sleep = df.groupby(df['date'].dt.day_name())['sleep_hours'].mean().reset_index()\n",
    "av_sleep_wk = pe.bar(average_sleep, \n",
    "                     x='date', \n",
    "                     y='sleep_hours', \n",
    "                     title='Average Sleep Hours by Day of the Week', \n",
    "                     labels={'date': 'Date', 'sleep_hours': 'Sleep Hours'})\n",
    "av_sleep_wk.show()"
   ]
  },
  {
   "cell_type": "code",
   "execution_count": 84,
   "id": "4f20d89d-16f6-422d-af7c-373e1abfda45",
   "metadata": {
    "executionCancelledAt": null,
    "executionTime": 84,
    "lastExecutedAt": 1736874833185,
    "lastExecutedByKernel": "0b41652a-fd66-48df-b288-01dc41aeffa1",
    "lastScheduledRunId": null,
    "lastSuccessfullyExecutedCode": "# Visualize number of steps vs. calories burned\nstepsvscal = pe.scatter(df, x='steps', y='total_calories_burned', title='Steps vs Calories Burned')\nstepsvscal.show()",
    "outputsMetadata": {
     "0": {
      "height": 17,
      "type": "plotly"
     }
    }
   },
   "outputs": [
    {
     "data": {
      "application/vnd.plotly.v1+json": {
       "config": {
        "plotlyServerURL": "https://plot.ly"
       },
       "data": [
        {
         "hovertemplate": "Number of Steps=%{x}<br>Total Calories Burned=%{y}<extra></extra>",
         "legendgroup": "",
         "marker": {
          "color": "#636efa",
          "symbol": "circle"
         },
         "mode": "markers",
         "name": "",
         "orientation": "v",
         "showlegend": false,
         "type": "scatter",
         "x": [
          6829,
          7741,
          8227,
          13262,
          9377,
          8004,
          4656,
          6252,
          11632,
          6386,
          5172,
          9041,
          10708,
          8174,
          6116,
          9444,
          7741,
          10608,
          5071,
          8885,
          6346,
          8675,
          8618,
          6536,
          7995,
          9726,
          11814,
          10608,
          9060,
          4976,
          8509,
          7400,
          8610,
          12782,
          9155,
          8175,
          8989,
          5360,
          6249,
          9697,
          8736,
          7009,
          9564,
          7730,
          5091,
          5528,
          8381,
          8182,
          10682,
          5850,
          6401,
          9239,
          8184,
          7606,
          9958,
          7318,
          6700,
          7334,
          8608,
          7131,
          13452,
          14513,
          9040,
          9279,
          10502,
          8100,
          5841,
          5082,
          6781,
          6828,
          8545,
          9041,
          7744,
          5452,
          11223,
          8760,
          9209,
          11751,
          7613,
          7400,
          9789,
          8759,
          11290,
          9186,
          7023,
          6796,
          5357,
          10728,
          10362,
          8073,
          5178,
          6091,
          9677,
          9161,
          9104,
          8884,
          15724,
          8381,
          7733,
          7689,
          6412,
          3207,
          8475,
          6930,
          8046,
          10787,
          6639,
          9886,
          9712,
          7329,
          8629,
          9359,
          6076,
          8259,
          13027,
          7374,
          8092,
          7713,
          8836,
          7360,
          11715,
          8524,
          9392,
          14523,
          12242,
          5122,
          4505,
          6878,
          7097,
          5474,
          9063,
          11655,
          9803,
          5544,
          9536,
          10216,
          5003,
          10764,
          9804,
          9579,
          5975,
          11450,
          4865,
          6253,
          9320,
          15014,
          11654,
          5565,
          5696,
          7635,
          null,
          null,
          null,
          10365,
          8211,
          9279,
          6818,
          11476,
          9777,
          15006,
          9754,
          5214,
          6263,
          8850,
          12299,
          3238,
          6615,
          12007,
          9393,
          8922,
          8917,
          9180,
          11458,
          8106,
          9476,
          7172,
          null,
          null,
          null,
          11807,
          5883,
          8639,
          8587,
          10408,
          3257
         ],
         "xaxis": "x",
         "y": [
          664,
          660,
          873,
          1113,
          790,
          700,
          503,
          652,
          1014,
          684,
          593,
          881,
          910,
          753,
          592,
          1122,
          740,
          883,
          591,
          881,
          550,
          790,
          794,
          602,
          904,
          1060,
          1050,
          941,
          790,
          423,
          692,
          734,
          764,
          1202,
          803,
          730,
          773,
          571,
          653,
          1153,
          1314,
          860,
          964,
          760,
          553,
          531,
          1030,
          1002,
          943,
          614,
          751,
          912,
          734,
          854,
          944,
          873,
          813,
          722,
          401,
          672,
          1231,
          1214,
          894,
          994,
          934,
          890,
          594,
          610,
          833,
          573,
          751,
          834,
          801,
          623,
          1300,
          971,
          901,
          1081,
          712,
          810,
          824,
          794,
          1102,
          874,
          722,
          752,
          564,
          971,
          1282,
          951,
          631,
          743,
          843,
          700,
          914,
          1054,
          1573,
          972,
          884,
          784,
          664,
          303,
          802,
          1472,
          1103,
          1023,
          661,
          862,
          911,
          761,
          1040,
          882,
          744,
          794,
          1103,
          712,
          1162,
          724,
          894,
          721,
          992,
          891,
          791,
          1244,
          1391,
          614,
          533,
          850,
          1140,
          510,
          1091,
          1253,
          860,
          682,
          1120,
          1114,
          590,
          993,
          931,
          831,
          543,
          1020,
          531,
          713,
          1240,
          1333,
          972,
          573,
          600,
          683,
          null,
          null,
          null,
          1063,
          743,
          841,
          810,
          984,
          972,
          1323,
          1050,
          450,
          652,
          1100,
          1054,
          383,
          711,
          1013,
          792,
          863,
          772,
          933,
          1244,
          870,
          883,
          650,
          null,
          null,
          null,
          1181,
          712,
          874,
          874,
          900,
          784
         ],
         "yaxis": "y"
        },
        {
         "hovertemplate": "<b>OLS trendline</b><br>total_calories_burned = 0.0760701 * steps + 208.556<br>R<sup>2</sup>=0.645894<br><br>Number of Steps=%{x}<br>Total Calories Burned=%{y} <b>(trend)</b><extra></extra>",
         "legendgroup": "",
         "marker": {
          "color": "#636efa",
          "symbol": "circle"
         },
         "mode": "lines",
         "name": "",
         "showlegend": false,
         "type": "scatter",
         "x": [
          3207,
          3238,
          3257,
          4505,
          4656,
          4865,
          4976,
          5003,
          5071,
          5082,
          5091,
          5122,
          5172,
          5178,
          5214,
          5357,
          5360,
          5452,
          5474,
          5528,
          5544,
          5565,
          5696,
          5841,
          5850,
          5883,
          5975,
          6076,
          6091,
          6116,
          6249,
          6252,
          6253,
          6263,
          6346,
          6386,
          6401,
          6412,
          6536,
          6615,
          6639,
          6700,
          6781,
          6796,
          6818,
          6828,
          6829,
          6878,
          6930,
          7009,
          7023,
          7097,
          7131,
          7172,
          7318,
          7329,
          7334,
          7360,
          7374,
          7400,
          7400,
          7606,
          7613,
          7635,
          7689,
          7713,
          7730,
          7733,
          7741,
          7741,
          7744,
          7995,
          8004,
          8046,
          8073,
          8092,
          8100,
          8106,
          8174,
          8175,
          8182,
          8184,
          8211,
          8227,
          8259,
          8381,
          8381,
          8475,
          8509,
          8524,
          8545,
          8587,
          8608,
          8610,
          8618,
          8629,
          8639,
          8675,
          8736,
          8759,
          8760,
          8836,
          8850,
          8884,
          8885,
          8917,
          8922,
          8989,
          9040,
          9041,
          9041,
          9060,
          9063,
          9104,
          9155,
          9161,
          9180,
          9186,
          9209,
          9239,
          9279,
          9279,
          9320,
          9359,
          9377,
          9392,
          9393,
          9444,
          9476,
          9536,
          9564,
          9579,
          9677,
          9697,
          9712,
          9726,
          9754,
          9777,
          9789,
          9803,
          9804,
          9886,
          9958,
          10216,
          10362,
          10365,
          10408,
          10502,
          10608,
          10608,
          10682,
          10708,
          10728,
          10764,
          10787,
          11223,
          11290,
          11450,
          11458,
          11476,
          11632,
          11654,
          11655,
          11715,
          11751,
          11807,
          11814,
          12007,
          12242,
          12299,
          12782,
          13027,
          13262,
          13452,
          14513,
          14523,
          15006,
          15014,
          15724
         ],
         "xaxis": "x",
         "y": [
          452.5129589526008,
          454.8711307980907,
          456.31646192919743,
          551.2518962250497,
          562.7384752143716,
          578.6371176565456,
          587.0808942645901,
          589.1347858719523,
          594.3075499201238,
          595.1443205749752,
          595.8289511107625,
          598.1871229562523,
          601.9906259328491,
          602.4470462900406,
          605.1855684331902,
          616.0635869462567,
          616.2917971248525,
          623.2902426017903,
          624.9637839114928,
          629.0715671262171,
          630.2886880787281,
          631.8861593288987,
          641.8513371275819,
          652.8814957597122,
          653.5661262954995,
          656.0764382600534,
          663.0748837369912,
          670.7579597497165,
          671.8990106426954,
          673.8007621309937,
          683.9180800487409,
          684.1462902273366,
          684.2223602868686,
          684.9830608821878,
          691.2968758233383,
          694.3396782046157,
          695.4807290975946,
          696.3174997524459,
          705.7501871344057,
          711.7597218374283,
          713.5854032661947,
          718.2256768976426,
          724.3873517197292,
          725.5284026127081,
          727.2019439224107,
          727.96264451773,
          728.038714577262,
          731.7661474943268,
          735.7217905899872,
          741.7313252930098,
          742.796306126457,
          748.4254905318201,
          751.0118725559057,
          754.1307449967151,
          765.2369736883772,
          766.0737443432286,
          766.4540946408881,
          768.4319161887183,
          769.4968970221655,
          771.4747185699957,
          771.4747185699957,
          787.1451508335738,
          787.6776412502975,
          789.3511825599999,
          793.4589657747242,
          795.2846472034907,
          796.5778382155336,
          796.8060483941294,
          797.4146088703849,
          797.4146088703849,
          797.6428190489805,
          816.7364039914958,
          817.4210345272832,
          820.6159770276245,
          822.6698686349866,
          824.1151997660934,
          824.7237602423488,
          825.1801805995403,
          830.3529446477119,
          830.4290147072438,
          830.9615051239673,
          831.1136452430312,
          833.1675368503934,
          834.3846578029043,
          836.818899707926,
          846.0994469708219,
          846.0994469708219,
          853.2500325668236,
          855.8364145909093,
          856.9774654838884,
          858.5749367340588,
          861.7698792344002,
          863.3673504845708,
          863.5194906036345,
          864.1280510798899,
          864.9648217347412,
          865.7255223300606,
          868.4640444732102,
          873.1043181046582,
          874.8539294738925,
          874.9299995334245,
          880.7113240578515,
          881.7763048912984,
          884.3626869153843,
          884.438756974916,
          886.872998879938,
          887.2533491775976,
          892.3500431662371,
          896.2296162023658,
          896.3056862618978,
          896.3056862618978,
          897.7510173930043,
          897.9792275716002,
          901.0981000124095,
          904.977673048538,
          905.4340934057295,
          906.8794245368363,
          907.335844894028,
          909.0854562632624,
          911.3675580492204,
          914.4103604304978,
          914.4103604304978,
          917.5292328713069,
          920.4959651930524,
          921.8652262646272,
          923.0062771576061,
          923.082347217138,
          926.9619202532667,
          929.3961621582885,
          933.9603657302046,
          936.0903273970987,
          937.2313782900776,
          944.686244124207,
          946.2076453148456,
          947.3486962078248,
          948.4136770412717,
          950.5436387081659,
          952.2932500774004,
          953.2060907917835,
          954.2710716252307,
          954.3471416847626,
          960.5848865663811,
          966.0619308526802,
          985.688006211919,
          996.7942349035811,
          997.022445082177,
          1000.29345764205,
          1007.4440432380518,
          1015.5074695484366,
          1015.5074695484366,
          1021.1366539537996,
          1023.1144755016298,
          1024.6358766922685,
          1027.374398835418,
          1029.1240102046527,
          1062.2905561605753,
          1067.3872501492149,
          1079.5584596743242,
          1080.1670201505797,
          1081.5362812221545,
          1093.403210509136,
          1095.0767518188386,
          1095.1528218783706,
          1099.7170254502864,
          1102.455547593436,
          1106.7154709272243,
          1107.2479613439477,
          1121.9294828336108,
          1139.8059468236152,
          1144.1419402169354,
          1180.8837789708589,
          1199.5209435561824,
          1217.3974075461867,
          1231.850718857254,
          1312.5610520206349,
          1313.3217526159542,
          1350.063591369878,
          1350.6721518461334,
          1404.6818941138058
         ],
         "yaxis": "y"
        }
       ],
       "layout": {
        "legend": {
         "tracegroupgap": 0
        },
        "template": {
         "data": {
          "bar": [
           {
            "error_x": {
             "color": "#2a3f5f"
            },
            "error_y": {
             "color": "#2a3f5f"
            },
            "marker": {
             "line": {
              "color": "#E5ECF6",
              "width": 0.5
             },
             "pattern": {
              "fillmode": "overlay",
              "size": 10,
              "solidity": 0.2
             }
            },
            "type": "bar"
           }
          ],
          "barpolar": [
           {
            "marker": {
             "line": {
              "color": "#E5ECF6",
              "width": 0.5
             },
             "pattern": {
              "fillmode": "overlay",
              "size": 10,
              "solidity": 0.2
             }
            },
            "type": "barpolar"
           }
          ],
          "carpet": [
           {
            "aaxis": {
             "endlinecolor": "#2a3f5f",
             "gridcolor": "white",
             "linecolor": "white",
             "minorgridcolor": "white",
             "startlinecolor": "#2a3f5f"
            },
            "baxis": {
             "endlinecolor": "#2a3f5f",
             "gridcolor": "white",
             "linecolor": "white",
             "minorgridcolor": "white",
             "startlinecolor": "#2a3f5f"
            },
            "type": "carpet"
           }
          ],
          "choropleth": [
           {
            "colorbar": {
             "outlinewidth": 0,
             "ticks": ""
            },
            "type": "choropleth"
           }
          ],
          "contour": [
           {
            "colorbar": {
             "outlinewidth": 0,
             "ticks": ""
            },
            "colorscale": [
             [
              0,
              "#0d0887"
             ],
             [
              0.1111111111111111,
              "#46039f"
             ],
             [
              0.2222222222222222,
              "#7201a8"
             ],
             [
              0.3333333333333333,
              "#9c179e"
             ],
             [
              0.4444444444444444,
              "#bd3786"
             ],
             [
              0.5555555555555556,
              "#d8576b"
             ],
             [
              0.6666666666666666,
              "#ed7953"
             ],
             [
              0.7777777777777778,
              "#fb9f3a"
             ],
             [
              0.8888888888888888,
              "#fdca26"
             ],
             [
              1,
              "#f0f921"
             ]
            ],
            "type": "contour"
           }
          ],
          "contourcarpet": [
           {
            "colorbar": {
             "outlinewidth": 0,
             "ticks": ""
            },
            "type": "contourcarpet"
           }
          ],
          "heatmap": [
           {
            "colorbar": {
             "outlinewidth": 0,
             "ticks": ""
            },
            "colorscale": [
             [
              0,
              "#0d0887"
             ],
             [
              0.1111111111111111,
              "#46039f"
             ],
             [
              0.2222222222222222,
              "#7201a8"
             ],
             [
              0.3333333333333333,
              "#9c179e"
             ],
             [
              0.4444444444444444,
              "#bd3786"
             ],
             [
              0.5555555555555556,
              "#d8576b"
             ],
             [
              0.6666666666666666,
              "#ed7953"
             ],
             [
              0.7777777777777778,
              "#fb9f3a"
             ],
             [
              0.8888888888888888,
              "#fdca26"
             ],
             [
              1,
              "#f0f921"
             ]
            ],
            "type": "heatmap"
           }
          ],
          "heatmapgl": [
           {
            "colorbar": {
             "outlinewidth": 0,
             "ticks": ""
            },
            "colorscale": [
             [
              0,
              "#0d0887"
             ],
             [
              0.1111111111111111,
              "#46039f"
             ],
             [
              0.2222222222222222,
              "#7201a8"
             ],
             [
              0.3333333333333333,
              "#9c179e"
             ],
             [
              0.4444444444444444,
              "#bd3786"
             ],
             [
              0.5555555555555556,
              "#d8576b"
             ],
             [
              0.6666666666666666,
              "#ed7953"
             ],
             [
              0.7777777777777778,
              "#fb9f3a"
             ],
             [
              0.8888888888888888,
              "#fdca26"
             ],
             [
              1,
              "#f0f921"
             ]
            ],
            "type": "heatmapgl"
           }
          ],
          "histogram": [
           {
            "marker": {
             "pattern": {
              "fillmode": "overlay",
              "size": 10,
              "solidity": 0.2
             }
            },
            "type": "histogram"
           }
          ],
          "histogram2d": [
           {
            "colorbar": {
             "outlinewidth": 0,
             "ticks": ""
            },
            "colorscale": [
             [
              0,
              "#0d0887"
             ],
             [
              0.1111111111111111,
              "#46039f"
             ],
             [
              0.2222222222222222,
              "#7201a8"
             ],
             [
              0.3333333333333333,
              "#9c179e"
             ],
             [
              0.4444444444444444,
              "#bd3786"
             ],
             [
              0.5555555555555556,
              "#d8576b"
             ],
             [
              0.6666666666666666,
              "#ed7953"
             ],
             [
              0.7777777777777778,
              "#fb9f3a"
             ],
             [
              0.8888888888888888,
              "#fdca26"
             ],
             [
              1,
              "#f0f921"
             ]
            ],
            "type": "histogram2d"
           }
          ],
          "histogram2dcontour": [
           {
            "colorbar": {
             "outlinewidth": 0,
             "ticks": ""
            },
            "colorscale": [
             [
              0,
              "#0d0887"
             ],
             [
              0.1111111111111111,
              "#46039f"
             ],
             [
              0.2222222222222222,
              "#7201a8"
             ],
             [
              0.3333333333333333,
              "#9c179e"
             ],
             [
              0.4444444444444444,
              "#bd3786"
             ],
             [
              0.5555555555555556,
              "#d8576b"
             ],
             [
              0.6666666666666666,
              "#ed7953"
             ],
             [
              0.7777777777777778,
              "#fb9f3a"
             ],
             [
              0.8888888888888888,
              "#fdca26"
             ],
             [
              1,
              "#f0f921"
             ]
            ],
            "type": "histogram2dcontour"
           }
          ],
          "mesh3d": [
           {
            "colorbar": {
             "outlinewidth": 0,
             "ticks": ""
            },
            "type": "mesh3d"
           }
          ],
          "parcoords": [
           {
            "line": {
             "colorbar": {
              "outlinewidth": 0,
              "ticks": ""
             }
            },
            "type": "parcoords"
           }
          ],
          "pie": [
           {
            "automargin": true,
            "type": "pie"
           }
          ],
          "scatter": [
           {
            "fillpattern": {
             "fillmode": "overlay",
             "size": 10,
             "solidity": 0.2
            },
            "type": "scatter"
           }
          ],
          "scatter3d": [
           {
            "line": {
             "colorbar": {
              "outlinewidth": 0,
              "ticks": ""
             }
            },
            "marker": {
             "colorbar": {
              "outlinewidth": 0,
              "ticks": ""
             }
            },
            "type": "scatter3d"
           }
          ],
          "scattercarpet": [
           {
            "marker": {
             "colorbar": {
              "outlinewidth": 0,
              "ticks": ""
             }
            },
            "type": "scattercarpet"
           }
          ],
          "scattergeo": [
           {
            "marker": {
             "colorbar": {
              "outlinewidth": 0,
              "ticks": ""
             }
            },
            "type": "scattergeo"
           }
          ],
          "scattergl": [
           {
            "marker": {
             "colorbar": {
              "outlinewidth": 0,
              "ticks": ""
             }
            },
            "type": "scattergl"
           }
          ],
          "scattermapbox": [
           {
            "marker": {
             "colorbar": {
              "outlinewidth": 0,
              "ticks": ""
             }
            },
            "type": "scattermapbox"
           }
          ],
          "scatterpolar": [
           {
            "marker": {
             "colorbar": {
              "outlinewidth": 0,
              "ticks": ""
             }
            },
            "type": "scatterpolar"
           }
          ],
          "scatterpolargl": [
           {
            "marker": {
             "colorbar": {
              "outlinewidth": 0,
              "ticks": ""
             }
            },
            "type": "scatterpolargl"
           }
          ],
          "scatterternary": [
           {
            "marker": {
             "colorbar": {
              "outlinewidth": 0,
              "ticks": ""
             }
            },
            "type": "scatterternary"
           }
          ],
          "surface": [
           {
            "colorbar": {
             "outlinewidth": 0,
             "ticks": ""
            },
            "colorscale": [
             [
              0,
              "#0d0887"
             ],
             [
              0.1111111111111111,
              "#46039f"
             ],
             [
              0.2222222222222222,
              "#7201a8"
             ],
             [
              0.3333333333333333,
              "#9c179e"
             ],
             [
              0.4444444444444444,
              "#bd3786"
             ],
             [
              0.5555555555555556,
              "#d8576b"
             ],
             [
              0.6666666666666666,
              "#ed7953"
             ],
             [
              0.7777777777777778,
              "#fb9f3a"
             ],
             [
              0.8888888888888888,
              "#fdca26"
             ],
             [
              1,
              "#f0f921"
             ]
            ],
            "type": "surface"
           }
          ],
          "table": [
           {
            "cells": {
             "fill": {
              "color": "#EBF0F8"
             },
             "line": {
              "color": "white"
             }
            },
            "header": {
             "fill": {
              "color": "#C8D4E3"
             },
             "line": {
              "color": "white"
             }
            },
            "type": "table"
           }
          ]
         },
         "layout": {
          "annotationdefaults": {
           "arrowcolor": "#2a3f5f",
           "arrowhead": 0,
           "arrowwidth": 1
          },
          "autotypenumbers": "strict",
          "coloraxis": {
           "colorbar": {
            "outlinewidth": 0,
            "ticks": ""
           }
          },
          "colorscale": {
           "diverging": [
            [
             0,
             "#8e0152"
            ],
            [
             0.1,
             "#c51b7d"
            ],
            [
             0.2,
             "#de77ae"
            ],
            [
             0.3,
             "#f1b6da"
            ],
            [
             0.4,
             "#fde0ef"
            ],
            [
             0.5,
             "#f7f7f7"
            ],
            [
             0.6,
             "#e6f5d0"
            ],
            [
             0.7,
             "#b8e186"
            ],
            [
             0.8,
             "#7fbc41"
            ],
            [
             0.9,
             "#4d9221"
            ],
            [
             1,
             "#276419"
            ]
           ],
           "sequential": [
            [
             0,
             "#0d0887"
            ],
            [
             0.1111111111111111,
             "#46039f"
            ],
            [
             0.2222222222222222,
             "#7201a8"
            ],
            [
             0.3333333333333333,
             "#9c179e"
            ],
            [
             0.4444444444444444,
             "#bd3786"
            ],
            [
             0.5555555555555556,
             "#d8576b"
            ],
            [
             0.6666666666666666,
             "#ed7953"
            ],
            [
             0.7777777777777778,
             "#fb9f3a"
            ],
            [
             0.8888888888888888,
             "#fdca26"
            ],
            [
             1,
             "#f0f921"
            ]
           ],
           "sequentialminus": [
            [
             0,
             "#0d0887"
            ],
            [
             0.1111111111111111,
             "#46039f"
            ],
            [
             0.2222222222222222,
             "#7201a8"
            ],
            [
             0.3333333333333333,
             "#9c179e"
            ],
            [
             0.4444444444444444,
             "#bd3786"
            ],
            [
             0.5555555555555556,
             "#d8576b"
            ],
            [
             0.6666666666666666,
             "#ed7953"
            ],
            [
             0.7777777777777778,
             "#fb9f3a"
            ],
            [
             0.8888888888888888,
             "#fdca26"
            ],
            [
             1,
             "#f0f921"
            ]
           ]
          },
          "colorway": [
           "#636efa",
           "#EF553B",
           "#00cc96",
           "#ab63fa",
           "#FFA15A",
           "#19d3f3",
           "#FF6692",
           "#B6E880",
           "#FF97FF",
           "#FECB52"
          ],
          "font": {
           "color": "#2a3f5f"
          },
          "geo": {
           "bgcolor": "white",
           "lakecolor": "white",
           "landcolor": "#E5ECF6",
           "showlakes": true,
           "showland": true,
           "subunitcolor": "white"
          },
          "hoverlabel": {
           "align": "left"
          },
          "hovermode": "closest",
          "mapbox": {
           "style": "light"
          },
          "paper_bgcolor": "white",
          "plot_bgcolor": "#E5ECF6",
          "polar": {
           "angularaxis": {
            "gridcolor": "white",
            "linecolor": "white",
            "ticks": ""
           },
           "bgcolor": "#E5ECF6",
           "radialaxis": {
            "gridcolor": "white",
            "linecolor": "white",
            "ticks": ""
           }
          },
          "scene": {
           "xaxis": {
            "backgroundcolor": "#E5ECF6",
            "gridcolor": "white",
            "gridwidth": 2,
            "linecolor": "white",
            "showbackground": true,
            "ticks": "",
            "zerolinecolor": "white"
           },
           "yaxis": {
            "backgroundcolor": "#E5ECF6",
            "gridcolor": "white",
            "gridwidth": 2,
            "linecolor": "white",
            "showbackground": true,
            "ticks": "",
            "zerolinecolor": "white"
           },
           "zaxis": {
            "backgroundcolor": "#E5ECF6",
            "gridcolor": "white",
            "gridwidth": 2,
            "linecolor": "white",
            "showbackground": true,
            "ticks": "",
            "zerolinecolor": "white"
           }
          },
          "shapedefaults": {
           "line": {
            "color": "#2a3f5f"
           }
          },
          "ternary": {
           "aaxis": {
            "gridcolor": "white",
            "linecolor": "white",
            "ticks": ""
           },
           "baxis": {
            "gridcolor": "white",
            "linecolor": "white",
            "ticks": ""
           },
           "bgcolor": "#E5ECF6",
           "caxis": {
            "gridcolor": "white",
            "linecolor": "white",
            "ticks": ""
           }
          },
          "title": {
           "x": 0.05
          },
          "xaxis": {
           "automargin": true,
           "gridcolor": "white",
           "linecolor": "white",
           "ticks": "",
           "title": {
            "standoff": 15
           },
           "zerolinecolor": "white",
           "zerolinewidth": 2
          },
          "yaxis": {
           "automargin": true,
           "gridcolor": "white",
           "linecolor": "white",
           "ticks": "",
           "title": {
            "standoff": 15
           },
           "zerolinecolor": "white",
           "zerolinewidth": 2
          }
         }
        },
        "title": {
         "text": "Steps vs Calories Burned"
        },
        "xaxis": {
         "anchor": "y",
         "domain": [
          0,
          1
         ],
         "title": {
          "text": "Number of Steps"
         }
        },
        "yaxis": {
         "anchor": "x",
         "domain": [
          0,
          1
         ],
         "title": {
          "text": "Total Calories Burned"
         }
        }
       }
      },
      "image/png": "[encoded data removed]",
      "text/html": [
       "<div>                            <div id=\"94a33961-3db4-4f5c-8b0c-befd97f676be\" class=\"plotly-graph-div\" style=\"height:525px; width:100%;\"></div>            <script type=\"text/javascript\">                require([\"plotly\"], function(Plotly) {                    window.PLOTLYENV=window.PLOTLYENV || {};                                    if (document.getElementById(\"94a33961-3db4-4f5c-8b0c-befd97f676be\")) {                    Plotly.newPlot(                        \"94a33961-3db4-4f5c-8b0c-befd97f676be\",                        [{\"hovertemplate\":\"Number of Steps=%{x}\\u003cbr\\u003eTotal Calories Burned=%{y}\\u003cextra\\u003e\\u003c\\u002fextra\\u003e\",\"legendgroup\":\"\",\"marker\":{\"color\":\"#636efa\",\"symbol\":\"circle\"},\"mode\":\"markers\",\"name\":\"\",\"orientation\":\"v\",\"showlegend\":false,\"x\":[6829.0,7741.0,8227.0,13262.0,9377.0,8004.0,4656.0,6252.0,11632.0,6386.0,5172.0,9041.0,10708.0,8174.0,6116.0,9444.0,7741.0,10608.0,5071.0,8885.0,6346.0,8675.0,8618.0,6536.0,7995.0,9726.0,11814.0,10608.0,9060.0,4976.0,8509.0,7400.0,8610.0,12782.0,9155.0,8175.0,8989.0,5360.0,6249.0,9697.0,8736.0,7009.0,9564.0,7730.0,5091.0,5528.0,8381.0,8182.0,10682.0,5850.0,6401.0,9239.0,8184.0,7606.0,9958.0,7318.0,6700.0,7334.0,8608.0,7131.0,13452.0,14513.0,9040.0,9279.0,10502.0,8100.0,5841.0,5082.0,6781.0,6828.0,8545.0,9041.0,7744.0,5452.0,11223.0,8760.0,9209.0,11751.0,7613.0,7400.0,9789.0,8759.0,11290.0,9186.0,7023.0,6796.0,5357.0,10728.0,10362.0,8073.0,5178.0,6091.0,9677.0,9161.0,9104.0,8884.0,15724.0,8381.0,7733.0,7689.0,6412.0,3207.0,8475.0,6930.0,8046.0,10787.0,6639.0,9886.0,9712.0,7329.0,8629.0,9359.0,6076.0,8259.0,13027.0,7374.0,8092.0,7713.0,8836.0,7360.0,11715.0,8524.0,9392.0,14523.0,12242.0,5122.0,4505.0,6878.0,7097.0,5474.0,9063.0,11655.0,9803.0,5544.0,9536.0,10216.0,5003.0,10764.0,9804.0,9579.0,5975.0,11450.0,4865.0,6253.0,9320.0,15014.0,11654.0,5565.0,5696.0,7635.0,null,null,null,10365.0,8211.0,9279.0,6818.0,11476.0,9777.0,15006.0,9754.0,5214.0,6263.0,8850.0,12299.0,3238.0,6615.0,12007.0,9393.0,8922.0,8917.0,9180.0,11458.0,8106.0,9476.0,7172.0,null,null,null,11807.0,5883.0,8639.0,8587.0,10408.0,3257.0],\"xaxis\":\"x\",\"y\":[664.0,660.0,873.0,1113.0,790.0,700.0,503.0,652.0,1014.0,684.0,593.0,881.0,910.0,753.0,592.0,1122.0,740.0,883.0,591.0,881.0,550.0,790.0,794.0,602.0,904.0,1060.0,1050.0,941.0,790.0,423.0,692.0,734.0,764.0,1202.0,803.0,730.0,773.0,571.0,653.0,1153.0,1314.0,860.0,964.0,760.0,553.0,531.0,1030.0,1002.0,943.0,614.0,751.0,912.0,734.0,854.0,944.0,873.0,813.0,722.0,401.0,672.0,1231.0,1214.0,894.0,994.0,934.0,890.0,594.0,610.0,833.0,573.0,751.0,834.0,801.0,623.0,1300.0,971.0,901.0,1081.0,712.0,810.0,824.0,794.0,1102.0,874.0,722.0,752.0,564.0,971.0,1282.0,951.0,631.0,743.0,843.0,700.0,914.0,1054.0,1573.0,972.0,884.0,784.0,664.0,303.0,802.0,1472.0,1103.0,1023.0,661.0,862.0,911.0,761.0,1040.0,882.0,744.0,794.0,1103.0,712.0,1162.0,724.0,894.0,721.0,992.0,891.0,791.0,1244.0,1391.0,614.0,533.0,850.0,1140.0,510.0,1091.0,1253.0,860.0,682.0,1120.0,1114.0,590.0,993.0,931.0,831.0,543.0,1020.0,531.0,713.0,1240.0,1333.0,972.0,573.0,600.0,683.0,null,null,null,1063.0,743.0,841.0,810.0,984.0,972.0,1323.0,1050.0,450.0,652.0,1100.0,1054.0,383.0,711.0,1013.0,792.0,863.0,772.0,933.0,1244.0,870.0,883.0,650.0,null,null,null,1181.0,712.0,874.0,874.0,900.0,784.0],\"yaxis\":\"y\",\"type\":\"scatter\"},{\"hovertemplate\":\"\\u003cb\\u003eOLS trendline\\u003c\\u002fb\\u003e\\u003cbr\\u003etotal_calories_burned = 0.0760701 * steps + 208.556\\u003cbr\\u003eR\\u003csup\\u003e2\\u003c\\u002fsup\\u003e=0.645894\\u003cbr\\u003e\\u003cbr\\u003eNumber of Steps=%{x}\\u003cbr\\u003eTotal Calories Burned=%{y} \\u003cb\\u003e(trend)\\u003c\\u002fb\\u003e\\u003cextra\\u003e\\u003c\\u002fextra\\u003e\",\"legendgroup\":\"\",\"marker\":{\"color\":\"#636efa\",\"symbol\":\"circle\"},\"mode\":\"lines\",\"name\":\"\",\"showlegend\":false,\"x\":[3207.0,3238.0,3257.0,4505.0,4656.0,4865.0,4976.0,5003.0,5071.0,5082.0,5091.0,5122.0,5172.0,5178.0,5214.0,5357.0,5360.0,5452.0,5474.0,5528.0,5544.0,5565.0,5696.0,5841.0,5850.0,5883.0,5975.0,6076.0,6091.0,6116.0,6249.0,6252.0,6253.0,6263.0,6346.0,6386.0,6401.0,6412.0,6536.0,6615.0,6639.0,6700.0,6781.0,6796.0,6818.0,6828.0,6829.0,6878.0,6930.0,7009.0,7023.0,7097.0,7131.0,7172.0,7318.0,7329.0,7334.0,7360.0,7374.0,7400.0,7400.0,7606.0,7613.0,7635.0,7689.0,7713.0,7730.0,7733.0,7741.0,7741.0,7744.0,7995.0,8004.0,8046.0,8073.0,8092.0,8100.0,8106.0,8174.0,8175.0,8182.0,8184.0,8211.0,8227.0,8259.0,8381.0,8381.0,8475.0,8509.0,8524.0,8545.0,8587.0,8608.0,8610.0,8618.0,8629.0,8639.0,8675.0,8736.0,8759.0,8760.0,8836.0,8850.0,8884.0,8885.0,8917.0,8922.0,8989.0,9040.0,9041.0,9041.0,9060.0,9063.0,9104.0,9155.0,9161.0,9180.0,9186.0,9209.0,9239.0,9279.0,9279.0,9320.0,9359.0,9377.0,9392.0,9393.0,9444.0,9476.0,9536.0,9564.0,9579.0,9677.0,9697.0,9712.0,9726.0,9754.0,9777.0,9789.0,9803.0,9804.0,9886.0,9958.0,10216.0,10362.0,10365.0,10408.0,10502.0,10608.0,10608.0,10682.0,10708.0,10728.0,10764.0,10787.0,11223.0,11290.0,11450.0,11458.0,11476.0,11632.0,11654.0,11655.0,11715.0,11751.0,11807.0,11814.0,12007.0,12242.0,12299.0,12782.0,13027.0,13262.0,13452.0,14513.0,14523.0,15006.0,15014.0,15724.0],\"xaxis\":\"x\",\"y\":[452.5129589526008,454.8711307980907,456.31646192919743,551.2518962250497,562.7384752143716,578.6371176565456,587.0808942645901,589.1347858719523,594.3075499201238,595.1443205749752,595.8289511107625,598.1871229562523,601.9906259328491,602.4470462900406,605.1855684331902,616.0635869462567,616.2917971248525,623.2902426017903,624.9637839114928,629.0715671262171,630.2886880787281,631.8861593288987,641.8513371275819,652.8814957597122,653.5661262954995,656.0764382600534,663.0748837369912,670.7579597497165,671.8990106426954,673.8007621309937,683.9180800487409,684.1462902273366,684.2223602868686,684.9830608821878,691.2968758233383,694.3396782046157,695.4807290975946,696.3174997524459,705.7501871344057,711.7597218374283,713.5854032661947,718.2256768976426,724.3873517197292,725.5284026127081,727.2019439224107,727.96264451773,728.038714577262,731.7661474943268,735.7217905899872,741.7313252930098,742.796306126457,748.4254905318201,751.0118725559057,754.1307449967151,765.2369736883772,766.0737443432286,766.4540946408881,768.4319161887183,769.4968970221655,771.4747185699957,771.4747185699957,787.1451508335738,787.6776412502975,789.3511825599999,793.4589657747242,795.2846472034907,796.5778382155336,796.8060483941294,797.4146088703849,797.4146088703849,797.6428190489805,816.7364039914958,817.4210345272832,820.6159770276245,822.6698686349866,824.1151997660934,824.7237602423488,825.1801805995403,830.3529446477119,830.4290147072438,830.9615051239673,831.1136452430312,833.1675368503934,834.3846578029043,836.818899707926,846.0994469708219,846.0994469708219,853.2500325668236,855.8364145909093,856.9774654838884,858.5749367340588,861.7698792344002,863.3673504845708,863.5194906036345,864.1280510798899,864.9648217347412,865.7255223300606,868.4640444732102,873.1043181046582,874.8539294738925,874.9299995334245,880.7113240578515,881.7763048912984,884.3626869153843,884.438756974916,886.872998879938,887.2533491775976,892.3500431662371,896.2296162023658,896.3056862618978,896.3056862618978,897.7510173930043,897.9792275716002,901.0981000124095,904.977673048538,905.4340934057295,906.8794245368363,907.335844894028,909.0854562632624,911.3675580492204,914.4103604304978,914.4103604304978,917.5292328713069,920.4959651930524,921.8652262646272,923.0062771576061,923.082347217138,926.9619202532667,929.3961621582885,933.9603657302046,936.0903273970987,937.2313782900776,944.686244124207,946.2076453148456,947.3486962078248,948.4136770412717,950.5436387081659,952.2932500774004,953.2060907917835,954.2710716252307,954.3471416847626,960.5848865663811,966.0619308526802,985.688006211919,996.7942349035811,997.022445082177,1000.29345764205,1007.4440432380518,1015.5074695484366,1015.5074695484366,1021.1366539537996,1023.1144755016298,1024.6358766922685,1027.374398835418,1029.1240102046527,1062.2905561605753,1067.3872501492149,1079.5584596743242,1080.1670201505797,1081.5362812221545,1093.403210509136,1095.0767518188386,1095.1528218783706,1099.7170254502864,1102.455547593436,1106.7154709272243,1107.2479613439477,1121.9294828336108,1139.8059468236152,1144.1419402169354,1180.8837789708589,1199.5209435561824,1217.3974075461867,1231.850718857254,1312.5610520206349,1313.3217526159542,1350.063591369878,1350.6721518461334,1404.6818941138058],\"yaxis\":\"y\",\"type\":\"scatter\"}],                        {\"template\":{\"data\":{\"histogram2dcontour\":[{\"type\":\"histogram2dcontour\",\"colorbar\":{\"outlinewidth\":0,\"ticks\":\"\"},\"colorscale\":[[0.0,\"#0d0887\"],[0.1111111111111111,\"#46039f\"],[0.2222222222222222,\"#7201a8\"],[0.3333333333333333,\"#9c179e\"],[0.4444444444444444,\"#bd3786\"],[0.5555555555555556,\"#d8576b\"],[0.6666666666666666,\"#ed7953\"],[0.7777777777777778,\"#fb9f3a\"],[0.8888888888888888,\"#fdca26\"],[1.0,\"#f0f921\"]]}],\"choropleth\":[{\"type\":\"choropleth\",\"colorbar\":{\"outlinewidth\":0,\"ticks\":\"\"}}],\"histogram2d\":[{\"type\":\"histogram2d\",\"colorbar\":{\"outlinewidth\":0,\"ticks\":\"\"},\"colorscale\":[[0.0,\"#0d0887\"],[0.1111111111111111,\"#46039f\"],[0.2222222222222222,\"#7201a8\"],[0.3333333333333333,\"#9c179e\"],[0.4444444444444444,\"#bd3786\"],[0.5555555555555556,\"#d8576b\"],[0.6666666666666666,\"#ed7953\"],[0.7777777777777778,\"#fb9f3a\"],[0.8888888888888888,\"#fdca26\"],[1.0,\"#f0f921\"]]}],\"heatmap\":[{\"type\":\"heatmap\",\"colorbar\":{\"outlinewidth\":0,\"ticks\":\"\"},\"colorscale\":[[0.0,\"#0d0887\"],[0.1111111111111111,\"#46039f\"],[0.2222222222222222,\"#7201a8\"],[0.3333333333333333,\"#9c179e\"],[0.4444444444444444,\"#bd3786\"],[0.5555555555555556,\"#d8576b\"],[0.6666666666666666,\"#ed7953\"],[0.7777777777777778,\"#fb9f3a\"],[0.8888888888888888,\"#fdca26\"],[1.0,\"#f0f921\"]]}],\"heatmapgl\":[{\"type\":\"heatmapgl\",\"colorbar\":{\"outlinewidth\":0,\"ticks\":\"\"},\"colorscale\":[[0.0,\"#0d0887\"],[0.1111111111111111,\"#46039f\"],[0.2222222222222222,\"#7201a8\"],[0.3333333333333333,\"#9c179e\"],[0.4444444444444444,\"#bd3786\"],[0.5555555555555556,\"#d8576b\"],[0.6666666666666666,\"#ed7953\"],[0.7777777777777778,\"#fb9f3a\"],[0.8888888888888888,\"#fdca26\"],[1.0,\"#f0f921\"]]}],\"contourcarpet\":[{\"type\":\"contourcarpet\",\"colorbar\":{\"outlinewidth\":0,\"ticks\":\"\"}}],\"contour\":[{\"type\":\"contour\",\"colorbar\":{\"outlinewidth\":0,\"ticks\":\"\"},\"colorscale\":[[0.0,\"#0d0887\"],[0.1111111111111111,\"#46039f\"],[0.2222222222222222,\"#7201a8\"],[0.3333333333333333,\"#9c179e\"],[0.4444444444444444,\"#bd3786\"],[0.5555555555555556,\"#d8576b\"],[0.6666666666666666,\"#ed7953\"],[0.7777777777777778,\"#fb9f3a\"],[0.8888888888888888,\"#fdca26\"],[1.0,\"#f0f921\"]]}],\"surface\":[{\"type\":\"surface\",\"colorbar\":{\"outlinewidth\":0,\"ticks\":\"\"},\"colorscale\":[[0.0,\"#0d0887\"],[0.1111111111111111,\"#46039f\"],[0.2222222222222222,\"#7201a8\"],[0.3333333333333333,\"#9c179e\"],[0.4444444444444444,\"#bd3786\"],[0.5555555555555556,\"#d8576b\"],[0.6666666666666666,\"#ed7953\"],[0.7777777777777778,\"#fb9f3a\"],[0.8888888888888888,\"#fdca26\"],[1.0,\"#f0f921\"]]}],\"mesh3d\":[{\"type\":\"mesh3d\",\"colorbar\":{\"outlinewidth\":0,\"ticks\":\"\"}}],\"scatter\":[{\"fillpattern\":{\"fillmode\":\"overlay\",\"size\":10,\"solidity\":0.2},\"type\":\"scatter\"}],\"parcoords\":[{\"type\":\"parcoords\",\"line\":{\"colorbar\":{\"outlinewidth\":0,\"ticks\":\"\"}}}],\"scatterpolargl\":[{\"type\":\"scatterpolargl\",\"marker\":{\"colorbar\":{\"outlinewidth\":0,\"ticks\":\"\"}}}],\"bar\":[{\"error_x\":{\"color\":\"#2a3f5f\"},\"error_y\":{\"color\":\"#2a3f5f\"},\"marker\":{\"line\":{\"color\":\"#E5ECF6\",\"width\":0.5},\"pattern\":{\"fillmode\":\"overlay\",\"size\":10,\"solidity\":0.2}},\"type\":\"bar\"}],\"scattergeo\":[{\"type\":\"scattergeo\",\"marker\":{\"colorbar\":{\"outlinewidth\":0,\"ticks\":\"\"}}}],\"scatterpolar\":[{\"type\":\"scatterpolar\",\"marker\":{\"colorbar\":{\"outlinewidth\":0,\"ticks\":\"\"}}}],\"histogram\":[{\"marker\":{\"pattern\":{\"fillmode\":\"overlay\",\"size\":10,\"solidity\":0.2}},\"type\":\"histogram\"}],\"scattergl\":[{\"type\":\"scattergl\",\"marker\":{\"colorbar\":{\"outlinewidth\":0,\"ticks\":\"\"}}}],\"scatter3d\":[{\"type\":\"scatter3d\",\"line\":{\"colorbar\":{\"outlinewidth\":0,\"ticks\":\"\"}},\"marker\":{\"colorbar\":{\"outlinewidth\":0,\"ticks\":\"\"}}}],\"scattermapbox\":[{\"type\":\"scattermapbox\",\"marker\":{\"colorbar\":{\"outlinewidth\":0,\"ticks\":\"\"}}}],\"scatterternary\":[{\"type\":\"scatterternary\",\"marker\":{\"colorbar\":{\"outlinewidth\":0,\"ticks\":\"\"}}}],\"scattercarpet\":[{\"type\":\"scattercarpet\",\"marker\":{\"colorbar\":{\"outlinewidth\":0,\"ticks\":\"\"}}}],\"carpet\":[{\"aaxis\":{\"endlinecolor\":\"#2a3f5f\",\"gridcolor\":\"white\",\"linecolor\":\"white\",\"minorgridcolor\":\"white\",\"startlinecolor\":\"#2a3f5f\"},\"baxis\":{\"endlinecolor\":\"#2a3f5f\",\"gridcolor\":\"white\",\"linecolor\":\"white\",\"minorgridcolor\":\"white\",\"startlinecolor\":\"#2a3f5f\"},\"type\":\"carpet\"}],\"table\":[{\"cells\":{\"fill\":{\"color\":\"#EBF0F8\"},\"line\":{\"color\":\"white\"}},\"header\":{\"fill\":{\"color\":\"#C8D4E3\"},\"line\":{\"color\":\"white\"}},\"type\":\"table\"}],\"barpolar\":[{\"marker\":{\"line\":{\"color\":\"#E5ECF6\",\"width\":0.5},\"pattern\":{\"fillmode\":\"overlay\",\"size\":10,\"solidity\":0.2}},\"type\":\"barpolar\"}],\"pie\":[{\"automargin\":true,\"type\":\"pie\"}]},\"layout\":{\"autotypenumbers\":\"strict\",\"colorway\":[\"#636efa\",\"#EF553B\",\"#00cc96\",\"#ab63fa\",\"#FFA15A\",\"#19d3f3\",\"#FF6692\",\"#B6E880\",\"#FF97FF\",\"#FECB52\"],\"font\":{\"color\":\"#2a3f5f\"},\"hovermode\":\"closest\",\"hoverlabel\":{\"align\":\"left\"},\"paper_bgcolor\":\"white\",\"plot_bgcolor\":\"#E5ECF6\",\"polar\":{\"bgcolor\":\"#E5ECF6\",\"angularaxis\":{\"gridcolor\":\"white\",\"linecolor\":\"white\",\"ticks\":\"\"},\"radialaxis\":{\"gridcolor\":\"white\",\"linecolor\":\"white\",\"ticks\":\"\"}},\"ternary\":{\"bgcolor\":\"#E5ECF6\",\"aaxis\":{\"gridcolor\":\"white\",\"linecolor\":\"white\",\"ticks\":\"\"},\"baxis\":{\"gridcolor\":\"white\",\"linecolor\":\"white\",\"ticks\":\"\"},\"caxis\":{\"gridcolor\":\"white\",\"linecolor\":\"white\",\"ticks\":\"\"}},\"coloraxis\":{\"colorbar\":{\"outlinewidth\":0,\"ticks\":\"\"}},\"colorscale\":{\"sequential\":[[0.0,\"#0d0887\"],[0.1111111111111111,\"#46039f\"],[0.2222222222222222,\"#7201a8\"],[0.3333333333333333,\"#9c179e\"],[0.4444444444444444,\"#bd3786\"],[0.5555555555555556,\"#d8576b\"],[0.6666666666666666,\"#ed7953\"],[0.7777777777777778,\"#fb9f3a\"],[0.8888888888888888,\"#fdca26\"],[1.0,\"#f0f921\"]],\"sequentialminus\":[[0.0,\"#0d0887\"],[0.1111111111111111,\"#46039f\"],[0.2222222222222222,\"#7201a8\"],[0.3333333333333333,\"#9c179e\"],[0.4444444444444444,\"#bd3786\"],[0.5555555555555556,\"#d8576b\"],[0.6666666666666666,\"#ed7953\"],[0.7777777777777778,\"#fb9f3a\"],[0.8888888888888888,\"#fdca26\"],[1.0,\"#f0f921\"]],\"diverging\":[[0,\"#8e0152\"],[0.1,\"#c51b7d\"],[0.2,\"#de77ae\"],[0.3,\"#f1b6da\"],[0.4,\"#fde0ef\"],[0.5,\"#f7f7f7\"],[0.6,\"#e6f5d0\"],[0.7,\"#b8e186\"],[0.8,\"#7fbc41\"],[0.9,\"#4d9221\"],[1,\"#276419\"]]},\"xaxis\":{\"gridcolor\":\"white\",\"linecolor\":\"white\",\"ticks\":\"\",\"title\":{\"standoff\":15},\"zerolinecolor\":\"white\",\"automargin\":true,\"zerolinewidth\":2},\"yaxis\":{\"gridcolor\":\"white\",\"linecolor\":\"white\",\"ticks\":\"\",\"title\":{\"standoff\":15},\"zerolinecolor\":\"white\",\"automargin\":true,\"zerolinewidth\":2},\"scene\":{\"xaxis\":{\"backgroundcolor\":\"#E5ECF6\",\"gridcolor\":\"white\",\"linecolor\":\"white\",\"showbackground\":true,\"ticks\":\"\",\"zerolinecolor\":\"white\",\"gridwidth\":2},\"yaxis\":{\"backgroundcolor\":\"#E5ECF6\",\"gridcolor\":\"white\",\"linecolor\":\"white\",\"showbackground\":true,\"ticks\":\"\",\"zerolinecolor\":\"white\",\"gridwidth\":2},\"zaxis\":{\"backgroundcolor\":\"#E5ECF6\",\"gridcolor\":\"white\",\"linecolor\":\"white\",\"showbackground\":true,\"ticks\":\"\",\"zerolinecolor\":\"white\",\"gridwidth\":2}},\"shapedefaults\":{\"line\":{\"color\":\"#2a3f5f\"}},\"annotationdefaults\":{\"arrowcolor\":\"#2a3f5f\",\"arrowhead\":0,\"arrowwidth\":1},\"geo\":{\"bgcolor\":\"white\",\"landcolor\":\"#E5ECF6\",\"subunitcolor\":\"white\",\"showland\":true,\"showlakes\":true,\"lakecolor\":\"white\"},\"title\":{\"x\":0.05},\"mapbox\":{\"style\":\"light\"}}},\"xaxis\":{\"anchor\":\"y\",\"domain\":[0.0,1.0],\"title\":{\"text\":\"Number of Steps\"}},\"yaxis\":{\"anchor\":\"x\",\"domain\":[0.0,1.0],\"title\":{\"text\":\"Total Calories Burned\"}},\"legend\":{\"tracegroupgap\":0},\"title\":{\"text\":\"Steps vs Calories Burned\"}},                        {\"responsive\": true}                    ).then(function(){\n",
       "                            \n",
       "var gd = document.getElementById('94a33961-3db4-4f5c-8b0c-befd97f676be');\n",
       "var x = new MutationObserver(function (mutations, observer) {{\n",
       "        var display = window.getComputedStyle(gd).display;\n",
       "        if (!display || display === 'none') {{\n",
       "            console.log([gd, 'removed!']);\n",
       "            Plotly.purge(gd);\n",
       "            observer.disconnect();\n",
       "        }}\n",
       "}});\n",
       "\n",
       "// Listen for the removal of the full notebook cells\n",
       "var notebookContainer = gd.closest('#notebook-container');\n",
       "if (notebookContainer) {{\n",
       "    x.observe(notebookContainer, {childList: true});\n",
       "}}\n",
       "\n",
       "// Listen for the clearing of the current output cell\n",
       "var outputEl = gd.closest('.output');\n",
       "if (outputEl) {{\n",
       "    x.observe(outputEl, {childList: true});\n",
       "}}\n",
       "\n",
       "                        })                };                });            </script>        </div>"
      ]
     },
     "metadata": {},
     "output_type": "display_data"
    }
   ],
   "source": [
    "# Visualize number of steps vs. calories burned\n",
    "stepsvscal = pe.scatter(df, \n",
    "                        x='steps', \n",
    "                        y='total_calories_burned', \n",
    "                        title='Steps vs Calories Burned', \n",
    "                        labels={'steps': 'Number of Steps', 'total_calories_burned': 'Total Calories Burned'},\n",
    "                        trendline=\"ols\")\n",
    "stepsvscal.show()"
   ]
  },
  {
   "cell_type": "code",
   "execution_count": 85,
   "id": "5b49e27b-3825-46f0-a4bc-de4d97920089",
   "metadata": {
    "executionCancelledAt": null,
    "executionTime": null,
    "lastExecutedAt": null,
    "lastExecutedByKernel": null,
    "lastScheduledRunId": null,
    "lastSuccessfullyExecutedCode": null,
    "outputsMetadata": {
     "0": {
      "height": 38,
      "type": "stream"
     }
    }
   },
   "outputs": [
    {
     "name": "stdout",
     "output_type": "stream",
     "text": [
      "Number of different workout types: 5\n"
     ]
    }
   ],
   "source": [
    "# How many different workout types are in the dataset?\n",
    "unique_workouts = df['workout_type'].nunique()\n",
    "print(f'Number of different workout types: {unique_workouts}')"
   ]
  },
  {
   "cell_type": "code",
   "execution_count": 86,
   "id": "2e8210fa-a218-43f5-9d89-e4c8ab88b2a2",
   "metadata": {
    "executionCancelledAt": null,
    "executionTime": 105,
    "lastExecutedAt": 1736875091688,
    "lastExecutedByKernel": "0b41652a-fd66-48df-b288-01dc41aeffa1",
    "lastScheduledRunId": null,
    "lastSuccessfullyExecutedCode": "# Visualize trends across workout types\nworkout_viz = pe.line(df, x='date', y='sleep_hours', color='workout_type', title='Trends Across Workout Types')\nworkout_viz.show()\n",
    "outputsMetadata": {
     "0": {
      "height": 17,
      "type": "plotly"
     }
    }
   },
   "outputs": [
    {
     "data": {
      "application/vnd.plotly.v1+json": {
       "config": {
        "plotlyServerURL": "https://plot.ly"
       },
       "data": [
        {
         "hovertemplate": "Metric=Strength Training<br>Date=%{x}<br>Sleep Hours=%{y}<extra></extra>",
         "legendgroup": "Strength Training",
         "line": {
          "color": "#636efa",
          "dash": "solid"
         },
         "marker": {
          "symbol": "circle"
         },
         "mode": "lines",
         "name": "Strength Training",
         "orientation": "v",
         "showlegend": true,
         "type": "scatter",
         "x": [
          "2024-07-01T00:00:00",
          "2024-07-03T00:00:00",
          "2024-07-05T00:00:00",
          "2024-07-11T00:00:00",
          "2024-07-12T00:00:00",
          "2024-07-15T00:00:00",
          "2024-07-16T00:00:00",
          "2024-07-17T00:00:00",
          "2024-07-18T00:00:00",
          "2024-07-24T00:00:00",
          "2024-07-27T00:00:00",
          "2024-08-05T00:00:00",
          "2024-08-11T00:00:00",
          "2024-08-16T00:00:00",
          "2024-08-26T00:00:00",
          "2024-09-03T00:00:00",
          "2024-09-11T00:00:00",
          "2024-09-12T00:00:00",
          "2024-09-18T00:00:00",
          "2024-09-27T00:00:00",
          "2024-09-28T00:00:00",
          "2024-10-01T00:00:00",
          "2024-10-19T00:00:00",
          "2024-10-21T00:00:00",
          "2024-10-24T00:00:00",
          "2024-10-26T00:00:00",
          "2024-11-02T00:00:00",
          "2024-11-07T00:00:00",
          "2024-11-08T00:00:00",
          "2024-11-15T00:00:00",
          "2024-11-17T00:00:00",
          "2024-11-26T00:00:00",
          "2024-11-27T00:00:00",
          "2024-12-03T00:00:00",
          "2024-12-04T00:00:00",
          "2024-12-10T00:00:00",
          "2024-12-12T00:00:00",
          "2024-12-16T00:00:00",
          "2024-12-21T00:00:00",
          "2024-12-23T00:00:00",
          "2024-12-28T00:00:00"
         ],
         "xaxis": "x",
         "y": [
          7.03,
          7.53,
          5.38,
          7.894519307994196,
          6.22,
          8.47,
          8.89,
          7.57,
          7.52,
          8.05,
          7.91,
          8.12,
          8.98,
          5.45,
          7.78,
          6.44,
          7.74,
          7.615607801327909,
          7.91,
          6.31,
          6.91,
          7.18,
          8.18,
          7.96,
          8.004399257791045,
          6.96,
          7.94,
          7.39,
          8.297202001223887,
          5.45,
          9.29,
          7.14,
          8.313071485130733,
          7.88,
          8.04,
          7.37,
          7.43,
          6.95,
          7.4,
          8.49,
          9.78
         ],
         "yaxis": "y"
        },
        {
         "hovertemplate": "Metric=Rest<br>Date=%{x}<br>Sleep Hours=%{y}<extra></extra>",
         "legendgroup": "Rest",
         "line": {
          "color": "#EF553B",
          "dash": "solid"
         },
         "marker": {
          "symbol": "circle"
         },
         "mode": "lines",
         "name": "Rest",
         "orientation": "v",
         "showlegend": true,
         "type": "scatter",
         "x": [
          "2024-07-02T00:00:00",
          "2024-08-07T00:00:00",
          "2024-08-23T00:00:00",
          "2024-08-24T00:00:00",
          "2024-09-02T00:00:00",
          "2024-09-21T00:00:00",
          "2024-10-02T00:00:00",
          "2024-10-18T00:00:00",
          "2024-10-28T00:00:00",
          "2024-11-24T00:00:00",
          "2024-12-17T00:00:00",
          "2024-12-30T00:00:00",
          "2025-01-01T00:00:00"
         ],
         "xaxis": "x",
         "y": [
          7.85,
          7.82,
          6.7428012018323065,
          6.53,
          7.66,
          7.59,
          7.72,
          5.26,
          7.79,
          8.350693529672629,
          7.41,
          8.02,
          3.17
         ],
         "yaxis": "y"
        },
        {
         "hovertemplate": "Metric=Running<br>Date=%{x}<br>Sleep Hours=%{y}<extra></extra>",
         "legendgroup": "Running",
         "line": {
          "color": "#00cc96",
          "dash": "solid"
         },
         "marker": {
          "symbol": "circle"
         },
         "mode": "lines",
         "name": "Running",
         "orientation": "v",
         "showlegend": true,
         "type": "scatter",
         "x": [
          "2024-07-04T00:00:00",
          "2024-07-06T00:00:00",
          "2024-07-07T00:00:00",
          "2024-07-08T00:00:00",
          "2024-07-09T00:00:00",
          "2024-07-19T00:00:00",
          "2024-07-21T00:00:00",
          "2024-07-29T00:00:00",
          "2024-08-01T00:00:00",
          "2024-08-02T00:00:00",
          "2024-08-14T00:00:00",
          "2024-08-19T00:00:00",
          "2024-08-21T00:00:00",
          "2024-08-22T00:00:00",
          "2024-08-28T00:00:00",
          "2024-08-30T00:00:00",
          "2024-09-05T00:00:00",
          "2024-09-06T00:00:00",
          "2024-09-08T00:00:00",
          "2024-09-10T00:00:00",
          "2024-09-16T00:00:00",
          "2024-09-17T00:00:00",
          "2024-09-19T00:00:00",
          "2024-09-22T00:00:00",
          "2024-09-26T00:00:00",
          "2024-10-05T00:00:00",
          "2024-10-06T00:00:00",
          "2024-10-10T00:00:00",
          "2024-10-15T00:00:00",
          "2024-10-22T00:00:00",
          "2024-10-23T00:00:00",
          "2024-10-25T00:00:00",
          "2024-10-29T00:00:00",
          "2024-10-30T00:00:00",
          "2024-10-31T00:00:00",
          "2024-11-04T00:00:00",
          "2024-11-05T00:00:00",
          "2024-11-11T00:00:00",
          "2024-11-14T00:00:00",
          "2024-11-22T00:00:00",
          "2024-11-23T00:00:00",
          "2024-12-02T00:00:00",
          "2024-12-06T00:00:00",
          "2024-12-09T00:00:00",
          "2024-12-13T00:00:00",
          "2024-12-14T00:00:00",
          "2024-12-15T00:00:00",
          "2024-12-18T00:00:00",
          "2024-12-19T00:00:00",
          "2024-12-20T00:00:00",
          "2024-12-29T00:00:00"
         ],
         "xaxis": "x",
         "y": [
          4.63,
          8.04,
          9.44,
          6.59,
          8.02,
          6.04,
          8.05,
          7.47,
          7.96,
          6.4885786973208734,
          7.58,
          6.9,
          8.58,
          7.27,
          8.48,
          6.24,
          7.7,
          5.04,
          8.09,
          8.291172463,
          7.9,
          7.15,
          7.11,
          8.66,
          7.86,
          7.51,
          8.74,
          7.38,
          7.927719044719902,
          7.2,
          7.131062631933324,
          5.81,
          7.15,
          7.88,
          6.7,
          7.78,
          7.45,
          7.29,
          6.8,
          5.88,
          7.97,
          7.31,
          6.42,
          8.4,
          5.5,
          7.32,
          8.74,
          7.142324777835534,
          6.82,
          5.4,
          6.55
         ],
         "yaxis": "y"
        },
        {
         "hovertemplate": "Metric=HIIT<br>Date=%{x}<br>Sleep Hours=%{y}<extra></extra>",
         "legendgroup": "HIIT",
         "line": {
          "color": "#ab63fa",
          "dash": "solid"
         },
         "marker": {
          "symbol": "circle"
         },
         "mode": "lines",
         "name": "HIIT",
         "orientation": "v",
         "showlegend": true,
         "type": "scatter",
         "x": [
          "2024-07-10T00:00:00",
          "2024-07-13T00:00:00",
          "2024-07-20T00:00:00",
          "2024-07-23T00:00:00",
          "2024-07-25T00:00:00",
          "2024-07-28T00:00:00",
          "2024-07-31T00:00:00",
          "2024-08-03T00:00:00",
          "2024-08-08T00:00:00",
          "2024-08-12T00:00:00",
          "2024-08-13T00:00:00",
          "2024-08-15T00:00:00",
          "2024-08-18T00:00:00",
          "2024-09-07T00:00:00",
          "2024-09-13T00:00:00",
          "2024-09-20T00:00:00",
          "2024-09-29T00:00:00",
          "2024-10-03T00:00:00",
          "2024-10-16T00:00:00",
          "2024-10-20T00:00:00",
          "2024-10-27T00:00:00",
          "2024-11-03T00:00:00",
          "2024-11-06T00:00:00",
          "2024-11-12T00:00:00",
          "2024-11-13T00:00:00",
          "2024-11-19T00:00:00",
          "2024-11-21T00:00:00",
          "2024-11-25T00:00:00",
          "2024-12-07T00:00:00",
          "2024-12-08T00:00:00",
          "2024-12-11T00:00:00",
          "2024-12-31T00:00:00"
         ],
         "xaxis": "x",
         "y": [
          8.87,
          7.16,
          7.48,
          7.96,
          8.01,
          9.12,
          7.19,
          7.75,
          6.52,
          7.68,
          7.83,
          7.82,
          9.61,
          7.68,
          5.66,
          5.29,
          7.500410260865077,
          7.2,
          6.65,
          9.39,
          9.18,
          9.59,
          7.67,
          7.52,
          7.32,
          7.84,
          7.44,
          8.06,
          6.89,
          9.62,
          7.28,
          4.57
         ],
         "yaxis": "y"
        },
        {
         "hovertemplate": "Metric=Yoga<br>Date=%{x}<br>Sleep Hours=%{y}<extra></extra>",
         "legendgroup": "Yoga",
         "line": {
          "color": "#FFA15A",
          "dash": "solid"
         },
         "marker": {
          "symbol": "circle"
         },
         "mode": "lines",
         "name": "Yoga",
         "orientation": "v",
         "showlegend": true,
         "type": "scatter",
         "x": [
          "2024-07-14T00:00:00",
          "2024-07-22T00:00:00",
          "2024-07-26T00:00:00",
          "2024-07-30T00:00:00",
          "2024-08-04T00:00:00",
          "2024-08-06T00:00:00",
          "2024-08-09T00:00:00",
          "2024-08-10T00:00:00",
          "2024-08-17T00:00:00",
          "2024-08-20T00:00:00",
          "2024-08-25T00:00:00",
          "2024-08-27T00:00:00",
          "2024-08-29T00:00:00",
          "2024-08-31T00:00:00",
          "2024-09-01T00:00:00",
          "2024-09-04T00:00:00",
          "2024-09-09T00:00:00",
          "2024-09-14T00:00:00",
          "2024-09-15T00:00:00",
          "2024-09-23T00:00:00",
          "2024-09-24T00:00:00",
          "2024-09-25T00:00:00",
          "2024-09-30T00:00:00",
          "2024-10-04T00:00:00",
          "2024-10-07T00:00:00",
          "2024-10-08T00:00:00",
          "2024-10-09T00:00:00",
          "2024-10-11T00:00:00",
          "2024-10-12T00:00:00",
          "2024-10-13T00:00:00",
          "2024-10-14T00:00:00",
          "2024-10-17T00:00:00",
          "2024-11-01T00:00:00",
          "2024-11-09T00:00:00",
          "2024-11-10T00:00:00",
          "2024-11-16T00:00:00",
          "2024-11-18T00:00:00",
          "2024-11-20T00:00:00",
          "2024-12-01T00:00:00",
          "2024-12-05T00:00:00",
          "2024-12-22T00:00:00",
          "2024-12-27T00:00:00"
         ],
         "xaxis": "x",
         "y": [
          8.86,
          6.938940412392855,
          5.95,
          7.96,
          9.39,
          6.825445720478996,
          6.01,
          6.66,
          6.88,
          7.25,
          8.85,
          7.42,
          7.07,
          7.23,
          8.64,
          7.33,
          7.84,
          7.570930855330989,
          8.1,
          7.88,
          8.54,
          7.91,
          7.95,
          6.38,
          8.3,
          7.4,
          6.63,
          5.8,
          7.33,
          8.49,
          7.1,
          7.73,
          6.3,
          8.52,
          8.83,
          8.075697146022302,
          8.27,
          8.61,
          9.02,
          8.41,
          8.64,
          9.45
         ],
         "yaxis": "y"
        }
       ],
       "layout": {
        "legend": {
         "title": {
          "text": "Metric"
         },
         "tracegroupgap": 0
        },
        "template": {
         "data": {
          "bar": [
           {
            "error_x": {
             "color": "#2a3f5f"
            },
            "error_y": {
             "color": "#2a3f5f"
            },
            "marker": {
             "line": {
              "color": "#E5ECF6",
              "width": 0.5
             },
             "pattern": {
              "fillmode": "overlay",
              "size": 10,
              "solidity": 0.2
             }
            },
            "type": "bar"
           }
          ],
          "barpolar": [
           {
            "marker": {
             "line": {
              "color": "#E5ECF6",
              "width": 0.5
             },
             "pattern": {
              "fillmode": "overlay",
              "size": 10,
              "solidity": 0.2
             }
            },
            "type": "barpolar"
           }
          ],
          "carpet": [
           {
            "aaxis": {
             "endlinecolor": "#2a3f5f",
             "gridcolor": "white",
             "linecolor": "white",
             "minorgridcolor": "white",
             "startlinecolor": "#2a3f5f"
            },
            "baxis": {
             "endlinecolor": "#2a3f5f",
             "gridcolor": "white",
             "linecolor": "white",
             "minorgridcolor": "white",
             "startlinecolor": "#2a3f5f"
            },
            "type": "carpet"
           }
          ],
          "choropleth": [
           {
            "colorbar": {
             "outlinewidth": 0,
             "ticks": ""
            },
            "type": "choropleth"
           }
          ],
          "contour": [
           {
            "colorbar": {
             "outlinewidth": 0,
             "ticks": ""
            },
            "colorscale": [
             [
              0,
              "#0d0887"
             ],
             [
              0.1111111111111111,
              "#46039f"
             ],
             [
              0.2222222222222222,
              "#7201a8"
             ],
             [
              0.3333333333333333,
              "#9c179e"
             ],
             [
              0.4444444444444444,
              "#bd3786"
             ],
             [
              0.5555555555555556,
              "#d8576b"
             ],
             [
              0.6666666666666666,
              "#ed7953"
             ],
             [
              0.7777777777777778,
              "#fb9f3a"
             ],
             [
              0.8888888888888888,
              "#fdca26"
             ],
             [
              1,
              "#f0f921"
             ]
            ],
            "type": "contour"
           }
          ],
          "contourcarpet": [
           {
            "colorbar": {
             "outlinewidth": 0,
             "ticks": ""
            },
            "type": "contourcarpet"
           }
          ],
          "heatmap": [
           {
            "colorbar": {
             "outlinewidth": 0,
             "ticks": ""
            },
            "colorscale": [
             [
              0,
              "#0d0887"
             ],
             [
              0.1111111111111111,
              "#46039f"
             ],
             [
              0.2222222222222222,
              "#7201a8"
             ],
             [
              0.3333333333333333,
              "#9c179e"
             ],
             [
              0.4444444444444444,
              "#bd3786"
             ],
             [
              0.5555555555555556,
              "#d8576b"
             ],
             [
              0.6666666666666666,
              "#ed7953"
             ],
             [
              0.7777777777777778,
              "#fb9f3a"
             ],
             [
              0.8888888888888888,
              "#fdca26"
             ],
             [
              1,
              "#f0f921"
             ]
            ],
            "type": "heatmap"
           }
          ],
          "heatmapgl": [
           {
            "colorbar": {
             "outlinewidth": 0,
             "ticks": ""
            },
            "colorscale": [
             [
              0,
              "#0d0887"
             ],
             [
              0.1111111111111111,
              "#46039f"
             ],
             [
              0.2222222222222222,
              "#7201a8"
             ],
             [
              0.3333333333333333,
              "#9c179e"
             ],
             [
              0.4444444444444444,
              "#bd3786"
             ],
             [
              0.5555555555555556,
              "#d8576b"
             ],
             [
              0.6666666666666666,
              "#ed7953"
             ],
             [
              0.7777777777777778,
              "#fb9f3a"
             ],
             [
              0.8888888888888888,
              "#fdca26"
             ],
             [
              1,
              "#f0f921"
             ]
            ],
            "type": "heatmapgl"
           }
          ],
          "histogram": [
           {
            "marker": {
             "pattern": {
              "fillmode": "overlay",
              "size": 10,
              "solidity": 0.2
             }
            },
            "type": "histogram"
           }
          ],
          "histogram2d": [
           {
            "colorbar": {
             "outlinewidth": 0,
             "ticks": ""
            },
            "colorscale": [
             [
              0,
              "#0d0887"
             ],
             [
              0.1111111111111111,
              "#46039f"
             ],
             [
              0.2222222222222222,
              "#7201a8"
             ],
             [
              0.3333333333333333,
              "#9c179e"
             ],
             [
              0.4444444444444444,
              "#bd3786"
             ],
             [
              0.5555555555555556,
              "#d8576b"
             ],
             [
              0.6666666666666666,
              "#ed7953"
             ],
             [
              0.7777777777777778,
              "#fb9f3a"
             ],
             [
              0.8888888888888888,
              "#fdca26"
             ],
             [
              1,
              "#f0f921"
             ]
            ],
            "type": "histogram2d"
           }
          ],
          "histogram2dcontour": [
           {
            "colorbar": {
             "outlinewidth": 0,
             "ticks": ""
            },
            "colorscale": [
             [
              0,
              "#0d0887"
             ],
             [
              0.1111111111111111,
              "#46039f"
             ],
             [
              0.2222222222222222,
              "#7201a8"
             ],
             [
              0.3333333333333333,
              "#9c179e"
             ],
             [
              0.4444444444444444,
              "#bd3786"
             ],
             [
              0.5555555555555556,
              "#d8576b"
             ],
             [
              0.6666666666666666,
              "#ed7953"
             ],
             [
              0.7777777777777778,
              "#fb9f3a"
             ],
             [
              0.8888888888888888,
              "#fdca26"
             ],
             [
              1,
              "#f0f921"
             ]
            ],
            "type": "histogram2dcontour"
           }
          ],
          "mesh3d": [
           {
            "colorbar": {
             "outlinewidth": 0,
             "ticks": ""
            },
            "type": "mesh3d"
           }
          ],
          "parcoords": [
           {
            "line": {
             "colorbar": {
              "outlinewidth": 0,
              "ticks": ""
             }
            },
            "type": "parcoords"
           }
          ],
          "pie": [
           {
            "automargin": true,
            "type": "pie"
           }
          ],
          "scatter": [
           {
            "fillpattern": {
             "fillmode": "overlay",
             "size": 10,
             "solidity": 0.2
            },
            "type": "scatter"
           }
          ],
          "scatter3d": [
           {
            "line": {
             "colorbar": {
              "outlinewidth": 0,
              "ticks": ""
             }
            },
            "marker": {
             "colorbar": {
              "outlinewidth": 0,
              "ticks": ""
             }
            },
            "type": "scatter3d"
           }
          ],
          "scattercarpet": [
           {
            "marker": {
             "colorbar": {
              "outlinewidth": 0,
              "ticks": ""
             }
            },
            "type": "scattercarpet"
           }
          ],
          "scattergeo": [
           {
            "marker": {
             "colorbar": {
              "outlinewidth": 0,
              "ticks": ""
             }
            },
            "type": "scattergeo"
           }
          ],
          "scattergl": [
           {
            "marker": {
             "colorbar": {
              "outlinewidth": 0,
              "ticks": ""
             }
            },
            "type": "scattergl"
           }
          ],
          "scattermapbox": [
           {
            "marker": {
             "colorbar": {
              "outlinewidth": 0,
              "ticks": ""
             }
            },
            "type": "scattermapbox"
           }
          ],
          "scatterpolar": [
           {
            "marker": {
             "colorbar": {
              "outlinewidth": 0,
              "ticks": ""
             }
            },
            "type": "scatterpolar"
           }
          ],
          "scatterpolargl": [
           {
            "marker": {
             "colorbar": {
              "outlinewidth": 0,
              "ticks": ""
             }
            },
            "type": "scatterpolargl"
           }
          ],
          "scatterternary": [
           {
            "marker": {
             "colorbar": {
              "outlinewidth": 0,
              "ticks": ""
             }
            },
            "type": "scatterternary"
           }
          ],
          "surface": [
           {
            "colorbar": {
             "outlinewidth": 0,
             "ticks": ""
            },
            "colorscale": [
             [
              0,
              "#0d0887"
             ],
             [
              0.1111111111111111,
              "#46039f"
             ],
             [
              0.2222222222222222,
              "#7201a8"
             ],
             [
              0.3333333333333333,
              "#9c179e"
             ],
             [
              0.4444444444444444,
              "#bd3786"
             ],
             [
              0.5555555555555556,
              "#d8576b"
             ],
             [
              0.6666666666666666,
              "#ed7953"
             ],
             [
              0.7777777777777778,
              "#fb9f3a"
             ],
             [
              0.8888888888888888,
              "#fdca26"
             ],
             [
              1,
              "#f0f921"
             ]
            ],
            "type": "surface"
           }
          ],
          "table": [
           {
            "cells": {
             "fill": {
              "color": "#EBF0F8"
             },
             "line": {
              "color": "white"
             }
            },
            "header": {
             "fill": {
              "color": "#C8D4E3"
             },
             "line": {
              "color": "white"
             }
            },
            "type": "table"
           }
          ]
         },
         "layout": {
          "annotationdefaults": {
           "arrowcolor": "#2a3f5f",
           "arrowhead": 0,
           "arrowwidth": 1
          },
          "autotypenumbers": "strict",
          "coloraxis": {
           "colorbar": {
            "outlinewidth": 0,
            "ticks": ""
           }
          },
          "colorscale": {
           "diverging": [
            [
             0,
             "#8e0152"
            ],
            [
             0.1,
             "#c51b7d"
            ],
            [
             0.2,
             "#de77ae"
            ],
            [
             0.3,
             "#f1b6da"
            ],
            [
             0.4,
             "#fde0ef"
            ],
            [
             0.5,
             "#f7f7f7"
            ],
            [
             0.6,
             "#e6f5d0"
            ],
            [
             0.7,
             "#b8e186"
            ],
            [
             0.8,
             "#7fbc41"
            ],
            [
             0.9,
             "#4d9221"
            ],
            [
             1,
             "#276419"
            ]
           ],
           "sequential": [
            [
             0,
             "#0d0887"
            ],
            [
             0.1111111111111111,
             "#46039f"
            ],
            [
             0.2222222222222222,
             "#7201a8"
            ],
            [
             0.3333333333333333,
             "#9c179e"
            ],
            [
             0.4444444444444444,
             "#bd3786"
            ],
            [
             0.5555555555555556,
             "#d8576b"
            ],
            [
             0.6666666666666666,
             "#ed7953"
            ],
            [
             0.7777777777777778,
             "#fb9f3a"
            ],
            [
             0.8888888888888888,
             "#fdca26"
            ],
            [
             1,
             "#f0f921"
            ]
           ],
           "sequentialminus": [
            [
             0,
             "#0d0887"
            ],
            [
             0.1111111111111111,
             "#46039f"
            ],
            [
             0.2222222222222222,
             "#7201a8"
            ],
            [
             0.3333333333333333,
             "#9c179e"
            ],
            [
             0.4444444444444444,
             "#bd3786"
            ],
            [
             0.5555555555555556,
             "#d8576b"
            ],
            [
             0.6666666666666666,
             "#ed7953"
            ],
            [
             0.7777777777777778,
             "#fb9f3a"
            ],
            [
             0.8888888888888888,
             "#fdca26"
            ],
            [
             1,
             "#f0f921"
            ]
           ]
          },
          "colorway": [
           "#636efa",
           "#EF553B",
           "#00cc96",
           "#ab63fa",
           "#FFA15A",
           "#19d3f3",
           "#FF6692",
           "#B6E880",
           "#FF97FF",
           "#FECB52"
          ],
          "font": {
           "color": "#2a3f5f"
          },
          "geo": {
           "bgcolor": "white",
           "lakecolor": "white",
           "landcolor": "#E5ECF6",
           "showlakes": true,
           "showland": true,
           "subunitcolor": "white"
          },
          "hoverlabel": {
           "align": "left"
          },
          "hovermode": "closest",
          "mapbox": {
           "style": "light"
          },
          "paper_bgcolor": "white",
          "plot_bgcolor": "#E5ECF6",
          "polar": {
           "angularaxis": {
            "gridcolor": "white",
            "linecolor": "white",
            "ticks": ""
           },
           "bgcolor": "#E5ECF6",
           "radialaxis": {
            "gridcolor": "white",
            "linecolor": "white",
            "ticks": ""
           }
          },
          "scene": {
           "xaxis": {
            "backgroundcolor": "#E5ECF6",
            "gridcolor": "white",
            "gridwidth": 2,
            "linecolor": "white",
            "showbackground": true,
            "ticks": "",
            "zerolinecolor": "white"
           },
           "yaxis": {
            "backgroundcolor": "#E5ECF6",
            "gridcolor": "white",
            "gridwidth": 2,
            "linecolor": "white",
            "showbackground": true,
            "ticks": "",
            "zerolinecolor": "white"
           },
           "zaxis": {
            "backgroundcolor": "#E5ECF6",
            "gridcolor": "white",
            "gridwidth": 2,
            "linecolor": "white",
            "showbackground": true,
            "ticks": "",
            "zerolinecolor": "white"
           }
          },
          "shapedefaults": {
           "line": {
            "color": "#2a3f5f"
           }
          },
          "ternary": {
           "aaxis": {
            "gridcolor": "white",
            "linecolor": "white",
            "ticks": ""
           },
           "baxis": {
            "gridcolor": "white",
            "linecolor": "white",
            "ticks": ""
           },
           "bgcolor": "#E5ECF6",
           "caxis": {
            "gridcolor": "white",
            "linecolor": "white",
            "ticks": ""
           }
          },
          "title": {
           "x": 0.05
          },
          "xaxis": {
           "automargin": true,
           "gridcolor": "white",
           "linecolor": "white",
           "ticks": "",
           "title": {
            "standoff": 15
           },
           "zerolinecolor": "white",
           "zerolinewidth": 2
          },
          "yaxis": {
           "automargin": true,
           "gridcolor": "white",
           "linecolor": "white",
           "ticks": "",
           "title": {
            "standoff": 15
           },
           "zerolinecolor": "white",
           "zerolinewidth": 2
          }
         }
        },
        "title": {
         "text": "Trends Across Workout Types"
        },
        "xaxis": {
         "anchor": "y",
         "domain": [
          0,
          1
         ],
         "title": {
          "text": "Date"
         }
        },
        "yaxis": {
         "anchor": "x",
         "domain": [
          0,
          1
         ],
         "title": {
          "text": "Sleep Hours"
         }
        }
       }
      },
      "text/html": [
       "<div>                            <div id=\"f4aca768-b89a-4f22-bf02-910bbfc9b483\" class=\"plotly-graph-div\" style=\"height:525px; width:100%;\"></div>            <script type=\"text/javascript\">                require([\"plotly\"], function(Plotly) {                    window.PLOTLYENV=window.PLOTLYENV || {};                                    if (document.getElementById(\"f4aca768-b89a-4f22-bf02-910bbfc9b483\")) {                    Plotly.newPlot(                        \"f4aca768-b89a-4f22-bf02-910bbfc9b483\",                        [{\"hovertemplate\":\"Metric=Strength Training\\u003cbr\\u003eDate=%{x}\\u003cbr\\u003eSleep Hours=%{y}\\u003cextra\\u003e\\u003c\\u002fextra\\u003e\",\"legendgroup\":\"Strength Training\",\"line\":{\"color\":\"#636efa\",\"dash\":\"solid\"},\"marker\":{\"symbol\":\"circle\"},\"mode\":\"lines\",\"name\":\"Strength Training\",\"orientation\":\"v\",\"showlegend\":true,\"x\":[\"2024-07-01T00:00:00\",\"2024-07-03T00:00:00\",\"2024-07-05T00:00:00\",\"2024-07-11T00:00:00\",\"2024-07-12T00:00:00\",\"2024-07-15T00:00:00\",\"2024-07-16T00:00:00\",\"2024-07-17T00:00:00\",\"2024-07-18T00:00:00\",\"2024-07-24T00:00:00\",\"2024-07-27T00:00:00\",\"2024-08-05T00:00:00\",\"2024-08-11T00:00:00\",\"2024-08-16T00:00:00\",\"2024-08-26T00:00:00\",\"2024-09-03T00:00:00\",\"2024-09-11T00:00:00\",\"2024-09-12T00:00:00\",\"2024-09-18T00:00:00\",\"2024-09-27T00:00:00\",\"2024-09-28T00:00:00\",\"2024-10-01T00:00:00\",\"2024-10-19T00:00:00\",\"2024-10-21T00:00:00\",\"2024-10-24T00:00:00\",\"2024-10-26T00:00:00\",\"2024-11-02T00:00:00\",\"2024-11-07T00:00:00\",\"2024-11-08T00:00:00\",\"2024-11-15T00:00:00\",\"2024-11-17T00:00:00\",\"2024-11-26T00:00:00\",\"2024-11-27T00:00:00\",\"2024-12-03T00:00:00\",\"2024-12-04T00:00:00\",\"2024-12-10T00:00:00\",\"2024-12-12T00:00:00\",\"2024-12-16T00:00:00\",\"2024-12-21T00:00:00\",\"2024-12-23T00:00:00\",\"2024-12-28T00:00:00\"],\"xaxis\":\"x\",\"y\":[7.03,7.53,5.38,7.894519307994196,6.22,8.47,8.89,7.57,7.52,8.05,7.91,8.12,8.98,5.45,7.78,6.44,7.74,7.615607801327909,7.91,6.31,6.91,7.18,8.18,7.96,8.004399257791045,6.96,7.94,7.39,8.297202001223887,5.45,9.29,7.14,8.313071485130733,7.88,8.04,7.37,7.43,6.95,7.4,8.49,9.78],\"yaxis\":\"y\",\"type\":\"scatter\"},{\"hovertemplate\":\"Metric=Rest\\u003cbr\\u003eDate=%{x}\\u003cbr\\u003eSleep Hours=%{y}\\u003cextra\\u003e\\u003c\\u002fextra\\u003e\",\"legendgroup\":\"Rest\",\"line\":{\"color\":\"#EF553B\",\"dash\":\"solid\"},\"marker\":{\"symbol\":\"circle\"},\"mode\":\"lines\",\"name\":\"Rest\",\"orientation\":\"v\",\"showlegend\":true,\"x\":[\"2024-07-02T00:00:00\",\"2024-08-07T00:00:00\",\"2024-08-23T00:00:00\",\"2024-08-24T00:00:00\",\"2024-09-02T00:00:00\",\"2024-09-21T00:00:00\",\"2024-10-02T00:00:00\",\"2024-10-18T00:00:00\",\"2024-10-28T00:00:00\",\"2024-11-24T00:00:00\",\"2024-12-17T00:00:00\",\"2024-12-30T00:00:00\",\"2025-01-01T00:00:00\"],\"xaxis\":\"x\",\"y\":[7.85,7.82,6.7428012018323065,6.53,7.66,7.59,7.72,5.26,7.79,8.350693529672629,7.41,8.02,3.17],\"yaxis\":\"y\",\"type\":\"scatter\"},{\"hovertemplate\":\"Metric=Running\\u003cbr\\u003eDate=%{x}\\u003cbr\\u003eSleep Hours=%{y}\\u003cextra\\u003e\\u003c\\u002fextra\\u003e\",\"legendgroup\":\"Running\",\"line\":{\"color\":\"#00cc96\",\"dash\":\"solid\"},\"marker\":{\"symbol\":\"circle\"},\"mode\":\"lines\",\"name\":\"Running\",\"orientation\":\"v\",\"showlegend\":true,\"x\":[\"2024-07-04T00:00:00\",\"2024-07-06T00:00:00\",\"2024-07-07T00:00:00\",\"2024-07-08T00:00:00\",\"2024-07-09T00:00:00\",\"2024-07-19T00:00:00\",\"2024-07-21T00:00:00\",\"2024-07-29T00:00:00\",\"2024-08-01T00:00:00\",\"2024-08-02T00:00:00\",\"2024-08-14T00:00:00\",\"2024-08-19T00:00:00\",\"2024-08-21T00:00:00\",\"2024-08-22T00:00:00\",\"2024-08-28T00:00:00\",\"2024-08-30T00:00:00\",\"2024-09-05T00:00:00\",\"2024-09-06T00:00:00\",\"2024-09-08T00:00:00\",\"2024-09-10T00:00:00\",\"2024-09-16T00:00:00\",\"2024-09-17T00:00:00\",\"2024-09-19T00:00:00\",\"2024-09-22T00:00:00\",\"2024-09-26T00:00:00\",\"2024-10-05T00:00:00\",\"2024-10-06T00:00:00\",\"2024-10-10T00:00:00\",\"2024-10-15T00:00:00\",\"2024-10-22T00:00:00\",\"2024-10-23T00:00:00\",\"2024-10-25T00:00:00\",\"2024-10-29T00:00:00\",\"2024-10-30T00:00:00\",\"2024-10-31T00:00:00\",\"2024-11-04T00:00:00\",\"2024-11-05T00:00:00\",\"2024-11-11T00:00:00\",\"2024-11-14T00:00:00\",\"2024-11-22T00:00:00\",\"2024-11-23T00:00:00\",\"2024-12-02T00:00:00\",\"2024-12-06T00:00:00\",\"2024-12-09T00:00:00\",\"2024-12-13T00:00:00\",\"2024-12-14T00:00:00\",\"2024-12-15T00:00:00\",\"2024-12-18T00:00:00\",\"2024-12-19T00:00:00\",\"2024-12-20T00:00:00\",\"2024-12-29T00:00:00\"],\"xaxis\":\"x\",\"y\":[4.63,8.04,9.44,6.59,8.02,6.04,8.05,7.47,7.96,6.4885786973208734,7.58,6.9,8.58,7.27,8.48,6.24,7.7,5.04,8.09,8.291172463,7.9,7.15,7.11,8.66,7.86,7.51,8.74,7.38,7.927719044719902,7.2,7.131062631933324,5.81,7.15,7.88,6.7,7.78,7.45,7.29,6.8,5.88,7.97,7.31,6.42,8.4,5.5,7.32,8.74,7.142324777835534,6.82,5.4,6.55],\"yaxis\":\"y\",\"type\":\"scatter\"},{\"hovertemplate\":\"Metric=HIIT\\u003cbr\\u003eDate=%{x}\\u003cbr\\u003eSleep Hours=%{y}\\u003cextra\\u003e\\u003c\\u002fextra\\u003e\",\"legendgroup\":\"HIIT\",\"line\":{\"color\":\"#ab63fa\",\"dash\":\"solid\"},\"marker\":{\"symbol\":\"circle\"},\"mode\":\"lines\",\"name\":\"HIIT\",\"orientation\":\"v\",\"showlegend\":true,\"x\":[\"2024-07-10T00:00:00\",\"2024-07-13T00:00:00\",\"2024-07-20T00:00:00\",\"2024-07-23T00:00:00\",\"2024-07-25T00:00:00\",\"2024-07-28T00:00:00\",\"2024-07-31T00:00:00\",\"2024-08-03T00:00:00\",\"2024-08-08T00:00:00\",\"2024-08-12T00:00:00\",\"2024-08-13T00:00:00\",\"2024-08-15T00:00:00\",\"2024-08-18T00:00:00\",\"2024-09-07T00:00:00\",\"2024-09-13T00:00:00\",\"2024-09-20T00:00:00\",\"2024-09-29T00:00:00\",\"2024-10-03T00:00:00\",\"2024-10-16T00:00:00\",\"2024-10-20T00:00:00\",\"2024-10-27T00:00:00\",\"2024-11-03T00:00:00\",\"2024-11-06T00:00:00\",\"2024-11-12T00:00:00\",\"2024-11-13T00:00:00\",\"2024-11-19T00:00:00\",\"2024-11-21T00:00:00\",\"2024-11-25T00:00:00\",\"2024-12-07T00:00:00\",\"2024-12-08T00:00:00\",\"2024-12-11T00:00:00\",\"2024-12-31T00:00:00\"],\"xaxis\":\"x\",\"y\":[8.87,7.16,7.48,7.96,8.01,9.12,7.19,7.75,6.52,7.68,7.83,7.82,9.61,7.68,5.66,5.29,7.500410260865077,7.2,6.65,9.39,9.18,9.59,7.67,7.52,7.32,7.84,7.44,8.06,6.89,9.62,7.28,4.57],\"yaxis\":\"y\",\"type\":\"scatter\"},{\"hovertemplate\":\"Metric=Yoga\\u003cbr\\u003eDate=%{x}\\u003cbr\\u003eSleep Hours=%{y}\\u003cextra\\u003e\\u003c\\u002fextra\\u003e\",\"legendgroup\":\"Yoga\",\"line\":{\"color\":\"#FFA15A\",\"dash\":\"solid\"},\"marker\":{\"symbol\":\"circle\"},\"mode\":\"lines\",\"name\":\"Yoga\",\"orientation\":\"v\",\"showlegend\":true,\"x\":[\"2024-07-14T00:00:00\",\"2024-07-22T00:00:00\",\"2024-07-26T00:00:00\",\"2024-07-30T00:00:00\",\"2024-08-04T00:00:00\",\"2024-08-06T00:00:00\",\"2024-08-09T00:00:00\",\"2024-08-10T00:00:00\",\"2024-08-17T00:00:00\",\"2024-08-20T00:00:00\",\"2024-08-25T00:00:00\",\"2024-08-27T00:00:00\",\"2024-08-29T00:00:00\",\"2024-08-31T00:00:00\",\"2024-09-01T00:00:00\",\"2024-09-04T00:00:00\",\"2024-09-09T00:00:00\",\"2024-09-14T00:00:00\",\"2024-09-15T00:00:00\",\"2024-09-23T00:00:00\",\"2024-09-24T00:00:00\",\"2024-09-25T00:00:00\",\"2024-09-30T00:00:00\",\"2024-10-04T00:00:00\",\"2024-10-07T00:00:00\",\"2024-10-08T00:00:00\",\"2024-10-09T00:00:00\",\"2024-10-11T00:00:00\",\"2024-10-12T00:00:00\",\"2024-10-13T00:00:00\",\"2024-10-14T00:00:00\",\"2024-10-17T00:00:00\",\"2024-11-01T00:00:00\",\"2024-11-09T00:00:00\",\"2024-11-10T00:00:00\",\"2024-11-16T00:00:00\",\"2024-11-18T00:00:00\",\"2024-11-20T00:00:00\",\"2024-12-01T00:00:00\",\"2024-12-05T00:00:00\",\"2024-12-22T00:00:00\",\"2024-12-27T00:00:00\"],\"xaxis\":\"x\",\"y\":[8.86,6.938940412392855,5.95,7.96,9.39,6.825445720478996,6.01,6.66,6.88,7.25,8.85,7.42,7.07,7.23,8.64,7.33,7.84,7.570930855330989,8.1,7.88,8.54,7.91,7.95,6.38,8.3,7.4,6.63,5.8,7.33,8.49,7.1,7.73,6.3,8.52,8.83,8.075697146022302,8.27,8.61,9.02,8.41,8.64,9.45],\"yaxis\":\"y\",\"type\":\"scatter\"}],                        {\"template\":{\"data\":{\"histogram2dcontour\":[{\"type\":\"histogram2dcontour\",\"colorbar\":{\"outlinewidth\":0,\"ticks\":\"\"},\"colorscale\":[[0.0,\"#0d0887\"],[0.1111111111111111,\"#46039f\"],[0.2222222222222222,\"#7201a8\"],[0.3333333333333333,\"#9c179e\"],[0.4444444444444444,\"#bd3786\"],[0.5555555555555556,\"#d8576b\"],[0.6666666666666666,\"#ed7953\"],[0.7777777777777778,\"#fb9f3a\"],[0.8888888888888888,\"#fdca26\"],[1.0,\"#f0f921\"]]}],\"choropleth\":[{\"type\":\"choropleth\",\"colorbar\":{\"outlinewidth\":0,\"ticks\":\"\"}}],\"histogram2d\":[{\"type\":\"histogram2d\",\"colorbar\":{\"outlinewidth\":0,\"ticks\":\"\"},\"colorscale\":[[0.0,\"#0d0887\"],[0.1111111111111111,\"#46039f\"],[0.2222222222222222,\"#7201a8\"],[0.3333333333333333,\"#9c179e\"],[0.4444444444444444,\"#bd3786\"],[0.5555555555555556,\"#d8576b\"],[0.6666666666666666,\"#ed7953\"],[0.7777777777777778,\"#fb9f3a\"],[0.8888888888888888,\"#fdca26\"],[1.0,\"#f0f921\"]]}],\"heatmap\":[{\"type\":\"heatmap\",\"colorbar\":{\"outlinewidth\":0,\"ticks\":\"\"},\"colorscale\":[[0.0,\"#0d0887\"],[0.1111111111111111,\"#46039f\"],[0.2222222222222222,\"#7201a8\"],[0.3333333333333333,\"#9c179e\"],[0.4444444444444444,\"#bd3786\"],[0.5555555555555556,\"#d8576b\"],[0.6666666666666666,\"#ed7953\"],[0.7777777777777778,\"#fb9f3a\"],[0.8888888888888888,\"#fdca26\"],[1.0,\"#f0f921\"]]}],\"heatmapgl\":[{\"type\":\"heatmapgl\",\"colorbar\":{\"outlinewidth\":0,\"ticks\":\"\"},\"colorscale\":[[0.0,\"#0d0887\"],[0.1111111111111111,\"#46039f\"],[0.2222222222222222,\"#7201a8\"],[0.3333333333333333,\"#9c179e\"],[0.4444444444444444,\"#bd3786\"],[0.5555555555555556,\"#d8576b\"],[0.6666666666666666,\"#ed7953\"],[0.7777777777777778,\"#fb9f3a\"],[0.8888888888888888,\"#fdca26\"],[1.0,\"#f0f921\"]]}],\"contourcarpet\":[{\"type\":\"contourcarpet\",\"colorbar\":{\"outlinewidth\":0,\"ticks\":\"\"}}],\"contour\":[{\"type\":\"contour\",\"colorbar\":{\"outlinewidth\":0,\"ticks\":\"\"},\"colorscale\":[[0.0,\"#0d0887\"],[0.1111111111111111,\"#46039f\"],[0.2222222222222222,\"#7201a8\"],[0.3333333333333333,\"#9c179e\"],[0.4444444444444444,\"#bd3786\"],[0.5555555555555556,\"#d8576b\"],[0.6666666666666666,\"#ed7953\"],[0.7777777777777778,\"#fb9f3a\"],[0.8888888888888888,\"#fdca26\"],[1.0,\"#f0f921\"]]}],\"surface\":[{\"type\":\"surface\",\"colorbar\":{\"outlinewidth\":0,\"ticks\":\"\"},\"colorscale\":[[0.0,\"#0d0887\"],[0.1111111111111111,\"#46039f\"],[0.2222222222222222,\"#7201a8\"],[0.3333333333333333,\"#9c179e\"],[0.4444444444444444,\"#bd3786\"],[0.5555555555555556,\"#d8576b\"],[0.6666666666666666,\"#ed7953\"],[0.7777777777777778,\"#fb9f3a\"],[0.8888888888888888,\"#fdca26\"],[1.0,\"#f0f921\"]]}],\"mesh3d\":[{\"type\":\"mesh3d\",\"colorbar\":{\"outlinewidth\":0,\"ticks\":\"\"}}],\"scatter\":[{\"fillpattern\":{\"fillmode\":\"overlay\",\"size\":10,\"solidity\":0.2},\"type\":\"scatter\"}],\"parcoords\":[{\"type\":\"parcoords\",\"line\":{\"colorbar\":{\"outlinewidth\":0,\"ticks\":\"\"}}}],\"scatterpolargl\":[{\"type\":\"scatterpolargl\",\"marker\":{\"colorbar\":{\"outlinewidth\":0,\"ticks\":\"\"}}}],\"bar\":[{\"error_x\":{\"color\":\"#2a3f5f\"},\"error_y\":{\"color\":\"#2a3f5f\"},\"marker\":{\"line\":{\"color\":\"#E5ECF6\",\"width\":0.5},\"pattern\":{\"fillmode\":\"overlay\",\"size\":10,\"solidity\":0.2}},\"type\":\"bar\"}],\"scattergeo\":[{\"type\":\"scattergeo\",\"marker\":{\"colorbar\":{\"outlinewidth\":0,\"ticks\":\"\"}}}],\"scatterpolar\":[{\"type\":\"scatterpolar\",\"marker\":{\"colorbar\":{\"outlinewidth\":0,\"ticks\":\"\"}}}],\"histogram\":[{\"marker\":{\"pattern\":{\"fillmode\":\"overlay\",\"size\":10,\"solidity\":0.2}},\"type\":\"histogram\"}],\"scattergl\":[{\"type\":\"scattergl\",\"marker\":{\"colorbar\":{\"outlinewidth\":0,\"ticks\":\"\"}}}],\"scatter3d\":[{\"type\":\"scatter3d\",\"line\":{\"colorbar\":{\"outlinewidth\":0,\"ticks\":\"\"}},\"marker\":{\"colorbar\":{\"outlinewidth\":0,\"ticks\":\"\"}}}],\"scattermapbox\":[{\"type\":\"scattermapbox\",\"marker\":{\"colorbar\":{\"outlinewidth\":0,\"ticks\":\"\"}}}],\"scatterternary\":[{\"type\":\"scatterternary\",\"marker\":{\"colorbar\":{\"outlinewidth\":0,\"ticks\":\"\"}}}],\"scattercarpet\":[{\"type\":\"scattercarpet\",\"marker\":{\"colorbar\":{\"outlinewidth\":0,\"ticks\":\"\"}}}],\"carpet\":[{\"aaxis\":{\"endlinecolor\":\"#2a3f5f\",\"gridcolor\":\"white\",\"linecolor\":\"white\",\"minorgridcolor\":\"white\",\"startlinecolor\":\"#2a3f5f\"},\"baxis\":{\"endlinecolor\":\"#2a3f5f\",\"gridcolor\":\"white\",\"linecolor\":\"white\",\"minorgridcolor\":\"white\",\"startlinecolor\":\"#2a3f5f\"},\"type\":\"carpet\"}],\"table\":[{\"cells\":{\"fill\":{\"color\":\"#EBF0F8\"},\"line\":{\"color\":\"white\"}},\"header\":{\"fill\":{\"color\":\"#C8D4E3\"},\"line\":{\"color\":\"white\"}},\"type\":\"table\"}],\"barpolar\":[{\"marker\":{\"line\":{\"color\":\"#E5ECF6\",\"width\":0.5},\"pattern\":{\"fillmode\":\"overlay\",\"size\":10,\"solidity\":0.2}},\"type\":\"barpolar\"}],\"pie\":[{\"automargin\":true,\"type\":\"pie\"}]},\"layout\":{\"autotypenumbers\":\"strict\",\"colorway\":[\"#636efa\",\"#EF553B\",\"#00cc96\",\"#ab63fa\",\"#FFA15A\",\"#19d3f3\",\"#FF6692\",\"#B6E880\",\"#FF97FF\",\"#FECB52\"],\"font\":{\"color\":\"#2a3f5f\"},\"hovermode\":\"closest\",\"hoverlabel\":{\"align\":\"left\"},\"paper_bgcolor\":\"white\",\"plot_bgcolor\":\"#E5ECF6\",\"polar\":{\"bgcolor\":\"#E5ECF6\",\"angularaxis\":{\"gridcolor\":\"white\",\"linecolor\":\"white\",\"ticks\":\"\"},\"radialaxis\":{\"gridcolor\":\"white\",\"linecolor\":\"white\",\"ticks\":\"\"}},\"ternary\":{\"bgcolor\":\"#E5ECF6\",\"aaxis\":{\"gridcolor\":\"white\",\"linecolor\":\"white\",\"ticks\":\"\"},\"baxis\":{\"gridcolor\":\"white\",\"linecolor\":\"white\",\"ticks\":\"\"},\"caxis\":{\"gridcolor\":\"white\",\"linecolor\":\"white\",\"ticks\":\"\"}},\"coloraxis\":{\"colorbar\":{\"outlinewidth\":0,\"ticks\":\"\"}},\"colorscale\":{\"sequential\":[[0.0,\"#0d0887\"],[0.1111111111111111,\"#46039f\"],[0.2222222222222222,\"#7201a8\"],[0.3333333333333333,\"#9c179e\"],[0.4444444444444444,\"#bd3786\"],[0.5555555555555556,\"#d8576b\"],[0.6666666666666666,\"#ed7953\"],[0.7777777777777778,\"#fb9f3a\"],[0.8888888888888888,\"#fdca26\"],[1.0,\"#f0f921\"]],\"sequentialminus\":[[0.0,\"#0d0887\"],[0.1111111111111111,\"#46039f\"],[0.2222222222222222,\"#7201a8\"],[0.3333333333333333,\"#9c179e\"],[0.4444444444444444,\"#bd3786\"],[0.5555555555555556,\"#d8576b\"],[0.6666666666666666,\"#ed7953\"],[0.7777777777777778,\"#fb9f3a\"],[0.8888888888888888,\"#fdca26\"],[1.0,\"#f0f921\"]],\"diverging\":[[0,\"#8e0152\"],[0.1,\"#c51b7d\"],[0.2,\"#de77ae\"],[0.3,\"#f1b6da\"],[0.4,\"#fde0ef\"],[0.5,\"#f7f7f7\"],[0.6,\"#e6f5d0\"],[0.7,\"#b8e186\"],[0.8,\"#7fbc41\"],[0.9,\"#4d9221\"],[1,\"#276419\"]]},\"xaxis\":{\"gridcolor\":\"white\",\"linecolor\":\"white\",\"ticks\":\"\",\"title\":{\"standoff\":15},\"zerolinecolor\":\"white\",\"automargin\":true,\"zerolinewidth\":2},\"yaxis\":{\"gridcolor\":\"white\",\"linecolor\":\"white\",\"ticks\":\"\",\"title\":{\"standoff\":15},\"zerolinecolor\":\"white\",\"automargin\":true,\"zerolinewidth\":2},\"scene\":{\"xaxis\":{\"backgroundcolor\":\"#E5ECF6\",\"gridcolor\":\"white\",\"linecolor\":\"white\",\"showbackground\":true,\"ticks\":\"\",\"zerolinecolor\":\"white\",\"gridwidth\":2},\"yaxis\":{\"backgroundcolor\":\"#E5ECF6\",\"gridcolor\":\"white\",\"linecolor\":\"white\",\"showbackground\":true,\"ticks\":\"\",\"zerolinecolor\":\"white\",\"gridwidth\":2},\"zaxis\":{\"backgroundcolor\":\"#E5ECF6\",\"gridcolor\":\"white\",\"linecolor\":\"white\",\"showbackground\":true,\"ticks\":\"\",\"zerolinecolor\":\"white\",\"gridwidth\":2}},\"shapedefaults\":{\"line\":{\"color\":\"#2a3f5f\"}},\"annotationdefaults\":{\"arrowcolor\":\"#2a3f5f\",\"arrowhead\":0,\"arrowwidth\":1},\"geo\":{\"bgcolor\":\"white\",\"landcolor\":\"#E5ECF6\",\"subunitcolor\":\"white\",\"showland\":true,\"showlakes\":true,\"lakecolor\":\"white\"},\"title\":{\"x\":0.05},\"mapbox\":{\"style\":\"light\"}}},\"xaxis\":{\"anchor\":\"y\",\"domain\":[0.0,1.0],\"title\":{\"text\":\"Date\"}},\"yaxis\":{\"anchor\":\"x\",\"domain\":[0.0,1.0],\"title\":{\"text\":\"Sleep Hours\"}},\"legend\":{\"title\":{\"text\":\"Metric\"},\"tracegroupgap\":0},\"title\":{\"text\":\"Trends Across Workout Types\"}},                        {\"responsive\": true}                    ).then(function(){\n",
       "                            \n",
       "var gd = document.getElementById('f4aca768-b89a-4f22-bf02-910bbfc9b483');\n",
       "var x = new MutationObserver(function (mutations, observer) {{\n",
       "        var display = window.getComputedStyle(gd).display;\n",
       "        if (!display || display === 'none') {{\n",
       "            console.log([gd, 'removed!']);\n",
       "            Plotly.purge(gd);\n",
       "            observer.disconnect();\n",
       "        }}\n",
       "}});\n",
       "\n",
       "// Listen for the removal of the full notebook cells\n",
       "var notebookContainer = gd.closest('#notebook-container');\n",
       "if (notebookContainer) {{\n",
       "    x.observe(notebookContainer, {childList: true});\n",
       "}}\n",
       "\n",
       "// Listen for the clearing of the current output cell\n",
       "var outputEl = gd.closest('.output');\n",
       "if (outputEl) {{\n",
       "    x.observe(outputEl, {childList: true});\n",
       "}}\n",
       "\n",
       "                        })                };                });            </script>        </div>"
      ]
     },
     "metadata": {},
     "output_type": "display_data"
    }
   ],
   "source": [
    "# Visualize trends across workout types\n",
    "workout_viz = pe.line(df, \n",
    "                      x='date', \n",
    "                      y='sleep_hours', \n",
    "                      color='workout_type', \n",
    "                      title='Trends Across Workout Types', \n",
    "                      labels={'date': 'Date', 'sleep_hours': 'Sleep Hours', 'workout_type': 'Metric'})\n",
    "workout_viz.show()\n"
   ]
  },
  {
   "cell_type": "code",
   "execution_count": 87,
   "id": "21a858e4-c6b5-40ce-bbce-c595267f0e51",
   "metadata": {},
   "outputs": [
    {
     "data": {
      "application/vnd.plotly.v1+json": {
       "config": {
        "plotlyServerURL": "https://plot.ly"
       },
       "data": [
        {
         "customdata": [
          [
           33
          ],
          [
           43
          ],
          [
           39
          ],
          [
           29
          ],
          [
           44
          ],
          [
           29
          ],
          [
           56
          ],
          [
           37
          ],
          [
           44
          ],
          [
           30
          ],
          [
           52
          ],
          [
           36
          ],
          [
           43
          ],
          [
           51
          ],
          [
           40
          ],
          [
           46
          ],
          [
           40
          ],
          [
           31
          ],
          [
           40
          ],
          [
           64
          ],
          [
           47
          ],
          [
           42
          ],
          [
           52
          ],
          [
           37
          ],
          [
           35
          ],
          [
           36
          ],
          [
           69
          ],
          [
           25
          ],
          [
           54
          ],
          [
           49
          ],
          [
           41
          ],
          [
           30
          ],
          [
           34
          ],
          [
           42
          ],
          [
           40
          ],
          [
           32
          ],
          [
           52
          ],
          [
           39
          ],
          [
           43
          ],
          [
           32
          ],
          [
           35
          ]
         ],
         "hovertemplate": "Metric=Strength Training<br>Average Heart Rate (bpm)=%{x}<br>Calories Burned=%{y}<br>workout_duration_minutes=%{marker.size}<br>fat_burn_minutes=%{customdata[0]}<extra></extra>",
         "legendgroup": "Strength Training",
         "marker": {
          "color": "#636efa",
          "size": [
           68.28,
           34.34,
           77.88,
           59.16,
           42.99,
           46.32,
           63.99,
           43.06,
           60.28,
           89.01,
           64.97,
           41.99,
           80.38,
           56.95,
           64.68,
           72.63,
           84.55,
           46.66,
           68.94,
           54.47,
           62.08,
           79.15,
           81.27,
           78.88,
           58.32,
           44.79,
           66.71,
           67.37,
           73.96,
           42.32,
           72.13,
           65.25,
           80.83,
           30.79,
           40.46,
           77.44,
           71.45,
           42.68,
           41.7,
           42.04,
           94.29
          ],
          "sizemode": "area",
          "sizeref": 0.23572500000000002,
          "symbol": "circle"
         },
         "mode": "markers",
         "name": "Strength Training",
         "orientation": "v",
         "showlegend": true,
         "type": "scatter",
         "x": [
          143.67,
          138.63,
          144.06,
          138.35,
          148.24,
          130.34,
          140.89,
          143.86,
          134.9,
          147.2,
          142.89,
          141.42,
          126.3,
          132.83,
          151.05,
          140.61,
          130.31,
          152.29,
          150.4,
          142.27,
          115.21,
          145.72,
          140.32,
          136.82,
          154.21,
          141.5,
          141.79,
          134.13,
          143.08,
          137.63,
          129.36,
          143.9,
          144.21,
          143.95,
          152.36,
          145.61,
          149.63,
          124.28,
          140.42,
          152.57,
          131.24
         ],
         "xaxis": "x",
         "y": [
          641.12,
          366.5648326888199,
          677.01,
          586.27,
          431.2086807185789,
          546.53,
          642.62,
          424.16,
          555.75,
          732.26,
          635.53,
          456.47,
          761.98,
          598.44,
          738.27,
          779.55,
          973.9,
          399.27373964189457,
          674.08,
          651.15,
          658.04,
          687.02,
          719.82,
          666.51,
          527.58,
          361.18,
          665.58,
          780.12,
          751.79,
          347.83005021979346,
          843.78,
          631.33,
          820.6,
          288.31,
          412.22,
          682.64,
          761.17,
          443.0841301568779,
          493.91,
          434.41,
          1072.2
         ],
         "yaxis": "y"
        },
        {
         "customdata": [
          [
           33
          ],
          [
           28
          ],
          [
           42
          ],
          [
           47
          ],
          [
           49
          ],
          [
           55
          ],
          [
           35
          ],
          [
           38
          ],
          [
           36
          ],
          [
           48
          ],
          [
           43
          ],
          [
           43
          ],
          [
           39
          ]
         ],
         "hovertemplate": "Metric=Rest<br>Average Heart Rate (bpm)=%{x}<br>Calories Burned=%{y}<br>workout_duration_minutes=%{marker.size}<br>fat_burn_minutes=%{customdata[0]}<extra></extra>",
         "legendgroup": "Rest",
         "marker": {
          "color": "#EF553B",
          "size": [
           0,
           0,
           0,
           0,
           0,
           0,
           0,
           0,
           0,
           0,
           0,
           0,
           0
          ],
          "sizemode": "area",
          "sizeref": 0.23572500000000002,
          "symbol": "circle"
         },
         "mode": "markers",
         "name": "Rest",
         "orientation": "v",
         "showlegend": true,
         "type": "scatter",
         "x": [
          0,
          0,
          0,
          0,
          0,
          0,
          0,
          0,
          0,
          0,
          0,
          0,
          0
         ],
         "xaxis": "x",
         "y": [
          0,
          0,
          0,
          0,
          0,
          0,
          0,
          0,
          0,
          0,
          0,
          0,
          0
         ],
         "yaxis": "y"
        },
        {
         "customdata": [
          [
           55
          ],
          [
           35
          ],
          [
           25
          ],
          [
           32
          ],
          [
           50
          ],
          [
           29
          ],
          [
           27
          ],
          [
           39
          ],
          [
           36
          ],
          [
           38
          ],
          [
           27
          ],
          [
           30
          ],
          [
           45
          ],
          [
           36
          ],
          [
           20
          ],
          [
           61
          ],
          [
           29
          ],
          [
           30
          ],
          [
           28
          ],
          [
           41
          ],
          [
           54
          ],
          [
           35
          ],
          [
           41
          ],
          [
           43
          ],
          [
           48
          ],
          [
           78
          ],
          [
           48
          ],
          [
           15
          ],
          [
           33
          ],
          [
           39
          ],
          [
           55
          ],
          [
           58
          ],
          [
           49
          ],
          [
           44
          ],
          [
           39
          ],
          [
           26
          ],
          [
           42
          ],
          [
           34
          ],
          [
           29
          ],
          [
           62
          ],
          [
           66
          ],
          [
           37
          ],
          [
           48
          ],
          [
           22
          ],
          [
           19
          ],
          [
           35
          ],
          [
           50
          ],
          [
           38
          ],
          [
           46
          ],
          [
           62
          ],
          [
           43
          ]
         ],
         "hovertemplate": "Metric=Running<br>Average Heart Rate (bpm)=%{x}<br>Calories Burned=%{y}<br>workout_duration_minutes=%{marker.size}<br>fat_burn_minutes=%{customdata[0]}<extra></extra>",
         "legendgroup": "Running",
         "marker": {
          "color": "#00cc96",
          "size": [
           62.74,
           45.82,
           46.63,
           42.39,
           40.74,
           39.88,
           68,
           51.33,
           47.23,
           51.65,
           44.67,
           39.54,
           23.6,
           42.27,
           40.25,
           41.55,
           24.82,
           27.72,
           32.82,
           39,
           26.63,
           41.02,
           46.83,
           65.81,
           42.45,
           43.79,
           51.6,
           46.67,
           44.19,
           26.81,
           32.47,
           49.17,
           42.09,
           49.42,
           49.87,
           28.68,
           42.97,
           33.99,
           63.61,
           47.32,
           46.87,
           36.67,
           49.49,
           38.74,
           36.85,
           54.79,
           47.23,
           41.5,
           71.58,
           24.09,
           41.47
          ],
          "sizemode": "area",
          "sizeref": 0.23572500000000002,
          "symbol": "circle"
         },
         "mode": "markers",
         "name": "Running",
         "orientation": "v",
         "showlegend": true,
         "type": "scatter",
         "x": [
          152.04,
          141.94,
          137.6,
          148.09,
          147.57,
          144.28,
          132.77,
          142.16,
          141.68,
          140.68,
          136.87,
          127.46,
          135.16,
          128.39,
          124.59,
          154.42,
          120.15,
          130.1,
          131.81,
          135.98,
          139.6,
          144.94,
          142.52,
          154.51,
          147.08,
          124.39,
          155.85,
          145.35,
          155.02,
          127.15,
          143.83,
          143.97,
          133.43,
          141.24,
          131.58,
          151.37,
          146.79,
          134.7,
          153.54,
          146.5,
          131.26,
          127.37,
          145.25,
          143.88,
          135.83,
          124.16,
          143.69,
          149.06,
          129.24,
          150.2,
          139.88
         ],
         "xaxis": "x",
         "y": [
          662.04,
          545.66,
          425.44,
          506.22,
          409.99,
          470.96,
          664.38,
          581.51,
          480.53,
          518.68,
          370.04,
          403.79,
          253.15,
          454.61,
          428.52,
          350.91,
          234.25,
          232.72,
          283.44,
          387.08,
          295.59,
          457.5530304,
          543.49,
          600.51,
          419.39,
          438,
          454.1,
          509.79,
          354.75,
          305.56,
          383.92,
          514.07,
          449.1,
          456.1,
          519.9875174524522,
          265.78,
          434.49,
          292.61,
          612.38,
          383.89,
          435.04,
          409.97,
          489.5,
          418.92,
          335.9,
          605.25,
          500.17,
          492.83,
          843.13,
          257.56,
          419.24
         ],
         "yaxis": "y"
        },
        {
         "customdata": [
          [
           34
          ],
          [
           45
          ],
          [
           44
          ],
          [
           39
          ],
          [
           45
          ],
          [
           47
          ],
          [
           34
          ],
          [
           60
          ],
          [
           32
          ],
          [
           48
          ],
          [
           38
          ],
          [
           26
          ],
          [
           47
          ],
          [
           41
          ],
          [
           65
          ],
          [
           39
          ],
          [
           31
          ],
          [
           45
          ],
          [
           43
          ],
          [
           44
          ],
          [
           44
          ],
          [
           30
          ],
          [
           57
          ],
          [
           56
          ],
          [
           55
          ],
          [
           51
          ],
          [
           35
          ],
          [
           28
          ],
          [
           66
          ],
          [
           52
          ],
          [
           55
          ],
          [
           45
          ]
         ],
         "hovertemplate": "Metric=HIIT<br>Average Heart Rate (bpm)=%{x}<br>Calories Burned=%{y}<br>workout_duration_minutes=%{marker.size}<br>fat_burn_minutes=%{customdata[0]}<extra></extra>",
         "legendgroup": "HIIT",
         "marker": {
          "color": "#ab63fa",
          "size": [
           31.44,
           20.42,
           19.43,
           31.44,
           29.05,
           25.12,
           19,
           28.62,
           17.05,
           30.06,
           28.06,
           26.97,
           29.24,
           21.32,
           24.2,
           20.04,
           22.85,
           31.41,
           26.81,
           28.13,
           22.31,
           23.57,
           39.47,
           27.97,
           27.5,
           25.76,
           26.15,
           23.45,
           27.6,
           23.58,
           21.32,
           26.73
          ],
          "sizemode": "area",
          "sizeref": 0.23572500000000002,
          "symbol": "circle"
         },
         "mode": "markers",
         "name": "HIIT",
         "orientation": "v",
         "showlegend": true,
         "type": "scatter",
         "x": [
          141.69,
          135.96,
          113.44,
          152.13,
          129.03,
          148.9,
          137.07,
          156.07,
          158.92,
          153.79,
          136.55,
          145.4,
          138.17,
          152.38,
          145.59,
          131.32,
          126.23,
          139.22,
          135.7,
          137.94,
          151.95,
          149.88,
          152.08,
          140.4,
          157.7,
          146.43,
          157.55,
          134.61,
          117.23,
          135.7,
          128.82,
          133.59
         ],
         "xaxis": "x",
         "y": [
          302.58,
          214.35,
          196.83285069790924,
          344.5,
          315.13,
          278.98,
          225.48,
          270.35,
          185.57,
          258.87,
          264.6,
          260.36,
          325.95,
          182.85,
          208.39,
          217.02,
          232.54,
          291.7,
          249.71,
          272.33,
          220.67,
          233.03,
          401.61,
          280.33,
          245.9,
          305.83,
          280.79,
          211.54,
          300.07,
          236.38,
          230.97,
          267.9
         ],
         "yaxis": "y"
        },
        {
         "customdata": [
          [
           37
          ],
          [
           39
          ],
          [
           53
          ],
          [
           21
          ],
          [
           40
          ],
          [
           38
          ],
          [
           57
          ],
          [
           65
          ],
          [
           50
          ],
          [
           37
          ],
          [
           43
          ],
          [
           36
          ],
          [
           33
          ],
          [
           60
          ],
          [
           44
          ],
          [
           44
          ],
          [
           37
          ],
          [
           48
          ],
          [
           45
          ],
          [
           36
          ],
          [
           37
          ],
          [
           28
          ],
          [
           37
          ],
          [
           52
          ],
          [
           44
          ],
          [
           39
          ],
          [
           33
          ],
          [
           40
          ],
          [
           73
          ],
          [
           55
          ],
          [
           51
          ],
          [
           45
          ],
          [
           62
          ],
          [
           62
          ],
          [
           43
          ],
          [
           46
          ],
          [
           27
          ],
          [
           26
          ],
          [
           53
          ],
          [
           49
          ],
          [
           44
          ],
          [
           59
          ]
         ],
         "hovertemplate": "Metric=Yoga<br>Average Heart Rate (bpm)=%{x}<br>Calories Burned=%{y}<br>workout_duration_minutes=%{marker.size}<br>fat_burn_minutes=%{customdata[0]}<extra></extra>",
         "legendgroup": "Yoga",
         "marker": {
          "color": "#FFA15A",
          "size": [
           22.72,
           29.69,
           31.27,
           24.96,
           20.74,
           27.72,
           36.66,
           31.05,
           43.88,
           30.59,
           30.11,
           17.89,
           37.89,
           30.97,
           39.62,
           27.58,
           26.41,
           31.1,
           32.7,
           33.41,
           26.54,
           27.61,
           25.86,
           39.4,
           31.16,
           35.72,
           30.36,
           33.57,
           28.61,
           22.48,
           33.33,
           33.77,
           29.39,
           20.39,
           35.57,
           27.61,
           35.64,
           30,
           28.09,
           30.8,
           31.59,
           19.36
          ],
          "sizemode": "area",
          "sizeref": 0.23572500000000002,
          "symbol": "circle"
         },
         "mode": "markers",
         "name": "Yoga",
         "orientation": "v",
         "showlegend": true,
         "type": "scatter",
         "x": [
          147.84,
          123.54,
          134.76,
          125.71,
          147.56,
          145.41,
          138.8,
          141.86,
          123.26,
          150.07,
          148.9,
          151.31,
          136.49,
          116.75,
          135.2,
          136.85,
          124.27,
          147.5,
          154.67,
          141.76,
          135.33,
          148.1,
          125.8,
          128.86,
          147.04,
          132.04,
          122.72,
          143.71,
          132.7,
          140.95,
          126.03,
          142.26,
          158.25,
          126.49,
          151.68,
          141.11,
          137.08,
          147.73,
          138.67,
          146.03,
          160.24,
          129.02
         ],
         "xaxis": "x",
         "y": [
          192.1963706322988,
          326.06,
          313.55,
          274.24,
          225.97,
          251.28,
          309.58,
          285.36,
          386.34,
          306.69,
          291.04,
          180.9,
          373.2437483160856,
          340.37385,
          332,
          242.16,
          310.5638655385275,
          328.92,
          297.18,
          302.13,
          281.37,
          255.89,
          290.58,
          367.88,
          299.03,
          372.97,
          327.54,
          356.34,
          247.8,
          190.54,
          382.68,
          357.66,
          259.67,
          173.28748827893847,
          375.77,
          319.18,
          332.42,
          296.25,
          330.15,
          363.02,
          300.03,
          214.9368586368616
         ],
         "yaxis": "y"
        }
       ],
       "layout": {
        "legend": {
         "itemsizing": "constant",
         "title": {
          "text": "Metric"
         },
         "tracegroupgap": 0
        },
        "template": {
         "data": {
          "bar": [
           {
            "error_x": {
             "color": "#2a3f5f"
            },
            "error_y": {
             "color": "#2a3f5f"
            },
            "marker": {
             "line": {
              "color": "#E5ECF6",
              "width": 0.5
             },
             "pattern": {
              "fillmode": "overlay",
              "size": 10,
              "solidity": 0.2
             }
            },
            "type": "bar"
           }
          ],
          "barpolar": [
           {
            "marker": {
             "line": {
              "color": "#E5ECF6",
              "width": 0.5
             },
             "pattern": {
              "fillmode": "overlay",
              "size": 10,
              "solidity": 0.2
             }
            },
            "type": "barpolar"
           }
          ],
          "carpet": [
           {
            "aaxis": {
             "endlinecolor": "#2a3f5f",
             "gridcolor": "white",
             "linecolor": "white",
             "minorgridcolor": "white",
             "startlinecolor": "#2a3f5f"
            },
            "baxis": {
             "endlinecolor": "#2a3f5f",
             "gridcolor": "white",
             "linecolor": "white",
             "minorgridcolor": "white",
             "startlinecolor": "#2a3f5f"
            },
            "type": "carpet"
           }
          ],
          "choropleth": [
           {
            "colorbar": {
             "outlinewidth": 0,
             "ticks": ""
            },
            "type": "choropleth"
           }
          ],
          "contour": [
           {
            "colorbar": {
             "outlinewidth": 0,
             "ticks": ""
            },
            "colorscale": [
             [
              0,
              "#0d0887"
             ],
             [
              0.1111111111111111,
              "#46039f"
             ],
             [
              0.2222222222222222,
              "#7201a8"
             ],
             [
              0.3333333333333333,
              "#9c179e"
             ],
             [
              0.4444444444444444,
              "#bd3786"
             ],
             [
              0.5555555555555556,
              "#d8576b"
             ],
             [
              0.6666666666666666,
              "#ed7953"
             ],
             [
              0.7777777777777778,
              "#fb9f3a"
             ],
             [
              0.8888888888888888,
              "#fdca26"
             ],
             [
              1,
              "#f0f921"
             ]
            ],
            "type": "contour"
           }
          ],
          "contourcarpet": [
           {
            "colorbar": {
             "outlinewidth": 0,
             "ticks": ""
            },
            "type": "contourcarpet"
           }
          ],
          "heatmap": [
           {
            "colorbar": {
             "outlinewidth": 0,
             "ticks": ""
            },
            "colorscale": [
             [
              0,
              "#0d0887"
             ],
             [
              0.1111111111111111,
              "#46039f"
             ],
             [
              0.2222222222222222,
              "#7201a8"
             ],
             [
              0.3333333333333333,
              "#9c179e"
             ],
             [
              0.4444444444444444,
              "#bd3786"
             ],
             [
              0.5555555555555556,
              "#d8576b"
             ],
             [
              0.6666666666666666,
              "#ed7953"
             ],
             [
              0.7777777777777778,
              "#fb9f3a"
             ],
             [
              0.8888888888888888,
              "#fdca26"
             ],
             [
              1,
              "#f0f921"
             ]
            ],
            "type": "heatmap"
           }
          ],
          "heatmapgl": [
           {
            "colorbar": {
             "outlinewidth": 0,
             "ticks": ""
            },
            "colorscale": [
             [
              0,
              "#0d0887"
             ],
             [
              0.1111111111111111,
              "#46039f"
             ],
             [
              0.2222222222222222,
              "#7201a8"
             ],
             [
              0.3333333333333333,
              "#9c179e"
             ],
             [
              0.4444444444444444,
              "#bd3786"
             ],
             [
              0.5555555555555556,
              "#d8576b"
             ],
             [
              0.6666666666666666,
              "#ed7953"
             ],
             [
              0.7777777777777778,
              "#fb9f3a"
             ],
             [
              0.8888888888888888,
              "#fdca26"
             ],
             [
              1,
              "#f0f921"
             ]
            ],
            "type": "heatmapgl"
           }
          ],
          "histogram": [
           {
            "marker": {
             "pattern": {
              "fillmode": "overlay",
              "size": 10,
              "solidity": 0.2
             }
            },
            "type": "histogram"
           }
          ],
          "histogram2d": [
           {
            "colorbar": {
             "outlinewidth": 0,
             "ticks": ""
            },
            "colorscale": [
             [
              0,
              "#0d0887"
             ],
             [
              0.1111111111111111,
              "#46039f"
             ],
             [
              0.2222222222222222,
              "#7201a8"
             ],
             [
              0.3333333333333333,
              "#9c179e"
             ],
             [
              0.4444444444444444,
              "#bd3786"
             ],
             [
              0.5555555555555556,
              "#d8576b"
             ],
             [
              0.6666666666666666,
              "#ed7953"
             ],
             [
              0.7777777777777778,
              "#fb9f3a"
             ],
             [
              0.8888888888888888,
              "#fdca26"
             ],
             [
              1,
              "#f0f921"
             ]
            ],
            "type": "histogram2d"
           }
          ],
          "histogram2dcontour": [
           {
            "colorbar": {
             "outlinewidth": 0,
             "ticks": ""
            },
            "colorscale": [
             [
              0,
              "#0d0887"
             ],
             [
              0.1111111111111111,
              "#46039f"
             ],
             [
              0.2222222222222222,
              "#7201a8"
             ],
             [
              0.3333333333333333,
              "#9c179e"
             ],
             [
              0.4444444444444444,
              "#bd3786"
             ],
             [
              0.5555555555555556,
              "#d8576b"
             ],
             [
              0.6666666666666666,
              "#ed7953"
             ],
             [
              0.7777777777777778,
              "#fb9f3a"
             ],
             [
              0.8888888888888888,
              "#fdca26"
             ],
             [
              1,
              "#f0f921"
             ]
            ],
            "type": "histogram2dcontour"
           }
          ],
          "mesh3d": [
           {
            "colorbar": {
             "outlinewidth": 0,
             "ticks": ""
            },
            "type": "mesh3d"
           }
          ],
          "parcoords": [
           {
            "line": {
             "colorbar": {
              "outlinewidth": 0,
              "ticks": ""
             }
            },
            "type": "parcoords"
           }
          ],
          "pie": [
           {
            "automargin": true,
            "type": "pie"
           }
          ],
          "scatter": [
           {
            "fillpattern": {
             "fillmode": "overlay",
             "size": 10,
             "solidity": 0.2
            },
            "type": "scatter"
           }
          ],
          "scatter3d": [
           {
            "line": {
             "colorbar": {
              "outlinewidth": 0,
              "ticks": ""
             }
            },
            "marker": {
             "colorbar": {
              "outlinewidth": 0,
              "ticks": ""
             }
            },
            "type": "scatter3d"
           }
          ],
          "scattercarpet": [
           {
            "marker": {
             "colorbar": {
              "outlinewidth": 0,
              "ticks": ""
             }
            },
            "type": "scattercarpet"
           }
          ],
          "scattergeo": [
           {
            "marker": {
             "colorbar": {
              "outlinewidth": 0,
              "ticks": ""
             }
            },
            "type": "scattergeo"
           }
          ],
          "scattergl": [
           {
            "marker": {
             "colorbar": {
              "outlinewidth": 0,
              "ticks": ""
             }
            },
            "type": "scattergl"
           }
          ],
          "scattermapbox": [
           {
            "marker": {
             "colorbar": {
              "outlinewidth": 0,
              "ticks": ""
             }
            },
            "type": "scattermapbox"
           }
          ],
          "scatterpolar": [
           {
            "marker": {
             "colorbar": {
              "outlinewidth": 0,
              "ticks": ""
             }
            },
            "type": "scatterpolar"
           }
          ],
          "scatterpolargl": [
           {
            "marker": {
             "colorbar": {
              "outlinewidth": 0,
              "ticks": ""
             }
            },
            "type": "scatterpolargl"
           }
          ],
          "scatterternary": [
           {
            "marker": {
             "colorbar": {
              "outlinewidth": 0,
              "ticks": ""
             }
            },
            "type": "scatterternary"
           }
          ],
          "surface": [
           {
            "colorbar": {
             "outlinewidth": 0,
             "ticks": ""
            },
            "colorscale": [
             [
              0,
              "#0d0887"
             ],
             [
              0.1111111111111111,
              "#46039f"
             ],
             [
              0.2222222222222222,
              "#7201a8"
             ],
             [
              0.3333333333333333,
              "#9c179e"
             ],
             [
              0.4444444444444444,
              "#bd3786"
             ],
             [
              0.5555555555555556,
              "#d8576b"
             ],
             [
              0.6666666666666666,
              "#ed7953"
             ],
             [
              0.7777777777777778,
              "#fb9f3a"
             ],
             [
              0.8888888888888888,
              "#fdca26"
             ],
             [
              1,
              "#f0f921"
             ]
            ],
            "type": "surface"
           }
          ],
          "table": [
           {
            "cells": {
             "fill": {
              "color": "#EBF0F8"
             },
             "line": {
              "color": "white"
             }
            },
            "header": {
             "fill": {
              "color": "#C8D4E3"
             },
             "line": {
              "color": "white"
             }
            },
            "type": "table"
           }
          ]
         },
         "layout": {
          "annotationdefaults": {
           "arrowcolor": "#2a3f5f",
           "arrowhead": 0,
           "arrowwidth": 1
          },
          "autotypenumbers": "strict",
          "coloraxis": {
           "colorbar": {
            "outlinewidth": 0,
            "ticks": ""
           }
          },
          "colorscale": {
           "diverging": [
            [
             0,
             "#8e0152"
            ],
            [
             0.1,
             "#c51b7d"
            ],
            [
             0.2,
             "#de77ae"
            ],
            [
             0.3,
             "#f1b6da"
            ],
            [
             0.4,
             "#fde0ef"
            ],
            [
             0.5,
             "#f7f7f7"
            ],
            [
             0.6,
             "#e6f5d0"
            ],
            [
             0.7,
             "#b8e186"
            ],
            [
             0.8,
             "#7fbc41"
            ],
            [
             0.9,
             "#4d9221"
            ],
            [
             1,
             "#276419"
            ]
           ],
           "sequential": [
            [
             0,
             "#0d0887"
            ],
            [
             0.1111111111111111,
             "#46039f"
            ],
            [
             0.2222222222222222,
             "#7201a8"
            ],
            [
             0.3333333333333333,
             "#9c179e"
            ],
            [
             0.4444444444444444,
             "#bd3786"
            ],
            [
             0.5555555555555556,
             "#d8576b"
            ],
            [
             0.6666666666666666,
             "#ed7953"
            ],
            [
             0.7777777777777778,
             "#fb9f3a"
            ],
            [
             0.8888888888888888,
             "#fdca26"
            ],
            [
             1,
             "#f0f921"
            ]
           ],
           "sequentialminus": [
            [
             0,
             "#0d0887"
            ],
            [
             0.1111111111111111,
             "#46039f"
            ],
            [
             0.2222222222222222,
             "#7201a8"
            ],
            [
             0.3333333333333333,
             "#9c179e"
            ],
            [
             0.4444444444444444,
             "#bd3786"
            ],
            [
             0.5555555555555556,
             "#d8576b"
            ],
            [
             0.6666666666666666,
             "#ed7953"
            ],
            [
             0.7777777777777778,
             "#fb9f3a"
            ],
            [
             0.8888888888888888,
             "#fdca26"
            ],
            [
             1,
             "#f0f921"
            ]
           ]
          },
          "colorway": [
           "#636efa",
           "#EF553B",
           "#00cc96",
           "#ab63fa",
           "#FFA15A",
           "#19d3f3",
           "#FF6692",
           "#B6E880",
           "#FF97FF",
           "#FECB52"
          ],
          "font": {
           "color": "#2a3f5f"
          },
          "geo": {
           "bgcolor": "white",
           "lakecolor": "white",
           "landcolor": "#E5ECF6",
           "showlakes": true,
           "showland": true,
           "subunitcolor": "white"
          },
          "hoverlabel": {
           "align": "left"
          },
          "hovermode": "closest",
          "mapbox": {
           "style": "light"
          },
          "paper_bgcolor": "white",
          "plot_bgcolor": "#E5ECF6",
          "polar": {
           "angularaxis": {
            "gridcolor": "white",
            "linecolor": "white",
            "ticks": ""
           },
           "bgcolor": "#E5ECF6",
           "radialaxis": {
            "gridcolor": "white",
            "linecolor": "white",
            "ticks": ""
           }
          },
          "scene": {
           "xaxis": {
            "backgroundcolor": "#E5ECF6",
            "gridcolor": "white",
            "gridwidth": 2,
            "linecolor": "white",
            "showbackground": true,
            "ticks": "",
            "zerolinecolor": "white"
           },
           "yaxis": {
            "backgroundcolor": "#E5ECF6",
            "gridcolor": "white",
            "gridwidth": 2,
            "linecolor": "white",
            "showbackground": true,
            "ticks": "",
            "zerolinecolor": "white"
           },
           "zaxis": {
            "backgroundcolor": "#E5ECF6",
            "gridcolor": "white",
            "gridwidth": 2,
            "linecolor": "white",
            "showbackground": true,
            "ticks": "",
            "zerolinecolor": "white"
           }
          },
          "shapedefaults": {
           "line": {
            "color": "#2a3f5f"
           }
          },
          "ternary": {
           "aaxis": {
            "gridcolor": "white",
            "linecolor": "white",
            "ticks": ""
           },
           "baxis": {
            "gridcolor": "white",
            "linecolor": "white",
            "ticks": ""
           },
           "bgcolor": "#E5ECF6",
           "caxis": {
            "gridcolor": "white",
            "linecolor": "white",
            "ticks": ""
           }
          },
          "title": {
           "x": 0.05
          },
          "xaxis": {
           "automargin": true,
           "gridcolor": "white",
           "linecolor": "white",
           "ticks": "",
           "title": {
            "standoff": 15
           },
           "zerolinecolor": "white",
           "zerolinewidth": 2
          },
          "yaxis": {
           "automargin": true,
           "gridcolor": "white",
           "linecolor": "white",
           "ticks": "",
           "title": {
            "standoff": 15
           },
           "zerolinecolor": "white",
           "zerolinewidth": 2
          }
         }
        },
        "title": {
         "text": "Calories Burned vs. Average Heart Rate by Workout Type"
        },
        "xaxis": {
         "anchor": "y",
         "domain": [
          0,
          1
         ],
         "title": {
          "text": "Average Heart Rate (bpm)"
         }
        },
        "yaxis": {
         "anchor": "x",
         "domain": [
          0,
          1
         ],
         "title": {
          "text": "Calories Burned"
         }
        }
       }
      },
      "text/html": [
       "<div>                            <div id=\"b3319b9f-fe6c-4de7-8e9d-023b166126af\" class=\"plotly-graph-div\" style=\"height:525px; width:100%;\"></div>            <script type=\"text/javascript\">                require([\"plotly\"], function(Plotly) {                    window.PLOTLYENV=window.PLOTLYENV || {};                                    if (document.getElementById(\"b3319b9f-fe6c-4de7-8e9d-023b166126af\")) {                    Plotly.newPlot(                        \"b3319b9f-fe6c-4de7-8e9d-023b166126af\",                        [{\"customdata\":[[33.0],[43.0],[39.0],[29.0],[44.0],[29.0],[56.0],[37.0],[44.0],[30.0],[52.0],[36.0],[43.0],[51.0],[40.0],[46.0],[40.0],[31.0],[40.0],[64.0],[47.0],[42.0],[52.0],[37.0],[35.0],[36.0],[69.0],[25.0],[54.0],[49.0],[41.0],[30.0],[34.0],[42.0],[40.0],[32.0],[52.0],[39.0],[43.0],[32.0],[35.0]],\"hovertemplate\":\"Metric=Strength Training\\u003cbr\\u003eAverage Heart Rate (bpm)=%{x}\\u003cbr\\u003eCalories Burned=%{y}\\u003cbr\\u003eworkout_duration_minutes=%{marker.size}\\u003cbr\\u003efat_burn_minutes=%{customdata[0]}\\u003cextra\\u003e\\u003c\\u002fextra\\u003e\",\"legendgroup\":\"Strength Training\",\"marker\":{\"color\":\"#636efa\",\"size\":[68.28,34.34,77.88,59.16,42.99,46.32,63.99,43.06,60.28,89.01,64.97,41.99,80.38,56.95,64.68,72.63,84.55,46.66,68.94,54.47,62.08,79.15,81.27,78.88,58.32,44.79,66.71,67.37,73.96,42.32,72.13,65.25,80.83,30.79,40.46,77.44,71.45,42.68,41.7,42.04,94.29],\"sizemode\":\"area\",\"sizeref\":0.23572500000000002,\"symbol\":\"circle\"},\"mode\":\"markers\",\"name\":\"Strength Training\",\"orientation\":\"v\",\"showlegend\":true,\"x\":[143.67,138.63,144.06,138.35,148.24,130.34,140.89,143.86,134.9,147.2,142.89,141.42,126.3,132.83,151.05,140.61,130.31,152.29,150.4,142.27,115.21,145.72,140.32,136.82,154.21,141.5,141.79,134.13,143.08,137.63,129.36,143.9,144.21,143.95,152.36,145.61,149.63,124.28,140.42,152.57,131.24],\"xaxis\":\"x\",\"y\":[641.12,366.5648326888199,677.01,586.27,431.2086807185789,546.53,642.62,424.16,555.75,732.26,635.53,456.47,761.98,598.44,738.27,779.55,973.9,399.27373964189457,674.08,651.15,658.04,687.02,719.82,666.51,527.58,361.18,665.58,780.12,751.79,347.83005021979346,843.78,631.33,820.6,288.31,412.22,682.64,761.17,443.0841301568779,493.91,434.41,1072.2],\"yaxis\":\"y\",\"type\":\"scatter\"},{\"customdata\":[[33.0],[28.0],[42.0],[47.0],[49.0],[55.0],[35.0],[38.0],[36.0],[48.0],[43.0],[43.0],[39.0]],\"hovertemplate\":\"Metric=Rest\\u003cbr\\u003eAverage Heart Rate (bpm)=%{x}\\u003cbr\\u003eCalories Burned=%{y}\\u003cbr\\u003eworkout_duration_minutes=%{marker.size}\\u003cbr\\u003efat_burn_minutes=%{customdata[0]}\\u003cextra\\u003e\\u003c\\u002fextra\\u003e\",\"legendgroup\":\"Rest\",\"marker\":{\"color\":\"#EF553B\",\"size\":[0.0,0.0,0.0,0.0,0.0,0.0,0.0,0.0,0.0,0.0,0.0,0.0,0.0],\"sizemode\":\"area\",\"sizeref\":0.23572500000000002,\"symbol\":\"circle\"},\"mode\":\"markers\",\"name\":\"Rest\",\"orientation\":\"v\",\"showlegend\":true,\"x\":[0.0,0.0,0.0,0.0,0.0,0.0,0.0,0.0,0.0,0.0,0.0,0.0,0.0],\"xaxis\":\"x\",\"y\":[0.0,0.0,0.0,0.0,0.0,0.0,0.0,0.0,0.0,0.0,0.0,0.0,0.0],\"yaxis\":\"y\",\"type\":\"scatter\"},{\"customdata\":[[55.0],[35.0],[25.0],[32.0],[50.0],[29.0],[27.0],[39.0],[36.0],[38.0],[27.0],[30.0],[45.0],[36.0],[20.0],[61.0],[29.0],[30.0],[28.0],[41.0],[54.0],[35.0],[41.0],[43.0],[48.0],[78.0],[48.0],[15.0],[33.0],[39.0],[55.0],[58.0],[49.0],[44.0],[39.0],[26.0],[42.0],[34.0],[29.0],[62.0],[66.0],[37.0],[48.0],[22.0],[19.0],[35.0],[50.0],[38.0],[46.0],[62.0],[43.0]],\"hovertemplate\":\"Metric=Running\\u003cbr\\u003eAverage Heart Rate (bpm)=%{x}\\u003cbr\\u003eCalories Burned=%{y}\\u003cbr\\u003eworkout_duration_minutes=%{marker.size}\\u003cbr\\u003efat_burn_minutes=%{customdata[0]}\\u003cextra\\u003e\\u003c\\u002fextra\\u003e\",\"legendgroup\":\"Running\",\"marker\":{\"color\":\"#00cc96\",\"size\":[62.74,45.82,46.63,42.39,40.74,39.88,68.0,51.33,47.23,51.65,44.67,39.54,23.6,42.27,40.25,41.55,24.82,27.72,32.82,39.0,26.63,41.02,46.83,65.81,42.45,43.79,51.6,46.67,44.19,26.81,32.47,49.17,42.09,49.42,49.87,28.68,42.97,33.99,63.61,47.32,46.87,36.67,49.49,38.74,36.85,54.79,47.23,41.5,71.58,24.09,41.47],\"sizemode\":\"area\",\"sizeref\":0.23572500000000002,\"symbol\":\"circle\"},\"mode\":\"markers\",\"name\":\"Running\",\"orientation\":\"v\",\"showlegend\":true,\"x\":[152.04,141.94,137.6,148.09,147.57,144.28,132.77,142.16,141.68,140.68,136.87,127.46,135.16,128.39,124.59,154.42,120.15,130.1,131.81,135.98,139.6,144.94,142.52,154.51,147.08,124.39,155.85,145.35,155.02,127.15,143.83,143.97,133.43,141.24,131.58,151.37,146.79,134.7,153.54,146.5,131.26,127.37,145.25,143.88,135.83,124.16,143.69,149.06,129.24,150.2,139.88],\"xaxis\":\"x\",\"y\":[662.04,545.66,425.44,506.22,409.99,470.96,664.38,581.51,480.53,518.68,370.04,403.79,253.15,454.61,428.52,350.91,234.25,232.72,283.44,387.08,295.59,457.5530304,543.49,600.51,419.39,438.0,454.1,509.79,354.75,305.56,383.92,514.07,449.1,456.1,519.9875174524522,265.78,434.49,292.61,612.38,383.89,435.04,409.97,489.5,418.92,335.9,605.25,500.17,492.83,843.13,257.56,419.24],\"yaxis\":\"y\",\"type\":\"scatter\"},{\"customdata\":[[34.0],[45.0],[44.0],[39.0],[45.0],[47.0],[34.0],[60.0],[32.0],[48.0],[38.0],[26.0],[47.0],[41.0],[65.0],[39.0],[31.0],[45.0],[43.0],[44.0],[44.0],[30.0],[57.0],[56.0],[55.0],[51.0],[35.0],[28.0],[66.0],[52.0],[55.0],[45.0]],\"hovertemplate\":\"Metric=HIIT\\u003cbr\\u003eAverage Heart Rate (bpm)=%{x}\\u003cbr\\u003eCalories Burned=%{y}\\u003cbr\\u003eworkout_duration_minutes=%{marker.size}\\u003cbr\\u003efat_burn_minutes=%{customdata[0]}\\u003cextra\\u003e\\u003c\\u002fextra\\u003e\",\"legendgroup\":\"HIIT\",\"marker\":{\"color\":\"#ab63fa\",\"size\":[31.44,20.42,19.43,31.44,29.05,25.12,19.0,28.62,17.05,30.06,28.06,26.97,29.24,21.32,24.2,20.04,22.85,31.41,26.81,28.13,22.31,23.57,39.47,27.97,27.5,25.76,26.15,23.45,27.6,23.58,21.32,26.73],\"sizemode\":\"area\",\"sizeref\":0.23572500000000002,\"symbol\":\"circle\"},\"mode\":\"markers\",\"name\":\"HIIT\",\"orientation\":\"v\",\"showlegend\":true,\"x\":[141.69,135.96,113.44,152.13,129.03,148.9,137.07,156.07,158.92,153.79,136.55,145.4,138.17,152.38,145.59,131.32,126.23,139.22,135.7,137.94,151.95,149.88,152.08,140.4,157.7,146.43,157.55,134.61,117.23,135.7,128.82,133.59],\"xaxis\":\"x\",\"y\":[302.58,214.35,196.83285069790924,344.5,315.13,278.98,225.48,270.35,185.57,258.87,264.6,260.36,325.95,182.85,208.39,217.02,232.54,291.7,249.71,272.33,220.67,233.03,401.61,280.33,245.9,305.83,280.79,211.54,300.07,236.38,230.97,267.9],\"yaxis\":\"y\",\"type\":\"scatter\"},{\"customdata\":[[37.0],[39.0],[53.0],[21.0],[40.0],[38.0],[57.0],[65.0],[50.0],[37.0],[43.0],[36.0],[33.0],[60.0],[44.0],[44.0],[37.0],[48.0],[45.0],[36.0],[37.0],[28.0],[37.0],[52.0],[44.0],[39.0],[33.0],[40.0],[73.0],[55.0],[51.0],[45.0],[62.0],[62.0],[43.0],[46.0],[27.0],[26.0],[53.0],[49.0],[44.0],[59.0]],\"hovertemplate\":\"Metric=Yoga\\u003cbr\\u003eAverage Heart Rate (bpm)=%{x}\\u003cbr\\u003eCalories Burned=%{y}\\u003cbr\\u003eworkout_duration_minutes=%{marker.size}\\u003cbr\\u003efat_burn_minutes=%{customdata[0]}\\u003cextra\\u003e\\u003c\\u002fextra\\u003e\",\"legendgroup\":\"Yoga\",\"marker\":{\"color\":\"#FFA15A\",\"size\":[22.72,29.69,31.27,24.96,20.74,27.72,36.66,31.05,43.88,30.59,30.11,17.89,37.89,30.97,39.62,27.58,26.41,31.1,32.7,33.41,26.54,27.61,25.86,39.4,31.16,35.72,30.36,33.57,28.61,22.48,33.33,33.77,29.39,20.39,35.57,27.61,35.64,30.0,28.09,30.8,31.59,19.36],\"sizemode\":\"area\",\"sizeref\":0.23572500000000002,\"symbol\":\"circle\"},\"mode\":\"markers\",\"name\":\"Yoga\",\"orientation\":\"v\",\"showlegend\":true,\"x\":[147.84,123.54,134.76,125.71,147.56,145.41,138.8,141.86,123.26,150.07,148.9,151.31,136.49,116.75,135.2,136.85,124.27,147.5,154.67,141.76,135.33,148.1,125.8,128.86,147.04,132.04,122.72,143.71,132.7,140.95,126.03,142.26,158.25,126.49,151.68,141.11,137.08,147.73,138.67,146.03,160.24,129.02],\"xaxis\":\"x\",\"y\":[192.1963706322988,326.06,313.55,274.24,225.97,251.28,309.58,285.36,386.34,306.69,291.04,180.9,373.2437483160856,340.37385,332.0,242.16,310.5638655385275,328.92,297.18,302.13,281.37,255.89,290.58,367.88,299.03,372.97,327.54,356.34,247.8,190.54,382.68,357.66,259.67,173.28748827893847,375.77,319.18,332.42,296.25,330.15,363.02,300.03,214.9368586368616],\"yaxis\":\"y\",\"type\":\"scatter\"}],                        {\"template\":{\"data\":{\"histogram2dcontour\":[{\"type\":\"histogram2dcontour\",\"colorbar\":{\"outlinewidth\":0,\"ticks\":\"\"},\"colorscale\":[[0.0,\"#0d0887\"],[0.1111111111111111,\"#46039f\"],[0.2222222222222222,\"#7201a8\"],[0.3333333333333333,\"#9c179e\"],[0.4444444444444444,\"#bd3786\"],[0.5555555555555556,\"#d8576b\"],[0.6666666666666666,\"#ed7953\"],[0.7777777777777778,\"#fb9f3a\"],[0.8888888888888888,\"#fdca26\"],[1.0,\"#f0f921\"]]}],\"choropleth\":[{\"type\":\"choropleth\",\"colorbar\":{\"outlinewidth\":0,\"ticks\":\"\"}}],\"histogram2d\":[{\"type\":\"histogram2d\",\"colorbar\":{\"outlinewidth\":0,\"ticks\":\"\"},\"colorscale\":[[0.0,\"#0d0887\"],[0.1111111111111111,\"#46039f\"],[0.2222222222222222,\"#7201a8\"],[0.3333333333333333,\"#9c179e\"],[0.4444444444444444,\"#bd3786\"],[0.5555555555555556,\"#d8576b\"],[0.6666666666666666,\"#ed7953\"],[0.7777777777777778,\"#fb9f3a\"],[0.8888888888888888,\"#fdca26\"],[1.0,\"#f0f921\"]]}],\"heatmap\":[{\"type\":\"heatmap\",\"colorbar\":{\"outlinewidth\":0,\"ticks\":\"\"},\"colorscale\":[[0.0,\"#0d0887\"],[0.1111111111111111,\"#46039f\"],[0.2222222222222222,\"#7201a8\"],[0.3333333333333333,\"#9c179e\"],[0.4444444444444444,\"#bd3786\"],[0.5555555555555556,\"#d8576b\"],[0.6666666666666666,\"#ed7953\"],[0.7777777777777778,\"#fb9f3a\"],[0.8888888888888888,\"#fdca26\"],[1.0,\"#f0f921\"]]}],\"heatmapgl\":[{\"type\":\"heatmapgl\",\"colorbar\":{\"outlinewidth\":0,\"ticks\":\"\"},\"colorscale\":[[0.0,\"#0d0887\"],[0.1111111111111111,\"#46039f\"],[0.2222222222222222,\"#7201a8\"],[0.3333333333333333,\"#9c179e\"],[0.4444444444444444,\"#bd3786\"],[0.5555555555555556,\"#d8576b\"],[0.6666666666666666,\"#ed7953\"],[0.7777777777777778,\"#fb9f3a\"],[0.8888888888888888,\"#fdca26\"],[1.0,\"#f0f921\"]]}],\"contourcarpet\":[{\"type\":\"contourcarpet\",\"colorbar\":{\"outlinewidth\":0,\"ticks\":\"\"}}],\"contour\":[{\"type\":\"contour\",\"colorbar\":{\"outlinewidth\":0,\"ticks\":\"\"},\"colorscale\":[[0.0,\"#0d0887\"],[0.1111111111111111,\"#46039f\"],[0.2222222222222222,\"#7201a8\"],[0.3333333333333333,\"#9c179e\"],[0.4444444444444444,\"#bd3786\"],[0.5555555555555556,\"#d8576b\"],[0.6666666666666666,\"#ed7953\"],[0.7777777777777778,\"#fb9f3a\"],[0.8888888888888888,\"#fdca26\"],[1.0,\"#f0f921\"]]}],\"surface\":[{\"type\":\"surface\",\"colorbar\":{\"outlinewidth\":0,\"ticks\":\"\"},\"colorscale\":[[0.0,\"#0d0887\"],[0.1111111111111111,\"#46039f\"],[0.2222222222222222,\"#7201a8\"],[0.3333333333333333,\"#9c179e\"],[0.4444444444444444,\"#bd3786\"],[0.5555555555555556,\"#d8576b\"],[0.6666666666666666,\"#ed7953\"],[0.7777777777777778,\"#fb9f3a\"],[0.8888888888888888,\"#fdca26\"],[1.0,\"#f0f921\"]]}],\"mesh3d\":[{\"type\":\"mesh3d\",\"colorbar\":{\"outlinewidth\":0,\"ticks\":\"\"}}],\"scatter\":[{\"fillpattern\":{\"fillmode\":\"overlay\",\"size\":10,\"solidity\":0.2},\"type\":\"scatter\"}],\"parcoords\":[{\"type\":\"parcoords\",\"line\":{\"colorbar\":{\"outlinewidth\":0,\"ticks\":\"\"}}}],\"scatterpolargl\":[{\"type\":\"scatterpolargl\",\"marker\":{\"colorbar\":{\"outlinewidth\":0,\"ticks\":\"\"}}}],\"bar\":[{\"error_x\":{\"color\":\"#2a3f5f\"},\"error_y\":{\"color\":\"#2a3f5f\"},\"marker\":{\"line\":{\"color\":\"#E5ECF6\",\"width\":0.5},\"pattern\":{\"fillmode\":\"overlay\",\"size\":10,\"solidity\":0.2}},\"type\":\"bar\"}],\"scattergeo\":[{\"type\":\"scattergeo\",\"marker\":{\"colorbar\":{\"outlinewidth\":0,\"ticks\":\"\"}}}],\"scatterpolar\":[{\"type\":\"scatterpolar\",\"marker\":{\"colorbar\":{\"outlinewidth\":0,\"ticks\":\"\"}}}],\"histogram\":[{\"marker\":{\"pattern\":{\"fillmode\":\"overlay\",\"size\":10,\"solidity\":0.2}},\"type\":\"histogram\"}],\"scattergl\":[{\"type\":\"scattergl\",\"marker\":{\"colorbar\":{\"outlinewidth\":0,\"ticks\":\"\"}}}],\"scatter3d\":[{\"type\":\"scatter3d\",\"line\":{\"colorbar\":{\"outlinewidth\":0,\"ticks\":\"\"}},\"marker\":{\"colorbar\":{\"outlinewidth\":0,\"ticks\":\"\"}}}],\"scattermapbox\":[{\"type\":\"scattermapbox\",\"marker\":{\"colorbar\":{\"outlinewidth\":0,\"ticks\":\"\"}}}],\"scatterternary\":[{\"type\":\"scatterternary\",\"marker\":{\"colorbar\":{\"outlinewidth\":0,\"ticks\":\"\"}}}],\"scattercarpet\":[{\"type\":\"scattercarpet\",\"marker\":{\"colorbar\":{\"outlinewidth\":0,\"ticks\":\"\"}}}],\"carpet\":[{\"aaxis\":{\"endlinecolor\":\"#2a3f5f\",\"gridcolor\":\"white\",\"linecolor\":\"white\",\"minorgridcolor\":\"white\",\"startlinecolor\":\"#2a3f5f\"},\"baxis\":{\"endlinecolor\":\"#2a3f5f\",\"gridcolor\":\"white\",\"linecolor\":\"white\",\"minorgridcolor\":\"white\",\"startlinecolor\":\"#2a3f5f\"},\"type\":\"carpet\"}],\"table\":[{\"cells\":{\"fill\":{\"color\":\"#EBF0F8\"},\"line\":{\"color\":\"white\"}},\"header\":{\"fill\":{\"color\":\"#C8D4E3\"},\"line\":{\"color\":\"white\"}},\"type\":\"table\"}],\"barpolar\":[{\"marker\":{\"line\":{\"color\":\"#E5ECF6\",\"width\":0.5},\"pattern\":{\"fillmode\":\"overlay\",\"size\":10,\"solidity\":0.2}},\"type\":\"barpolar\"}],\"pie\":[{\"automargin\":true,\"type\":\"pie\"}]},\"layout\":{\"autotypenumbers\":\"strict\",\"colorway\":[\"#636efa\",\"#EF553B\",\"#00cc96\",\"#ab63fa\",\"#FFA15A\",\"#19d3f3\",\"#FF6692\",\"#B6E880\",\"#FF97FF\",\"#FECB52\"],\"font\":{\"color\":\"#2a3f5f\"},\"hovermode\":\"closest\",\"hoverlabel\":{\"align\":\"left\"},\"paper_bgcolor\":\"white\",\"plot_bgcolor\":\"#E5ECF6\",\"polar\":{\"bgcolor\":\"#E5ECF6\",\"angularaxis\":{\"gridcolor\":\"white\",\"linecolor\":\"white\",\"ticks\":\"\"},\"radialaxis\":{\"gridcolor\":\"white\",\"linecolor\":\"white\",\"ticks\":\"\"}},\"ternary\":{\"bgcolor\":\"#E5ECF6\",\"aaxis\":{\"gridcolor\":\"white\",\"linecolor\":\"white\",\"ticks\":\"\"},\"baxis\":{\"gridcolor\":\"white\",\"linecolor\":\"white\",\"ticks\":\"\"},\"caxis\":{\"gridcolor\":\"white\",\"linecolor\":\"white\",\"ticks\":\"\"}},\"coloraxis\":{\"colorbar\":{\"outlinewidth\":0,\"ticks\":\"\"}},\"colorscale\":{\"sequential\":[[0.0,\"#0d0887\"],[0.1111111111111111,\"#46039f\"],[0.2222222222222222,\"#7201a8\"],[0.3333333333333333,\"#9c179e\"],[0.4444444444444444,\"#bd3786\"],[0.5555555555555556,\"#d8576b\"],[0.6666666666666666,\"#ed7953\"],[0.7777777777777778,\"#fb9f3a\"],[0.8888888888888888,\"#fdca26\"],[1.0,\"#f0f921\"]],\"sequentialminus\":[[0.0,\"#0d0887\"],[0.1111111111111111,\"#46039f\"],[0.2222222222222222,\"#7201a8\"],[0.3333333333333333,\"#9c179e\"],[0.4444444444444444,\"#bd3786\"],[0.5555555555555556,\"#d8576b\"],[0.6666666666666666,\"#ed7953\"],[0.7777777777777778,\"#fb9f3a\"],[0.8888888888888888,\"#fdca26\"],[1.0,\"#f0f921\"]],\"diverging\":[[0,\"#8e0152\"],[0.1,\"#c51b7d\"],[0.2,\"#de77ae\"],[0.3,\"#f1b6da\"],[0.4,\"#fde0ef\"],[0.5,\"#f7f7f7\"],[0.6,\"#e6f5d0\"],[0.7,\"#b8e186\"],[0.8,\"#7fbc41\"],[0.9,\"#4d9221\"],[1,\"#276419\"]]},\"xaxis\":{\"gridcolor\":\"white\",\"linecolor\":\"white\",\"ticks\":\"\",\"title\":{\"standoff\":15},\"zerolinecolor\":\"white\",\"automargin\":true,\"zerolinewidth\":2},\"yaxis\":{\"gridcolor\":\"white\",\"linecolor\":\"white\",\"ticks\":\"\",\"title\":{\"standoff\":15},\"zerolinecolor\":\"white\",\"automargin\":true,\"zerolinewidth\":2},\"scene\":{\"xaxis\":{\"backgroundcolor\":\"#E5ECF6\",\"gridcolor\":\"white\",\"linecolor\":\"white\",\"showbackground\":true,\"ticks\":\"\",\"zerolinecolor\":\"white\",\"gridwidth\":2},\"yaxis\":{\"backgroundcolor\":\"#E5ECF6\",\"gridcolor\":\"white\",\"linecolor\":\"white\",\"showbackground\":true,\"ticks\":\"\",\"zerolinecolor\":\"white\",\"gridwidth\":2},\"zaxis\":{\"backgroundcolor\":\"#E5ECF6\",\"gridcolor\":\"white\",\"linecolor\":\"white\",\"showbackground\":true,\"ticks\":\"\",\"zerolinecolor\":\"white\",\"gridwidth\":2}},\"shapedefaults\":{\"line\":{\"color\":\"#2a3f5f\"}},\"annotationdefaults\":{\"arrowcolor\":\"#2a3f5f\",\"arrowhead\":0,\"arrowwidth\":1},\"geo\":{\"bgcolor\":\"white\",\"landcolor\":\"#E5ECF6\",\"subunitcolor\":\"white\",\"showland\":true,\"showlakes\":true,\"lakecolor\":\"white\"},\"title\":{\"x\":0.05},\"mapbox\":{\"style\":\"light\"}}},\"xaxis\":{\"anchor\":\"y\",\"domain\":[0.0,1.0],\"title\":{\"text\":\"Average Heart Rate (bpm)\"}},\"yaxis\":{\"anchor\":\"x\",\"domain\":[0.0,1.0],\"title\":{\"text\":\"Calories Burned\"}},\"legend\":{\"title\":{\"text\":\"Metric\"},\"tracegroupgap\":0,\"itemsizing\":\"constant\"},\"title\":{\"text\":\"Calories Burned vs. Average Heart Rate by Workout Type\"}},                        {\"responsive\": true}                    ).then(function(){\n",
       "                            \n",
       "var gd = document.getElementById('b3319b9f-fe6c-4de7-8e9d-023b166126af');\n",
       "var x = new MutationObserver(function (mutations, observer) {{\n",
       "        var display = window.getComputedStyle(gd).display;\n",
       "        if (!display || display === 'none') {{\n",
       "            console.log([gd, 'removed!']);\n",
       "            Plotly.purge(gd);\n",
       "            observer.disconnect();\n",
       "        }}\n",
       "}});\n",
       "\n",
       "// Listen for the removal of the full notebook cells\n",
       "var notebookContainer = gd.closest('#notebook-container');\n",
       "if (notebookContainer) {{\n",
       "    x.observe(notebookContainer, {childList: true});\n",
       "}}\n",
       "\n",
       "// Listen for the clearing of the current output cell\n",
       "var outputEl = gd.closest('.output');\n",
       "if (outputEl) {{\n",
       "    x.observe(outputEl, {childList: true});\n",
       "}}\n",
       "\n",
       "                        })                };                });            </script>        </div>"
      ]
     },
     "metadata": {},
     "output_type": "display_data"
    }
   ],
   "source": [
    "workout_plot = pe.scatter(\n",
    "    df,\n",
    "    x='workout_avg_hr',\n",
    "    y='workout_calories',\n",
    "    color='workout_type',\n",
    "    size='workout_duration_minutes',\n",
    "    title='Calories Burned vs. Average Heart Rate by Workout Type',\n",
    "    labels={'workout_avg_hr': 'Average Heart Rate (bpm)', 'workout_calories': 'Calories Burned', 'workout_type': 'Metric'},\n",
    "    hover_data=['fat_burn_minutes']\n",
    ")\n",
    "workout_plot.show()"
   ]
  },
  {
   "cell_type": "code",
   "execution_count": null,
   "id": "5b3e45da-7c77-4c7e-bdaf-6fae20f701a5",
   "metadata": {},
   "outputs": [],
   "source": []
  }
 ],
 "metadata": {
  "colab": {
   "name": "Welcome to DataCamp Workspaces.ipynb",
   "provenance": []
  },
  "kernelspec": {
   "display_name": "Python 3 (ipykernel)",
   "language": "python",
   "name": "python3"
  },
  "language_info": {
   "codemirror_mode": {
    "name": "ipython",
    "version": 3
   },
   "file_extension": ".py",
   "mimetype": "text/x-python",
   "name": "python",
   "nbconvert_exporter": "python",
   "pygments_lexer": "ipython3",
   "version": "3.13.0"
  }
 },
 "nbformat": 4,
 "nbformat_minor": 5
}


